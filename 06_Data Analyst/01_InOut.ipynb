{
 "cells": [
  {
   "cell_type": "code",
   "execution_count": 2,
   "metadata": {},
   "outputs": [],
   "source": [
    "import pandas as pd\n",
    "import re\n",
    "import os.path\n",
    "import codecs as cd\n",
    "import glob  \n"
   ]
  },
  {
   "cell_type": "code",
   "execution_count": 4,
   "metadata": {},
   "outputs": [],
   "source": [
    "class inputFile:\n",
    "    ''\n",
    "        \n",
    "    def get_Extension(url):\n",
    "        return os.path.splitext(url)[1]\n",
    "    \n",
    "class read_csv:\n",
    "    ''\n",
    "    \n",
    "    # Read file into self\n",
    "    def __init__(self, url):\n",
    "        with cd.open(url, \"r\", \"Shift-JIS\", \"ignore\") as csv_file:\n",
    "            self.df = pd.read_table(csv_file, sep=',')\n",
    "            \n",
    "    # Get file with Pandas Data Type\n",
    "    def readfile(self):\n",
    "        return self.df\n",
    "    \n",
    "    # Show top n rows\n",
    "    def show_top(self, n):\n",
    "        return self.df[0: n]\n",
    "    \n",
    "    # Get columns name\n",
    "    def get_colName(self):\n",
    "        return self.df.columns"
   ]
  },
  {
   "cell_type": "code",
   "execution_count": 5,
   "metadata": {},
   "outputs": [
    {
     "name": "stderr",
     "output_type": "stream",
     "text": [
      "C:\\Users\\lucnm\\Anaconda3\\lib\\site-packages\\IPython\\core\\interactiveshell.py:2850: DtypeWarning: Columns (0,7,8,9,17,34,36) have mixed types. Specify dtype option on import or set low_memory=False.\n",
      "  if self.run_code(code, result):\n"
     ]
    }
   ],
   "source": [
    "URL = r'D:\\01_Project\\Lixil Analysis\\input\\data\\faq.csv'\n",
    "\n",
    "# inputFile.get_Extension(URL)\n",
    "\n",
    "file = read_csv(URL)"
   ]
  },
  {
   "cell_type": "code",
   "execution_count": 6,
   "metadata": {},
   "outputs": [
    {
     "data": {
      "text/plain": [
       "Index(['FAQID', '質問', '回答', '特記事項', '質問（HTML）', '回答（HTML）', '特記事項（HTML）',\n",
       "       '質問（携帯）', '回答（携帯）', '質問（携帯HTML）', '回答（携帯HTML）', 'カテゴリ', '参照区分', '参照レベル',\n",
       "       '新着表示', 'ランキング表示', 'アンケート表示', '優先度', 'キーワード（手動）', '関連FAQ', '公開開始日',\n",
       "       '公開終了日', '作成日', '作成者ID', '最終更新日', '更新者ID', '添付ファイル', '属性:ブランド',\n",
       "       '属性:販売区分', '属性:目的', '属性:商品カテゴリ１', '属性:商品カテゴリ２', '属性:商品カテゴリ３',\n",
       "       '属性:商品カテゴリ４', '属性:住設FAQNo', '属性:目的属性名', '属性:削除用データ', '属性:削除用キー'],\n",
       "      dtype='object')"
      ]
     },
     "execution_count": 6,
     "metadata": {},
     "output_type": "execute_result"
    }
   ],
   "source": [
    "file.get_colName()"
   ]
  },
  {
   "cell_type": "code",
   "execution_count": 7,
   "metadata": {},
   "outputs": [
    {
     "ename": "AttributeError",
     "evalue": "'read_csv' object has no attribute 'columns'",
     "output_type": "error",
     "traceback": [
      "\u001b[1;31m---------------------------------------------------------------------------\u001b[0m",
      "\u001b[1;31mAttributeError\u001b[0m                            Traceback (most recent call last)",
      "\u001b[1;32m<ipython-input-7-eeddbf975e34>\u001b[0m in \u001b[0;36m<module>\u001b[1;34m()\u001b[0m\n\u001b[1;32m----> 1\u001b[1;33m \u001b[0mfile\u001b[0m\u001b[1;33m.\u001b[0m\u001b[0mcolumns\u001b[0m\u001b[1;33m\u001b[0m\u001b[0m\n\u001b[0m",
      "\u001b[1;31mAttributeError\u001b[0m: 'read_csv' object has no attribute 'columns'"
     ]
    }
   ],
   "source": [
    "file.columns"
   ]
  },
  {
   "cell_type": "code",
   "execution_count": 21,
   "metadata": {},
   "outputs": [
    {
     "name": "stdout",
     "output_type": "stream",
     "text": [
      "<class 'str'>\n",
      "<class 'str'>\n",
      "<class 'str'>\n"
     ]
    }
   ],
   "source": [
    "URL1 = r'D:\\01_Project\\Lixil Analysis\\input\\data\\*.csv'\n",
    "files = glob.glob(URL1)\n",
    "for fn in files:  \n",
    "    print(type((str.split(fn, '\\\\')[-1:])[0]))"
   ]
  },
  {
   "cell_type": "code",
   "execution_count": null,
   "metadata": {},
   "outputs": [],
   "source": []
  }
 ],
 "metadata": {
  "kernelspec": {
   "display_name": "Python 3",
   "language": "python",
   "name": "python3"
  },
  "language_info": {
   "codemirror_mode": {
    "name": "ipython",
    "version": 3
   },
   "file_extension": ".py",
   "mimetype": "text/x-python",
   "name": "python",
   "nbconvert_exporter": "python",
   "pygments_lexer": "ipython3",
   "version": "3.6.4"
  }
 },
 "nbformat": 4,
 "nbformat_minor": 2
}
