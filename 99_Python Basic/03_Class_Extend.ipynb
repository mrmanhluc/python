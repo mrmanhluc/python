{
 "cells": [
  {
   "cell_type": "code",
   "execution_count": 2,
   "metadata": {},
   "outputs": [],
   "source": [
    "import numpy as np\n",
    "import pandas as pd\n",
    "import matplotlib.pyplot as pld"
   ]
  },
  {
   "cell_type": "code",
   "execution_count": 118,
   "metadata": {},
   "outputs": [],
   "source": [
    "class Rectangle:\n",
    "    'This is Rectangle class'\n",
    "    \n",
    "    def __init__(self, width, height):\n",
    "        self.width = width\n",
    "        self.height = height\n",
    "        \n",
    "    def getWidth(self):\n",
    "        return self.width\n",
    "    \n",
    "    def getHeight(self):\n",
    "        return self.height\n",
    "    \n",
    "    def getArea(self):\n",
    "        return self.width * self.height\n",
    "\n",
    "class Persion:\n",
    "    'This class is save about persion information'\n",
    "    \n",
    "    def __init__(self, name, age, gender = 'Male'):\n",
    "        self.name = name\n",
    "        self.age = age\n",
    "        self.gender = gender\n",
    "        \n",
    "    def showInfor(self):\n",
    "        print('Name : ', self.name)\n",
    "        print('Age : ',self.age)\n",
    "        print('Gendee : ', self.gender)\n",
    "\n",
    "class Player:\n",
    "    'This is player function'\n",
    "    # Biến Static của Class (Biến của lớp) - Class's variable\n",
    "    # self.name goi la atribute của class\n",
    "    min_age, max_age = [10, 30]\n",
    "    \n",
    "    def __init__(self, name, age):\n",
    "        self.name = name\n",
    "        self.age = age\n",
    "    \n",
    "    "
   ]
  },
  {
   "cell_type": "code",
   "execution_count": 119,
   "metadata": {},
   "outputs": [
    {
     "name": "stdout",
     "output_type": "stream",
     "text": [
      "Name :  Luc\n",
      "Age :  39\n",
      "Gendee :  Male\n",
      "Name :  Tuan\n",
      "Age :  39\n",
      "Gendee :  Male\n",
      "Name :  Tuan\n",
      "Age :  39\n",
      "Gendee :  Male\n"
     ]
    },
    {
     "data": {
      "text/plain": [
       "True"
      ]
     },
     "execution_count": 119,
     "metadata": {},
     "output_type": "execute_result"
    }
   ],
   "source": [
    "r1 = Rectangle(10, 15)\n",
    "r2 = Rectangle(20, 11)\n",
    "\n",
    "r1.getArea()\n",
    "r2.getArea()\n",
    "\n",
    "persion1 = Persion('Luc', 39)\n",
    "persion1.showInfor()\n",
    "\n",
    "persion2 = persion1\n",
    "persion2.name = 'Tuan'\n",
    "\n",
    "# Persion2 la con tro tro toi persion 1\n",
    "# khi persion 2 thay doi, gia tri cua persion 1 cung thay doi\n",
    "persion2.showInfor()\n",
    "persion1.showInfor()\n",
    "\n",
    "persion1 == persion2"
   ]
  },
  {
   "cell_type": "code",
   "execution_count": 123,
   "metadata": {},
   "outputs": [
    {
     "name": "stdout",
     "output_type": "stream",
     "text": [
      "1628140224\n",
      "1628140224\n",
      "1628139904\n"
     ]
    }
   ],
   "source": [
    "# Test attribute player\n",
    "player1 = Player('Luc', 20)\n",
    "player2 = Player('Thu', 15)\n",
    "\n",
    "player2.age = 30\n",
    "player2.address = 'Khu pho 3 thi tran yen cat'\n",
    "\n",
    "player2.address\n",
    "\n",
    "#Cach truy cap toi attribute bang cach khac thay vi dau .\n",
    "# Thay vi player2.address, co the thay bang ham getattr\n",
    "getattr(player2, 'address')\n",
    "\n",
    "# Kiem tra doi tuong co Attribute hay khong\n",
    "# player 2 co chua attribute 'adress', ket qua tra ve la true\n",
    "hasattr(player2, 'address')\n",
    "\n",
    "# player 1 khong chua attribute 'Address', ket qua tra ve false\n",
    "hasattr(player1, 'address')\n",
    "\n",
    "# Set gia tri cho attribute, neu attribute khong ton tai thi tao ra\n",
    "setattr(player1, 'address', 'Cho Lach, Ben Tre')\n",
    "getattr(player1, 'address')\n",
    "hasattr(player1, 'address')\n",
    "\n",
    "player1.min_age = 30\n",
    "player1.min_age\n",
    "\n",
    "player2.min_age\n",
    "player1.min_age\n",
    "\n",
    "Player.min_age = 40\n",
    "\n",
    "player1.min_age \n",
    "\n",
    "# Lưu ý : \n",
    "print(id(player2.min_age))\n",
    "print(id(Player.min_age))\n",
    "print(id(player1.min_age))"
   ]
  },
  {
   "cell_type": "code",
   "execution_count": 137,
   "metadata": {},
   "outputs": [],
   "source": [
    "class Animal:\n",
    "    def __init__(self, name):\n",
    "        # attribute la name\n",
    "        self.name = name\n",
    "    \n",
    "    def showInfo(self):\n",
    "        print ('Iam '+self.name)\n",
    "        \n",
    "    def move(self):\n",
    "        print('Moving...')\n",
    "        \n",
    "class Cat(Animal):\n",
    "    'Cat is class extends from Animal'\n",
    "    \n",
    "    def __init__(self, name, age, height):\n",
    "        super().__init__(name)\n",
    "        self.age = age\n",
    "        self.height = height\n",
    "        \n",
    "    # Overight show_infor function\n",
    "    def showInfo(self):\n",
    "        print('Iam ' + self.name)\n",
    "        print('Age : ', self.age)\n",
    "        print('Height : ', self.height)\n",
    "        \n",
    "class Mouse(Animal):\n",
    "    def __init__(self, name, age, hight):\n",
    "        super().__init__(name)\n",
    "        self.age = age\n",
    "        self.hight = hight\n",
    "        \n",
    "    def showInfo(self):\n",
    "        super().showInfo()\n",
    "        print('Age : ', self.age)\n",
    "        print('Heigh : ', self.hight)\n",
    "        \n",
    "    def move(self):\n",
    "        print('Mouse moving..')\n"
   ]
  },
  {
   "cell_type": "code",
   "execution_count": 139,
   "metadata": {},
   "outputs": [
    {
     "name": "stdout",
     "output_type": "stream",
     "text": [
      "Iam Tom Jerry\n",
      "Age :  18\n",
      "Height :  30\n",
      "Iam Jerry\n",
      "Age :  5\n",
      "Heigh :  5\n",
      "Mouse moving..\n"
     ]
    }
   ],
   "source": [
    "tom = Cat('Tom Jerry', 18, 30)\n",
    "tom.showInfo()\n",
    "\n",
    "jerry = Mouse('Jerry', 5, 5)\n",
    "jerry.showInfo()\n",
    "jerry.move()"
   ]
  },
  {
   "cell_type": "code",
   "execution_count": 140,
   "metadata": {},
   "outputs": [],
   "source": [
    "# Class truu tuong. Abstract class\n",
    "class AbstractDocument:\n",
    "    def __init__(self, name):\n",
    "        self.name = name\n",
    "        \n",
    "    def show(self):\n",
    "        raise NotImplementedError('Subclass must implement abstract method')\n",
    "    \n",
    "class PDF(AbstractDocument):\n",
    "    def show(self):\n",
    "        print('Show PDF document :', self.name)\n",
    "        \n",
    "class Word(AbstractDocument):\n",
    "    def show(self):\n",
    "        print('Show word document :', self.name)"
   ]
  },
  {
   "cell_type": "code",
   "execution_count": 143,
   "metadata": {},
   "outputs": [
    {
     "name": "stdout",
     "output_type": "stream",
     "text": [
      "Show PDF document : PDF Document\n",
      "Show word document : Word Document\n"
     ]
    }
   ],
   "source": [
    "documents = [PDF('PDF Document'), Word('Word Document')]\n",
    "\n",
    "for doc in documents:\n",
    "    doc.show()"
   ]
  },
  {
   "cell_type": "code",
   "execution_count": 161,
   "metadata": {},
   "outputs": [],
   "source": [
    "class Horse:\n",
    "    maxHeight = 200\n",
    "    \n",
    "    def __init__(self, name, horse_hair):\n",
    "        self.name = name\n",
    "        self.horse_hair = horse_hair\n",
    "        \n",
    "    def run(self):\n",
    "        print('Horse is run')\n",
    "        \n",
    "    def showName(self):\n",
    "        print('Name : (Hourse of method ) : ', self.name)\n",
    "    \n",
    "    def showInfo(self):\n",
    "        print('Horse Info')\n",
    "        \n",
    "class Donkey:\n",
    "    def __init__(self, name, weight):\n",
    "        self.name = name\n",
    "        self.wight = weight\n",
    "        \n",
    "    def run(self):\n",
    "        print('Donkey run')\n",
    "        \n",
    "    def showName(self):\n",
    "        print('Name : (Donkey of method): ', self.name)\n",
    "        \n",
    "    def showInfo(self):\n",
    "        print('Donkey info')\n",
    "        \n",
    "class Mule(Horse, Donkey):\n",
    "    \n",
    "    def __init__(self, name, hair, weight):\n",
    "        Horse.__init__(self, name, hair)\n",
    "        Donkey.__init__(self, name, weight)\n",
    "    \n",
    "    def run(self):\n",
    "        print('Mule Run')\n",
    "        \n",
    "    def showInfo(self):\n",
    "        print('-- Call Mule.showInfo')\n",
    "        Horse.showInfo(self)\n",
    "        Donkey.showInfo(self)"
   ]
  },
  {
   "cell_type": "code",
   "execution_count": 180,
   "metadata": {},
   "outputs": [
    {
     "name": "stdout",
     "output_type": "stream",
     "text": [
      "Max Height : 200\n",
      "Mule Run\n",
      "Name : (Hourse of method ) :  Mule\n",
      "-- Call Mule.showInfo\n",
      "Horse Info\n",
      "Donkey info\n"
     ]
    },
    {
     "data": {
      "text/plain": [
       "True"
      ]
     },
     "execution_count": 180,
     "metadata": {},
     "output_type": "execute_result"
    }
   ],
   "source": [
    "print('Max Height :', Mule.maxHeight)\n",
    "mule = Mule('Mule', 'Red',1000)\n",
    "\n",
    "mule.run()\n",
    "\n",
    "mule.showName()\n",
    "\n",
    "mule.showInfo()\n",
    "\n",
    "horse = Horse('Bach Ma', 'White')\n",
    "\n",
    "issubclass(Mule, Mule)"
   ]
  },
  {
   "cell_type": "code",
   "execution_count": 184,
   "metadata": {},
   "outputs": [
    {
     "name": "stdout",
     "output_type": "stream",
     "text": [
      "Bonjour\n"
     ]
    }
   ],
   "source": [
    "# Tinh da hinh trong Class\n",
    "\n",
    "class English:\n",
    "    def greeting(self):\n",
    "        print('Hello')\n",
    "        \n",
    "class French:\n",
    "    def greeting(self):\n",
    "        print('Bonjour')\n",
    "        \n",
    "def intro(language):\n",
    "    language.greeting()\n",
    "\n",
    "flora = English()\n",
    "aalase = French()\n",
    "\n",
    "intro(aalase)"
   ]
  },
  {
   "cell_type": "code",
   "execution_count": null,
   "metadata": {},
   "outputs": [],
   "source": []
  }
 ],
 "metadata": {
  "kernelspec": {
   "display_name": "Python 3",
   "language": "python",
   "name": "python3"
  },
  "language_info": {
   "codemirror_mode": {
    "name": "ipython",
    "version": 3
   },
   "file_extension": ".py",
   "mimetype": "text/x-python",
   "name": "python",
   "nbconvert_exporter": "python",
   "pygments_lexer": "ipython3",
   "version": "3.6.4"
  }
 },
 "nbformat": 4,
 "nbformat_minor": 2
}
