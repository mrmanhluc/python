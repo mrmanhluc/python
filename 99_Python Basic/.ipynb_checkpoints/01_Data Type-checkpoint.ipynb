{
 "cells": [
  {
   "cell_type": "markdown",
   "metadata": {},
   "source": [
    "# I. Basic Data Type\n",
    "\n",
    "Sử dụng khi cần pair 2 columns với nhau.\n",
    "Name : ('Lực', 'Thư')\n",
    "Mark : (8, 9)"
   ]
  },
  {
   "cell_type": "code",
   "execution_count": 51,
   "metadata": {},
   "outputs": [],
   "source": [
    "import numpy as np\n",
    "import pandas as pd"
   ]
  },
  {
   "cell_type": "markdown",
   "metadata": {},
   "source": [
    "# 1. List"
   ]
  },
  {
   "cell_type": "code",
   "execution_count": 52,
   "metadata": {},
   "outputs": [
    {
     "data": {
      "text/plain": [
       "'Name C'"
      ]
     },
     "execution_count": 52,
     "metadata": {},
     "output_type": "execute_result"
    }
   ],
   "source": [
    "name = []\n",
    "name.extend(['Name A', 'Name B', 'Name C'])\n",
    "\n",
    "# Get data with index\n",
    "name.index('Name A')\n",
    "\n",
    "# Get last items - Stack (First in last out FILO) - FIFO - Queue\n",
    "name.pop()"
   ]
  },
  {
   "cell_type": "code",
   "execution_count": 53,
   "metadata": {},
   "outputs": [],
   "source": [
    "x1 = [1,'b']\n",
    "x2 = [2, 'a']\n",
    "\n",
    "x = []\n",
    "x.append(x2)\n",
    "x.append(x1)\n",
    "\n",
    "# Cũng có thể sử dụng sorted(x)\n",
    "x.sort()"
   ]
  },
  {
   "cell_type": "markdown",
   "metadata": {},
   "source": [
    "## 2. Tuple"
   ]
  },
  {
   "cell_type": "code",
   "execution_count": 54,
   "metadata": {},
   "outputs": [
    {
     "name": "stdout",
     "output_type": "stream",
     "text": [
      "luc 8\n",
      "thu 9\n",
      "0 ('luc', 8)\n",
      "1 ('thu', 9)\n"
     ]
    }
   ],
   "source": [
    "# Cách sử dụng Tubple  : Tuple data\n",
    "x1 = ('luc', 'thu')\n",
    "x2 = (8, 9)\n",
    "\n",
    "# Ghép đôi 2 column với nhau (Pair)\n",
    "z = zip(x1,x2)\n",
    "\n",
    "# Select theo columns\n",
    "for name, mark in z:\n",
    "    print(name, mark)\n",
    "    \n",
    "z = zip(x1, x2)\n",
    "# Select su dung enumerate\n",
    "for name, mark in enumerate(z):\n",
    "    print(name, mark)"
   ]
  },
  {
   "cell_type": "code",
   "execution_count": 55,
   "metadata": {},
   "outputs": [
    {
     "name": "stdout",
     "output_type": "stream",
     "text": [
      "0 luc 8\n",
      "1 thu 9\n",
      "0 ('luc', 8)\n",
      "1 ('thu', 9)\n"
     ]
    }
   ],
   "source": [
    "z = zip(x1, x2)\n",
    "#Su dung enumerate với chỉ số i\n",
    "for i, (name, mark) in enumerate(z):\n",
    "    print(i, name, mark)\n",
    "    \n",
    "z = zip(x1, x2)\n",
    "#Su dung enumerate\n",
    "for i, pair in enumerate(z):\n",
    "    print(i, pair)"
   ]
  },
  {
   "cell_type": "markdown",
   "metadata": {},
   "source": [
    "### Chú ý khi sử dụng Tuple\n",
    "\n",
    "str = 'abc' sẽ được coi là string str = 'abc', sẽ được coi là tuple"
   ]
  },
  {
   "cell_type": "code",
   "execution_count": 149,
   "metadata": {},
   "outputs": [
    {
     "name": "stdout",
     "output_type": "stream",
     "text": [
      "<class 'str'>\n",
      "<class 'tuple'>\n"
     ]
    }
   ],
   "source": [
    "nomal = 'simple'\n",
    "error = 'training coma',\n",
    "\n",
    "print(type(nomal))\n",
    "print(type(error))"
   ]
  },
  {
   "cell_type": "markdown",
   "metadata": {},
   "source": [
    "# 3. Set"
   ]
  },
  {
   "cell_type": "code",
   "execution_count": 56,
   "metadata": {},
   "outputs": [
    {
     "name": "stdout",
     "output_type": "stream",
     "text": [
      "{'B', 'A'}\n",
      "{'D', 'A', 'E', 'B', 'C', 'F'}\n",
      "{'B', 'A'}\n"
     ]
    },
    {
     "data": {
      "text/plain": [
       "{'B', 'C', 'D'}"
      ]
     },
     "execution_count": 56,
     "metadata": {},
     "output_type": "execute_result"
    }
   ],
   "source": [
    "setA = set(['A', 'B', 'C', 'D'])\n",
    "setB = set(['A', 'B', 'E', 'F'])\n",
    "setC = set(['A', 'B'])\n",
    "# A Not in B\n",
    "print(setC)\n",
    "\n",
    "# Union set A va set B\n",
    "setD = setA|setB\n",
    "print(setD)\n",
    "\n",
    "# Merger setA va setB\n",
    "setE = setA & setB\n",
    "print(setE)\n",
    "\n",
    "# Test is subset\n",
    "setC.issubset(setA)\n",
    "\n",
    "# Update Set\n",
    "#setC.update(['G'])\n",
    "setC\n",
    "\n",
    "# Discard 1 phan tu\n",
    "setA.discard('A')\n",
    "setA"
   ]
  },
  {
   "cell_type": "markdown",
   "metadata": {},
   "source": [
    "# Tổng hợp các type"
   ]
  },
  {
   "cell_type": "markdown",
   "metadata": {},
   "source": [
    "### Kiểu Tuple\n",
    "x1 = ('student a', 'student b', 'student a')\n",
    "\n",
    "### Kiểu List\n",
    "x2 = ['student a', 'student b', 'student c']\n",
    "\n",
    "### Kiểu List, trong list chứa Tuple\n",
    "x3 = [('student a', 'student b', 'student c')]\n",
    "\n",
    "### Kiểu Sets \n",
    "x4 = {'Student a', 'Student b', 'Student a', 'Student b'}\n",
    "\n",
    "### Kiểu Dict\n",
    "x5 = {\n",
    "         'col1': [1, 2, 3],\n",
    "         'col2': [3, 4, 5],\n",
    "     } "
   ]
  },
  {
   "cell_type": "markdown",
   "metadata": {},
   "source": [
    "# 2. Pandas"
   ]
  },
  {
   "cell_type": "code",
   "execution_count": null,
   "metadata": {},
   "outputs": [],
   "source": []
  },
  {
   "cell_type": "code",
   "execution_count": 1,
   "metadata": {},
   "outputs": [],
   "source": [
    "setA = set(['A', 'B', 'C', 'D'])\n",
    "setB = set(['A', 'B', 'E', 'F'])\n",
    "setC = set(['A'])\n",
    "\n",
    "setC"
   ]
  },
  {
   "cell_type": "code",
   "execution_count": null,
   "metadata": {},
   "outputs": [],
   "source": []
  }
 ],
 "metadata": {
  "kernelspec": {
   "display_name": "Python 3",
   "language": "python",
   "name": "python3"
  },
  "language_info": {
   "codemirror_mode": {
    "name": "ipython",
    "version": 3
   },
   "file_extension": ".py",
   "mimetype": "text/x-python",
   "name": "python",
   "nbconvert_exporter": "python",
   "pygments_lexer": "ipython3",
   "version": "3.6.4"
  }
 },
 "nbformat": 4,
 "nbformat_minor": 2
}
