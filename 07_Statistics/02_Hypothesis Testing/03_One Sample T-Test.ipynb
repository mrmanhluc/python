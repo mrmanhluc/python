{
 "cells": [
  {
   "cell_type": "markdown",
   "metadata": {},
   "source": [
    "### Bài toán thực tế.\n",
    "\n",
    "Công ty samsung nhận nhiều khiếu nại về việc Pin của họ gặp lỗi khiến máy nóng hơn so với bình thường.\n",
    "\n",
    "Theo tính toán, nhiệt độ trung bình đạt tiêu chuẩn là 30 độ.\n",
    "\n",
    "Theo luật, công ty phải thu hồi toàn bộ sản phẩm đã bán nếu nhiệt độ trung bình của  (95% số lượng) có nhiệt độ trung bình > 5% nhiệt độ tiêu chuẩn.\n",
    "\n",
    "Các bước mà công ty samsung tiến hành điều tra về tình trạng về số lượng sản phẩm gặp phải như sau.\n",
    "\n",
    "H0 : Máy có nhiệt độ trung bình > 30 độ.\n",
    "H1 : Máy có nhiệt độ trung bình <= 30 độ"
   ]
  },
  {
   "cell_type": "markdown",
   "metadata": {},
   "source": [
    "### Step 1 : \n",
    "Thu thập ngẫu nhiên 70 sản phẩm, đo nhiệt độ trung bình của 70 sản phẩm trên."
   ]
  },
  {
   "cell_type": "code",
   "execution_count": 15,
   "metadata": {},
   "outputs": [],
   "source": [
    "import pandas as pd\n",
    "import numpy as np\n",
    "import matplotlib as plt\n",
    "from scipy import stats as sts"
   ]
  },
  {
   "cell_type": "code",
   "execution_count": 22,
   "metadata": {},
   "outputs": [],
   "source": [
    "# Tạo array ngẫu nhiên, với means của mẫu = 30, Scale : Standard Divition (độ lệch chẩun) = 5 và số phần từ 70\n",
    "m = 28\n",
    "x_bar = 30\n",
    "N = 70\n",
    "sd = 5\n",
    "\n",
    "data = np.random.normal(loc=m, scale= sd, size = N)"
   ]
  },
  {
   "cell_type": "code",
   "execution_count": 23,
   "metadata": {
    "scrolled": true
   },
   "outputs": [
    {
     "data": {
      "text/plain": [
       "<matplotlib.axes._subplots.AxesSubplot at 0x2073a5d03c8>"
      ]
     },
     "execution_count": 23,
     "metadata": {},
     "output_type": "execute_result"
    },
    {
     "data": {
      "image/png": "[encoded data removed]",
      "text/plain": [
       "<matplotlib.figure.Figure at 0x2073a5e51d0>"
      ]
     },
     "metadata": {},
     "output_type": "display_data"
    }
   ],
   "source": [
    "pd.DataFrame(data).boxplot()"
   ]
  },
  {
   "cell_type": "code",
   "execution_count": 24,
   "metadata": {},
   "outputs": [
    {
     "data": {
      "text/plain": [
       "Ttest_1sampResult(statistic=49.40421253956594, pvalue=1.3794594934296102e-55)"
      ]
     },
     "execution_count": 24,
     "metadata": {},
     "output_type": "execute_result"
    }
   ],
   "source": [
    "sts.ttest_1samp(data, 0.05)"
   ]
  },
  {
   "cell_type": "code",
   "execution_count": 42,
   "metadata": {},
   "outputs": [],
   "source": [
    "temp = (m - x_bar) / (np.std(data) / np.sqrt(N))"
   ]
  },
  {
   "cell_type": "code",
   "execution_count": 43,
   "metadata": {},
   "outputs": [
    {
     "data": {
      "text/plain": [
       "-3.552109344028577"
      ]
     },
     "execution_count": 43,
     "metadata": {},
     "output_type": "execute_result"
    }
   ],
   "source": [
    "temp"
   ]
  },
  {
   "cell_type": "code",
   "execution_count": 39,
   "metadata": {},
   "outputs": [
    {
     "data": {
      "text/plain": [
       "Ttest_1sampResult(statistic=31.859149354691578, pvalue=5.327427061066847e-43)"
      ]
     },
     "execution_count": 39,
     "metadata": {},
     "output_type": "execute_result"
    }
   ],
   "source": [
    "sts.ttest_1samp(data, 10)"
   ]
  },
  {
   "cell_type": "code",
   "execution_count": null,
   "metadata": {},
   "outputs": [],
   "source": []
  }
 ],
 "metadata": {
  "kernelspec": {
   "display_name": "Python 3",
   "language": "python",
   "name": "python3"
  },
  "language_info": {
   "codemirror_mode": {
    "name": "ipython",
    "version": 3
   },
   "file_extension": ".py",
   "mimetype": "text/x-python",
   "name": "python",
   "nbconvert_exporter": "python",
   "pygments_lexer": "ipython3",
   "version": "3.6.4"
  }
 },
 "nbformat": 4,
 "nbformat_minor": 2
}
