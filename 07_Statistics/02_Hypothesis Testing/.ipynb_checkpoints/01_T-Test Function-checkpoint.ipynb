{
 "cells": [
  {
   "cell_type": "code",
   "execution_count": 16,
   "metadata": {},
   "outputs": [],
   "source": [
    "import numpy as np\n",
    "from scipy import stats\n",
    "import pandas as pd\n",
    "import plotly\n",
    "import plotly.plotly as py\n",
    "import plotly.graph_objs as go\n",
    "from plotly.tools import FigureFactory as FF\n",
    "\n",
    "plotly.tools.set_credentials_file(username='mrmanhluc', api_key='GGyYOj3zaR8fwdxCjWAO')"
   ]
  },
  {
   "cell_type": "code",
   "execution_count": 17,
   "metadata": {},
   "outputs": [],
   "source": [
    "# Step 1 : Tạo 2 tập a và b ngẫu nhiên\n",
    "\n",
    "# Cỡ mẫu - Sample Size\n",
    "N = 10\n",
    "\n",
    "# Tạo 1 phân phối Gaussian Distribute \n",
    "# Mean = 2. Var = 1 (Trung bình : 2, độ lệch chuẩn : 1)\n",
    "a = np.random.normal(0, 1, size = N)\n",
    "\n",
    "# Mean = 0. Var = 1\n",
    "b = np.random.normal(2, 1, size = N)"
   ]
  },
  {
   "cell_type": "code",
   "execution_count": 18,
   "metadata": {},
   "outputs": [
    {
     "data": {
      "text/plain": [
       "<matplotlib.axes._subplots.AxesSubplot at 0x1bbb0205e10>"
      ]
     },
     "execution_count": 18,
     "metadata": {},
     "output_type": "execute_result"
    },
    {
     "data": {
      "image/png": "[encoded data removed]",
      "text/plain": [
       "<matplotlib.figure.Figure at 0x1bbb01a2080>"
      ]
     },
     "metadata": {},
     "output_type": "display_data"
    }
   ],
   "source": [
    "pd.DataFrame([a,b]).transpose().boxplot()"
   ]
  },
  {
   "cell_type": "code",
   "execution_count": 19,
   "metadata": {},
   "outputs": [
    {
     "name": "stdout",
     "output_type": "stream",
     "text": [
      "High five! You successfully sent some data to your account on plotly. View your plot in your browser at https://plot.ly/~mrmanhluc/0 or inside your plot.ly account where it is named 'normal-dist-plot'\n"
     ]
    },
    {
     "data": {
      "text/html": [
       "<iframe id=\"igraph\" scrolling=\"no\" style=\"border:none;\" seamless=\"seamless\" src=\"https://plot.ly/~mrmanhluc/0.embed\" height=\"525px\" width=\"100%\"></iframe>"
      ],
      "text/plain": [
       "<plotly.tools.PlotlyDisplay object>"
      ]
     },
     "execution_count": 19,
     "metadata": {},
     "output_type": "execute_result"
    }
   ],
   "source": [
    "x = np.linspace(-4, 4, 160)\n",
    "y1 = stats.norm.pdf(x)\n",
    "y2 = stats.norm.pdf(x, loc = 2)\n",
    "\n",
    "trace1 = go.Scatter(\n",
    "    x = x,\n",
    "    y = y1,\n",
    "    mode = 'lines+markers',\n",
    "    name = 'Mean of 0'\n",
    ")\n",
    "\n",
    "trace2 = go.Scatter(\n",
    "    x = x,\n",
    "    y = y2,\n",
    "    mode = 'lines+makers',\n",
    "    name = 'mean of 2'\n",
    ")\n",
    "\n",
    "data = [trace1, trace2]\n",
    "\n",
    "py.iplot(data, filename= 'normal-dist-plot')"
   ]
  },
  {
   "cell_type": "code",
   "execution_count": 23,
   "metadata": {},
   "outputs": [
    {
     "name": "stderr",
     "output_type": "stream",
     "text": [
      "C:\\Users\\lucnm\\Anaconda3\\lib\\site-packages\\plotly\\tools.py:1497: UserWarning:\n",
      "\n",
      "plotly.tools.FigureFactory.create_table is deprecated. Use plotly.figure_factory.create_table\n",
      "\n"
     ]
    },
    {
     "data": {
      "text/html": [
       "<iframe id=\"igraph\" scrolling=\"no\" style=\"border:none;\" seamless=\"seamless\" src=\"https://plot.ly/~mrmanhluc/2.embed\" height=\"110px\" width=\"100%\"></iframe>"
      ],
      "text/plain": [
       "<plotly.tools.PlotlyDisplay object>"
      ]
     },
     "execution_count": 23,
     "metadata": {},
     "output_type": "execute_result"
    }
   ],
   "source": [
    "data1 = np.random.normal(0,1, size = 50)\n",
    "data2 = np.random.normal(2,1, size = 50)\n",
    "\n",
    "true_mu = 0\n",
    "\n",
    "onesample_results = stats.ttest_1samp(data1, true_mu)\n",
    "\n",
    "maxtrix_onesample = [\n",
    "    ['', 'Test Statistic', 'p-value'],\n",
    "    ['Sample Data', onesample_results[0], onesample_results[1]]\n",
    "]\n",
    "\n",
    "onesample_table = FF.create_table(maxtrix_onesample, index = True)\n",
    "\n",
    "py.iplot(onesample_table, filename = 'onesample-table')"
   ]
  },
  {
   "cell_type": "code",
   "execution_count": null,
   "metadata": {},
   "outputs": [],
   "source": [
    "pd.DataFrame([a,b]).transpose().plot"
   ]
  },
  {
   "cell_type": "code",
   "execution_count": 22,
   "metadata": {},
   "outputs": [
    {
     "data": {
      "text/plain": [
       "0.9203883727450644"
      ]
     },
     "execution_count": 22,
     "metadata": {},
     "output_type": "execute_result"
    }
   ],
   "source": [
    "# Step 2 : Tính độ lệch chuẩn Standard Deviation\n",
    "\n",
    "# Step 2.1 Phương sai, với bậc tự do  = 1\n",
    "\n",
    "var_a = a.var(ddof = 1)\n",
    "var_b = b.var(ddof = 1)\n",
    "\n",
    "s = np.sqrt((var_a + var_b)/2)\n",
    "s"
   ]
  },
  {
   "cell_type": "code",
   "execution_count": 25,
   "metadata": {},
   "outputs": [
    {
     "data": {
      "text/plain": [
       "5.761269785108872"
      ]
     },
     "execution_count": 25,
     "metadata": {},
     "output_type": "execute_result"
    }
   ],
   "source": [
    "# Step 3. Tinhs T-Statistics\n",
    "\n",
    "t = (a.mean() - b.mean())/(np.sqrt((var_a + var_b)/(N)))\n",
    "\n",
    "t1 = (a.mean() - b.mean())/(s * np.sqrt(2/N))\n",
    "t"
   ]
  },
  {
   "cell_type": "code",
   "execution_count": 26,
   "metadata": {},
   "outputs": [
    {
     "name": "stdout",
     "output_type": "stream",
     "text": [
      "t = 5.761269785108872\n",
      "p = 1.8443460731321082e-05\n"
     ]
    }
   ],
   "source": [
    "# Step 4. Tính độ tự do Degress of freedom\n",
    "df = 2 * N - 2\n",
    "\n",
    "p = 1 - stats.t.cdf(t, df = df)\n",
    "\n",
    "print(\"t = \"+ str(t))\n",
    "print(\"p = \"+ str(2 * p))"
   ]
  },
  {
   "cell_type": "code",
   "execution_count": 28,
   "metadata": {},
   "outputs": [
    {
     "name": "stdout",
     "output_type": "stream",
     "text": [
      "t = 5.761269785108872\n",
      "p = 3.688692146270822e-05\n"
     ]
    }
   ],
   "source": [
    "# Step 5 : Tính giá trị T-test theo Function stats\n",
    "\n",
    "t2, p2 = stats.ttest_ind(a, b)\n",
    "print(\"t = \"+str(t2))\n",
    "print(\"p = \"+str(2*p2))"
   ]
  },
  {
   "cell_type": "code",
   "execution_count": null,
   "metadata": {},
   "outputs": [],
   "source": []
  }
 ],
 "metadata": {
  "kernelspec": {
   "display_name": "Python 3",
   "language": "python",
   "name": "python3"
  },
  "language_info": {
   "codemirror_mode": {
    "name": "ipython",
    "version": 3
   },
   "file_extension": ".py",
   "mimetype": "text/x-python",
   "name": "python",
   "nbconvert_exporter": "python",
   "pygments_lexer": "ipython3",
   "version": "3.6.4"
  }
 },
 "nbformat": 4,
 "nbformat_minor": 2
}
