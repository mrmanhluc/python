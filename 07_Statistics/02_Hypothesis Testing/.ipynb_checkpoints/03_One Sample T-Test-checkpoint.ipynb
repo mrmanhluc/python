{
 "cells": [
  {
   "cell_type": "markdown",
   "metadata": {},
   "source": [
    "### Bài toán thực tế.\n",
    "\n",
    "Công ty samsung nhận nhiều khiếu nại về việc Pin của họ gặp lỗi khiến máy nóng hơn so với bình thường.\n",
    "\n",
    "Theo tính toán, nhiệt độ trung bình đạt tiêu chuẩn là 30 độ.\n",
    "\n",
    "Theo luật, công ty phải thu hồi toàn bộ sản phẩm đã bán nếu nhiệt độ trung bình của  (95% số lượng) có nhiệt độ trung bình > 5% nhiệt độ tiêu chuẩn\n",
    "\n",
    "Các bước mà công ty samsung tiến hành điều tra về tình trạng về số lượng sản phẩm gặp phải như sau.\n",
    "\n",
    "H0 : Máy có nhiệt độ trung bình > 30 độ.\n",
    "H1 : Máy có nhiệt độ trung bình <= 30 độ"
   ]
  },
  {
   "cell_type": "markdown",
   "metadata": {},
   "source": [
    "### Step 1 : \n",
    "Thu thập ngẫu nhiên 70 sản phẩm, đo nhiệt độ trung bình của 70 sản phẩm trên."
   ]
  },
  {
   "cell_type": "code",
   "execution_count": 2,
   "metadata": {},
   "outputs": [],
   "source": [
    "import pandas as pd\n",
    "import numpy as np"
   ]
  },
  {
   "cell_type": "code",
   "execution_count": null,
   "metadata": {},
   "outputs": [],
   "source": [
    "data = np."
   ]
  }
 ],
 "metadata": {
  "kernelspec": {
   "display_name": "Python 3",
   "language": "python",
   "name": "python3"
  },
  "language_info": {
   "codemirror_mode": {
    "name": "ipython",
    "version": 3
   },
   "file_extension": ".py",
   "mimetype": "text/x-python",
   "name": "python",
   "nbconvert_exporter": "python",
   "pygments_lexer": "ipython3",
   "version": "3.6.4"
  }
 },
 "nbformat": 4,
 "nbformat_minor": 2
}
