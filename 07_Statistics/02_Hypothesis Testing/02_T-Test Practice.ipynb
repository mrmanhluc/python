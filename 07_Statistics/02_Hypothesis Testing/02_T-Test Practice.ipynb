{
 "cells": [
  {
   "cell_type": "markdown",
   "metadata": {},
   "source": [
    "A research study was conducted to examine the differences between older and younger adults on perceived life satisfaction. A pilot study was conducted to examine this hypothesis. Ten older adults (over the age of 70) and ten younger adults (between 20 and 30) were give a life satisfaction test (known to have high reliability and validity). Scores on the measure range from 0 to 60 with high scores indicative of high life satisfaction; low scores indicative of low life satisfaction. The data are presented below. Compute the appropriate t-test."
   ]
  },
  {
   "cell_type": "markdown",
   "metadata": {},
   "source": [
    "-- Bảng điều tra mức độ thỏa mãn về cuộc sống của 2 nhóm\n",
    "-- Nhóm 1 : Tuổi 20-30\n",
    "-- Nhóm 2 : Tuổi >30\n",
    "\n",
    "-- Độ thỏa mãn từ : 0 - 60. Với 60 được xem là độ thỏa mãn cao nhất."
   ]
  },
  {
   "cell_type": "code",
   "execution_count": 33,
   "metadata": {},
   "outputs": [],
   "source": [
    "import pandas as pd\n",
    "import numpy as np\n",
    "from scipy import stats"
   ]
  },
  {
   "cell_type": "code",
   "execution_count": 34,
   "metadata": {},
   "outputs": [],
   "source": [
    "# Data\n",
    "older   = [45, 38, 52, 48, 25, 39, 51, 46, 55, 46]\n",
    "younger = [34, 22, 15, 27, 37, 41, 24, 19, 26, 36]"
   ]
  },
  {
   "cell_type": "code",
   "execution_count": 35,
   "metadata": {},
   "outputs": [
    {
     "name": "stdout",
     "output_type": "stream",
     "text": [
      "Mean : \n",
      "older      44.5\n",
      "younger    28.1\n",
      "dtype: float64\n",
      "Varience : \n",
      "older      75.388889\n",
      "younger    72.988889\n",
      "dtype: float64\n",
      "Standard Deviation\n",
      "older      8.682678\n",
      "younger    8.543353\n",
      "dtype: float64\n"
     ]
    }
   ],
   "source": [
    "# Step 1: Tinh cac gia tri Means, Variance and Standard Deviation\n",
    "data = pd.DataFrame([older, younger]).transpose()\n",
    "data.rename(columns={0: 'older', 1:'younger'}, inplace=True)\n",
    "\n",
    "print('Mean : ')\n",
    "print(data.mean())\n",
    "\n",
    "print('Varience : ')\n",
    "print(data.var())\n",
    "\n",
    "print('Standard Deviation')\n",
    "print(data.std())"
   ]
  },
  {
   "cell_type": "code",
   "execution_count": 36,
   "metadata": {},
   "outputs": [
    {
     "data": {
      "text/plain": [
       "<matplotlib.axes._subplots.AxesSubplot at 0x2b88c20a5c0>"
      ]
     },
     "execution_count": 36,
     "metadata": {},
     "output_type": "execute_result"
    },
    {
     "data": {
      "image/png": "[encoded data removed]",
      "text/plain": [
       "<matplotlib.figure.Figure at 0x2b88c1fbba8>"
      ]
     },
     "metadata": {},
     "output_type": "display_data"
    }
   ],
   "source": [
    "# Step 2 : \n",
    "\n",
    "# 2.1 Ve biểu đồ phân bổ 2 Group\n",
    "data.boxplot()"
   ]
  },
  {
   "cell_type": "markdown",
   "metadata": {},
   "source": [
    "## Định nghĩa Hypothesis và Null Hypothesis\n",
    "\n",
    "### Hypothesis : Có mỗi liên hệ giữa độ tuổi và mức độ hài lòng cuộc sống\n",
    "### Null hypothesis : Không có mỗi liên hệ giữa độ tuổi và mức độ hài lòng cuộc sống"
   ]
  },
  {
   "cell_type": "code",
   "execution_count": 38,
   "metadata": {},
   "outputs": [
    {
     "name": "stderr",
     "output_type": "stream",
     "text": [
      "C:\\Users\\lucnm\\Anaconda3\\lib\\site-packages\\scipy\\stats\\stats.py:1390: UserWarning: kurtosistest only valid for n>=20 ... continuing anyway, n=10\n",
      "  \"anyway, n=%i\" % int(n))\n"
     ]
    },
    {
     "data": {
      "text/plain": [
       "NormaltestResult(statistic=0.9410848911206685, pvalue=0.6246633305130271)"
      ]
     },
     "execution_count": 38,
     "metadata": {},
     "output_type": "execute_result"
    }
   ],
   "source": [
    "# Step 3: Check is normal distribute\n",
    "stats.normaltest(data['older'])\n",
    "stats.normaltest(data['younger'])"
   ]
  },
  {
   "cell_type": "code",
   "execution_count": 42,
   "metadata": {},
   "outputs": [
    {
     "data": {
      "text/plain": [
       "Ttest_indResult(statistic=4.257546665558161, pvalue=0.0004736633119019225)"
      ]
     },
     "execution_count": 42,
     "metadata": {},
     "output_type": "execute_result"
    }
   ],
   "source": [
    "# Step 4 : Tinh gia tri T-Test\n",
    "stats.ttest_ind(older, younger)"
   ]
  },
  {
   "cell_type": "code",
   "execution_count": null,
   "metadata": {},
   "outputs": [],
   "source": []
  }
 ],
 "metadata": {
  "kernelspec": {
   "display_name": "Python 3",
   "language": "python",
   "name": "python3"
  },
  "language_info": {
   "codemirror_mode": {
    "name": "ipython",
    "version": 3
   },
   "file_extension": ".py",
   "mimetype": "text/x-python",
   "name": "python",
   "nbconvert_exporter": "python",
   "pygments_lexer": "ipython3",
   "version": "3.6.4"
  }
 },
 "nbformat": 4,
 "nbformat_minor": 2
}
