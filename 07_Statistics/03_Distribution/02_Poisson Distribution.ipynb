{
 "cells": [
  {
   "cell_type": "markdown",
   "metadata": {},
   "source": [
    "# POISON DISTRIBUTION"
   ]
  },
  {
   "cell_type": "code",
   "execution_count": 3,
   "metadata": {},
   "outputs": [],
   "source": [
    "import pandas as pd\n",
    "import numpy as np\n",
    "import matplotlib.pyplot as plt\n",
    "import math"
   ]
  },
  {
   "cell_type": "code",
   "execution_count": 4,
   "metadata": {},
   "outputs": [],
   "source": [
    "plt.rcParams['font.family'] = 'Sans-serif' #全体のフォントを設定\n",
    "plt.rcParams[\"figure.figsize\"] = [20, 7]\n",
    "plt.rcParams['font.size'] = 12 #フォントサイズを設定 default : 12\n",
    "plt.rcParams['xtick.labelsize'] = 15 # 横軸のフォントサイズ\n",
    "plt.rcParams['ytick.labelsize'] = 15"
   ]
  },
  {
   "cell_type": "markdown",
   "metadata": {},
   "source": [
    "## 1. Tổng quan\n",
    "\n",
    "### 1.1 Difination\n",
    "A Poisson distribution is a tool that helps to predict the probability of certain events from happening when you know how often the event has occurred. The Poisson distribution gives us the probability of a given number of events happening in a fixed interval of time.\n",
    "\n",
    "\n",
    "### 1.2 How to use poisson distribution in real life\n",
    "The limiting case of binomial when n is very large and p is small but np is a positive number which is called lambda.\n",
    "\n",
    "This result application is used to model various real life events by Poisson Distribution.\n",
    "\n",
    "The classical example of the Poisson distribution is the number of Prussian soldiers accidentally killed by horse-kick, due to being the first example of the Poisson distribution's application to a real-world large data set. Ten army corps were observed over 20 years, for a total of 200 observations, and 122 soldiers were killed by horse-kick over that time period. The question is how many deaths would be expected over a period of a year, which turns out to be excellently modeled by the Poisson distribution.\n",
    "\n",
    "Được sử dụng khi số lượng N quá lớn, trong khi xác xuất xảy ra 1 sự kiện lại quá nhỏ\n",
    "\n",
    "\n",
    "### 1.3 Ứng dụng của Poisson trong Predict\n",
    "\n",
    "Thường được sử dụng trong dự đoán số lượng customer hoặc doanh thu của 1 ngày hay một mùa nhất định trong năm.\n",
    "\n",
    "Dựa vào kết quả dự báo, có thể giúp khách sạn hay nhà hàng chuẩn bị sẵn sàng, mở rộng hay tăng số lượng nhân viên tạm thời vào đúng thời điểm cần thiết\n",
    "\n",
    "\n",
    "### 1.4 Calculating\n",
    "\\begin{align}\n",
    "P(x; μ) = \\frac{e^{-μ} * μx }{x!}\n",
    "\\end{align}\n",
    "\n",
    "Trong đó : \n",
    "* μ or λ is event rate, sometimes called the rate parameter\n",
    "* The number of event\n",
    "\n",
    "### 1.5 Diffirence between Poisson and Binominal Distribution\n",
    "\n",
    "* If your question has an average probability of an event happening per unit (i.e. per unit of time, cycle, event) and you want to find probability of a certain number of events happening in a period of time (or number of events), then use the Poisson Distribution.\n",
    "\n",
    "* If you are given an exact probability and you want to find the probability of the event happening a certain number out times out of x (i.e. 10 times out of 100, or 99 times out of 1000), use the Binomial Distribution formula.\n",
    "\n",
    "* The binomial distribution counts discrete occurrences among discrete trials.\n",
    "\n",
    "* The poisson distribution counts discrete occurrences among a continuous domain.\n",
    "\n",
    "\n",
    "\n",
    "\n",
    "* Nếu câu hỏi có liên quan tới xác xuất trung bình của một sự kiện xảy ra trong một đơn vị như ( ex: Thời gian, vòng lặp, sự kiện) và muốn tìm xác xuất chắc chắn số số lần xảy ra của sự kiện trong khoảng thời gian thì sử dụng Poisson.\n",
    "\n",
    "* Nếu câu hỏi liên quan chính xác đến số lần xảy ra của 1 sự kiện trong 1 khoảng thời gian, sử dụng Binomial Distribution\n",
    "\n",
    "* Binomial sử dụng để đếm các phép thử có giá trị rời rạc.\n",
    "\n",
    "* Poisson sử dụng đểm các phép thử có giá trị liên tục"
   ]
  },
  {
   "cell_type": "markdown",
   "metadata": {},
   "source": [
    "# 2. Công thức"
   ]
  },
  {
   "cell_type": "code",
   "execution_count": 18,
   "metadata": {},
   "outputs": [],
   "source": [
    "def factorial(x):\n",
    "    if x == 0:\n",
    "        return 1\n",
    "    \n",
    "    fac = 1\n",
    "    for i in range(x):\n",
    "        fac *= (i + 1)\n",
    "    return fac\n",
    "\n",
    "# pmf : Probability mass function (Hàm khối xác xuất)\n",
    "def pmf(x, myu):\n",
    "    return (np.power(np.e, -myu) * np.power(myu, x))/factorial(x)"
   ]
  },
  {
   "cell_type": "markdown",
   "metadata": {},
   "source": [
    "# 3. Example"
   ]
  },
  {
   "cell_type": "markdown",
   "metadata": {},
   "source": [
    "## 3.1 Ex1\n",
    "\n",
    "Question: The average number of major storms in your city is 2 per year. What is the probability that exactly 3 storms will hit your city next year?\n",
    "\n",
    "VI : Số lượng trung bình bão đổ bộ trung bình là 2 lần mỗi năm. Hỏi xác xuất là bao nhiêu khi khi có 3 trận bão đổ bộ vào trong 1 năm"
   ]
  },
  {
   "cell_type": "code",
   "execution_count": 19,
   "metadata": {},
   "outputs": [
    {
     "name": "stdout",
     "output_type": "stream",
     "text": [
      "18.04%\n"
     ]
    }
   ],
   "source": [
    "myu = 2 # Average number of storms per year, historycally\n",
    "x = 3   # The number of storms we think might hit next year\n",
    "print(str(np.round(pmf(x, myu)*100, 2)) + '%')"
   ]
  },
  {
   "cell_type": "markdown",
   "metadata": {},
   "source": [
    "## 3.2 Ex2\n",
    "\n",
    "Question : Cho tập data lưu lại số lần nước tràn bờ sông trong 100 năm.\n",
    "* Tính xác xuất :\n",
    "P (X = 0) : Không có lần nào nước tràn bờ đê\n",
    "P (X = 1) : 1 lần\n",
    "...\n",
    "P (X = 100) : Nước tràn bờ đê 100 lần"
   ]
  },
  {
   "cell_type": "code",
   "execution_count": 28,
   "metadata": {},
   "outputs": [],
   "source": [
    "river_observations = pd.DataFrame(np.random.poisson(lam = 3, size = 100), columns = ['Numbers'])\n",
    "river_observations['count'] = [1] * len(river_observations)"
   ]
  },
  {
   "cell_type": "code",
   "execution_count": 29,
   "metadata": {},
   "outputs": [
    {
     "data": {
      "text/html": [
       "<div>\n",
       "<style scoped>\n",
       "    .dataframe tbody tr th:only-of-type {\n",
       "        vertical-align: middle;\n",
       "    }\n",
       "\n",
       "    .dataframe tbody tr th {\n",
       "        vertical-align: top;\n",
       "    }\n",
       "\n",
       "    .dataframe thead th {\n",
       "        text-align: right;\n",
       "    }\n",
       "</style>\n",
       "<table border=\"1\" class=\"dataframe\">\n",
       "  <thead>\n",
       "    <tr style=\"text-align: right;\">\n",
       "      <th></th>\n",
       "      <th>Numbers</th>\n",
       "      <th>count</th>\n",
       "    </tr>\n",
       "  </thead>\n",
       "  <tbody>\n",
       "    <tr>\n",
       "      <th>0</th>\n",
       "      <td>2</td>\n",
       "      <td>1</td>\n",
       "    </tr>\n",
       "    <tr>\n",
       "      <th>1</th>\n",
       "      <td>2</td>\n",
       "      <td>1</td>\n",
       "    </tr>\n",
       "    <tr>\n",
       "      <th>2</th>\n",
       "      <td>3</td>\n",
       "      <td>1</td>\n",
       "    </tr>\n",
       "    <tr>\n",
       "      <th>3</th>\n",
       "      <td>2</td>\n",
       "      <td>1</td>\n",
       "    </tr>\n",
       "    <tr>\n",
       "      <th>4</th>\n",
       "      <td>3</td>\n",
       "      <td>1</td>\n",
       "    </tr>\n",
       "  </tbody>\n",
       "</table>\n",
       "</div>"
      ],
      "text/plain": [
       "   Numbers  count\n",
       "0        2      1\n",
       "1        2      1\n",
       "2        3      1\n",
       "3        2      1\n",
       "4        3      1"
      ]
     },
     "execution_count": 29,
     "metadata": {},
     "output_type": "execute_result"
    }
   ],
   "source": [
    "river_observations.head()"
   ]
  },
  {
   "cell_type": "markdown",
   "metadata": {},
   "source": [
    "### 3.2.1 Xác xuất được tính dựa vào Data"
   ]
  },
  {
   "cell_type": "code",
   "execution_count": 37,
   "metadata": {},
   "outputs": [
    {
     "data": {
      "text/html": [
       "<div>\n",
       "<style scoped>\n",
       "    .dataframe tbody tr th:only-of-type {\n",
       "        vertical-align: middle;\n",
       "    }\n",
       "\n",
       "    .dataframe tbody tr th {\n",
       "        vertical-align: top;\n",
       "    }\n",
       "\n",
       "    .dataframe thead th {\n",
       "        text-align: right;\n",
       "    }\n",
       "</style>\n",
       "<table border=\"1\" class=\"dataframe\">\n",
       "  <thead>\n",
       "    <tr style=\"text-align: right;\">\n",
       "      <th></th>\n",
       "      <th>count</th>\n",
       "    </tr>\n",
       "    <tr>\n",
       "      <th>Numbers</th>\n",
       "      <th></th>\n",
       "    </tr>\n",
       "  </thead>\n",
       "  <tbody>\n",
       "    <tr>\n",
       "      <th>0</th>\n",
       "      <td>3.0</td>\n",
       "    </tr>\n",
       "    <tr>\n",
       "      <th>1</th>\n",
       "      <td>12.0</td>\n",
       "    </tr>\n",
       "    <tr>\n",
       "      <th>2</th>\n",
       "      <td>27.0</td>\n",
       "    </tr>\n",
       "    <tr>\n",
       "      <th>3</th>\n",
       "      <td>16.0</td>\n",
       "    </tr>\n",
       "    <tr>\n",
       "      <th>4</th>\n",
       "      <td>21.0</td>\n",
       "    </tr>\n",
       "    <tr>\n",
       "      <th>5</th>\n",
       "      <td>11.0</td>\n",
       "    </tr>\n",
       "    <tr>\n",
       "      <th>6</th>\n",
       "      <td>6.0</td>\n",
       "    </tr>\n",
       "    <tr>\n",
       "      <th>7</th>\n",
       "      <td>4.0</td>\n",
       "    </tr>\n",
       "  </tbody>\n",
       "</table>\n",
       "</div>"
      ],
      "text/plain": [
       "         count\n",
       "Numbers       \n",
       "0          3.0\n",
       "1         12.0\n",
       "2         27.0\n",
       "3         16.0\n",
       "4         21.0\n",
       "5         11.0\n",
       "6          6.0\n",
       "7          4.0"
      ]
     },
     "execution_count": 37,
     "metadata": {},
     "output_type": "execute_result"
    }
   ],
   "source": [
    "# Xác xuất xảy ra được tính dựa theo data\n",
    "river_observations.groupby('Numbers').count()/len(river_observations) * 100"
   ]
  },
  {
   "cell_type": "code",
   "execution_count": 38,
   "metadata": {},
   "outputs": [
    {
     "data": {
      "text/plain": [
       "<matplotlib.axes._subplots.AxesSubplot at 0x1fb9cc77668>"
      ]
     },
     "execution_count": 38,
     "metadata": {},
     "output_type": "execute_result"
    },
    {
     "data": {
      "image/png": "[encoded data removed]",
      "text/plain": [
       "<matplotlib.figure.Figure at 0x1fb9d7f1860>"
      ]
     },
     "metadata": {},
     "output_type": "display_data"
    }
   ],
   "source": [
    "pd.DataFrame(river_observations.groupby('Numbers').count()/len(river_observations) * 100).plot()"
   ]
  },
  {
   "cell_type": "markdown",
   "metadata": {},
   "source": [
    "### 3.2.2 Xác xuất tính dựa vào công thức"
   ]
  },
  {
   "cell_type": "code",
   "execution_count": 55,
   "metadata": {},
   "outputs": [],
   "source": [
    "mean_river = 3"
   ]
  },
  {
   "cell_type": "code",
   "execution_count": 56,
   "metadata": {},
   "outputs": [],
   "source": [
    "river_observations1 = []\n",
    "for i in range(8):\n",
    "    river_observations1.append(pmf(i, mean_river) * 100)"
   ]
  },
  {
   "cell_type": "code",
   "execution_count": 57,
   "metadata": {},
   "outputs": [
    {
     "data": {
      "text/plain": [
       "<matplotlib.axes._subplots.AxesSubplot at 0x1fb9bd4c710>"
      ]
     },
     "execution_count": 57,
     "metadata": {},
     "output_type": "execute_result"
    },
    {
     "data": {
      "image/png": "[encoded data removed]",
      "text/plain": [
       "<matplotlib.figure.Figure at 0x1fb9d78a898>"
      ]
     },
     "metadata": {},
     "output_type": "display_data"
    }
   ],
   "source": [
    "pd.DataFrame(river_observations1).plot()"
   ]
  },
  {
   "cell_type": "code",
   "execution_count": null,
   "metadata": {},
   "outputs": [],
   "source": []
  }
 ],
 "metadata": {
  "kernelspec": {
   "display_name": "Python 3",
   "language": "python",
   "name": "python3"
  },
  "language_info": {
   "codemirror_mode": {
    "name": "ipython",
    "version": 3
   },
   "file_extension": ".py",
   "mimetype": "text/x-python",
   "name": "python",
   "nbconvert_exporter": "python",
   "pygments_lexer": "ipython3",
   "version": "3.6.4"
  }
 },
 "nbformat": 4,
 "nbformat_minor": 2
}
