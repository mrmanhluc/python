{
 "cells": [
  {
   "cell_type": "markdown",
   "metadata": {},
   "source": [
    "# Binomial Distribution\n",
    "\n",
    "----\n",
    "\n",
    "## 1. Tổng quan : \n",
    "Nếu các biến X tuân theo luật phân phối nhị thức với parameter :\n",
    "- n ∈ ℕ (n là số lượng phép thử, ℕ số lần lặp lại phép thử)\n",
    "- p ∈ [0,1] : p xác xuất True or False \n",
    "- k : Số lần thành công trong n phép thử đó.\n",
    "\n",
    "#### Kí hiệu : X ~ B(n, p). B viết tắt Binomial\n",
    "\n",
    "Ví dụ : Tung 5 đồng xu (n = 5), xác xuất xuất hiện mặt trước và sau là như nhau (p = 0.5), ta thu được 2 đồng sấp, 3 đồng ngữa.\n",
    "Gọi k là số mặt ngữa, ta có k = 2.\n",
    "\n",
    "Thực hiện việc tung 5 đồng xu trên 100 lần (N = 100), ta thu được tập k chứa các phần tử có giá trị  p ∈ [0,5].\n",
    "\n",
    "## 2. Probability\n",
    "\n",
    "Xác xuất để có k lần thành công : \n",
    "\\begin{equation*}\n",
    "Pr(X=k)   = C{n \\choose k} p^k (1-p)^{ n-k}\n",
    "\\end{equation*}\n",
    "\n",
    "Với k = 0,1,2,...,n thì : (combinaisons - Tổ hợp)\n",
    "\\begin{equation*}\n",
    "C{n \\choose k} = \\frac{n!}{k!(n-k)!}\n",
    "\\end{equation*}"
   ]
  },
  {
   "cell_type": "code",
   "execution_count": 1,
   "metadata": {},
   "outputs": [],
   "source": [
    "import numpy as np\n",
    "import pandas as pd\n",
    "from scipy.stats import binom\n",
    "import matplotlib.pyplot as plt"
   ]
  },
  {
   "cell_type": "markdown",
   "metadata": {},
   "source": [
    "## 3. Công thức\n",
    "\n",
    "Trong đó : \n",
    "- Factoria : Function giai thừa\n",
    "- Combinasisons : Function tính tổ hợp \n",
    "- Pr_Binomail : Function tính xác suất thành công với (n : số phép thử mỗi lần, p : Xác xuất thành công, k : số thành công)"
   ]
  },
  {
   "cell_type": "code",
   "execution_count": 61,
   "metadata": {},
   "outputs": [],
   "source": [
    "# factorial - Giai thừa\n",
    "def factoria(n):\n",
    "    x = 1\n",
    "    if n==0:\n",
    "        return 1\n",
    "    for i in range(n):\n",
    "        x = x * (i+1)\n",
    "    return x\n",
    "\n",
    "# Combinaisons - Tổ hợp\n",
    "# Từ 1 hộp 4 viên xanh đỏ tím vàng, có bao nhiêu cách lấy ra 2 viên, biết (xanh đỏ) (đỏ xanh) là một\n",
    "def combinaisons(n, k): \n",
    "    return (factoria(n) / ((factoria(k) * (factoria(n-k)))))\n",
    "\n",
    "# Probability \n",
    "def pr_binomial(n, p, k):\n",
    "    '''\n",
    "        n : Số phép thử trong 1 lần\n",
    "        p : Xác xuất thành công mỗi phép thử\n",
    "        k : Số lần thanahf công trong mỗi phép thử\n",
    "    '''\n",
    "    return combinaisons(n, k) * np.power(p,k) * np.power(1-p, n-k)"
   ]
  },
  {
   "cell_type": "markdown",
   "metadata": {},
   "source": [
    "## 4. Example\n",
    "\n",
    "### 4.1 Example 1 : Tung 1 đồng xu với xác xuất 0.5\n",
    "Tạo Sample Data đếm số mặt sấp và ngữa khi tung 1 đồng xu.\n",
    "\n",
    "Trong đó : \n",
    "- n = 1. (Tung1 đồng xu)\n",
    "- p = 0,5 Xác xuất xuất hiện 2 mặt là như nhau\n",
    "- N = 1000. Thực hiện 1000 phép thử\n",
    "\n",
    "K có 2 giá trị :\n",
    "- 0 : không có mặt ngữa nào xuất hiện\n",
    "- 1 : Có 1 mặt ngữa xuất hiện\n",
    "\n",
    "【ASK】Tính xác xuất : \n",
    "- Pr(0)\n",
    "- Pr(1)"
   ]
  },
  {
   "cell_type": "code",
   "execution_count": 22,
   "metadata": {},
   "outputs": [],
   "source": [
    "N = 1000\n",
    "sample = pd.DataFrame(np.random.binomial(n = 1, p = 0.5, size = N), columns=['count'])\n",
    "sample['temp'] = [1] * len(sample)"
   ]
  },
  {
   "cell_type": "markdown",
   "metadata": {},
   "source": [
    "#### 4.1.1 Tập data ghi lại kết quả sau mỗi lần tung đồng xu"
   ]
  },
  {
   "cell_type": "code",
   "execution_count": 58,
   "metadata": {},
   "outputs": [
    {
     "data": {
      "text/html": [
       "<div>\n",
       "<style scoped>\n",
       "    .dataframe tbody tr th:only-of-type {\n",
       "        vertical-align: middle;\n",
       "    }\n",
       "\n",
       "    .dataframe tbody tr th {\n",
       "        vertical-align: top;\n",
       "    }\n",
       "\n",
       "    .dataframe thead th {\n",
       "        text-align: right;\n",
       "    }\n",
       "</style>\n",
       "<table border=\"1\" class=\"dataframe\">\n",
       "  <thead>\n",
       "    <tr style=\"text-align: right;\">\n",
       "      <th></th>\n",
       "      <th>count</th>\n",
       "    </tr>\n",
       "  </thead>\n",
       "  <tbody>\n",
       "    <tr>\n",
       "      <th>0</th>\n",
       "      <td>0</td>\n",
       "    </tr>\n",
       "    <tr>\n",
       "      <th>1</th>\n",
       "      <td>1</td>\n",
       "    </tr>\n",
       "    <tr>\n",
       "      <th>2</th>\n",
       "      <td>1</td>\n",
       "    </tr>\n",
       "    <tr>\n",
       "      <th>3</th>\n",
       "      <td>0</td>\n",
       "    </tr>\n",
       "    <tr>\n",
       "      <th>4</th>\n",
       "      <td>0</td>\n",
       "    </tr>\n",
       "  </tbody>\n",
       "</table>\n",
       "</div>"
      ],
      "text/plain": [
       "   count\n",
       "0      0\n",
       "1      1\n",
       "2      1\n",
       "3      0\n",
       "4      0"
      ]
     },
     "execution_count": 58,
     "metadata": {},
     "output_type": "execute_result"
    }
   ],
   "source": [
    "pd.DataFrame(sample['count'].head())"
   ]
  },
  {
   "cell_type": "markdown",
   "metadata": {},
   "source": [
    "#### 4.1.2 Xác xuất được tính theo data"
   ]
  },
  {
   "cell_type": "code",
   "execution_count": 59,
   "metadata": {},
   "outputs": [
    {
     "data": {
      "text/html": [
       "<div>\n",
       "<style scoped>\n",
       "    .dataframe tbody tr th:only-of-type {\n",
       "        vertical-align: middle;\n",
       "    }\n",
       "\n",
       "    .dataframe tbody tr th {\n",
       "        vertical-align: top;\n",
       "    }\n",
       "\n",
       "    .dataframe thead th {\n",
       "        text-align: right;\n",
       "    }\n",
       "</style>\n",
       "<table border=\"1\" class=\"dataframe\">\n",
       "  <thead>\n",
       "    <tr style=\"text-align: right;\">\n",
       "      <th></th>\n",
       "      <th>temp</th>\n",
       "    </tr>\n",
       "    <tr>\n",
       "      <th>count</th>\n",
       "      <th></th>\n",
       "    </tr>\n",
       "  </thead>\n",
       "  <tbody>\n",
       "    <tr>\n",
       "      <th>0</th>\n",
       "      <td>0.5</td>\n",
       "    </tr>\n",
       "    <tr>\n",
       "      <th>1</th>\n",
       "      <td>0.5</td>\n",
       "    </tr>\n",
       "  </tbody>\n",
       "</table>\n",
       "</div>"
      ],
      "text/plain": [
       "       temp\n",
       "count      \n",
       "0       0.5\n",
       "1       0.5"
      ]
     },
     "execution_count": 59,
     "metadata": {},
     "output_type": "execute_result"
    }
   ],
   "source": [
    "sample.groupby('count').count()/N"
   ]
  },
  {
   "cell_type": "code",
   "execution_count": 30,
   "metadata": {},
   "outputs": [
    {
     "name": "stdout",
     "output_type": "stream",
     "text": [
      "Xác xuất xuất hiện K = 0 và K = 1 là như nhau = 0.5\n"
     ]
    },
    {
     "data": {
      "text/plain": [
       "(array([500.,   0.,   0.,   0.,   0.,   0.,   0.,   0.,   0., 500.]),\n",
       " array([0. , 0.1, 0.2, 0.3, 0.4, 0.5, 0.6, 0.7, 0.8, 0.9, 1. ]),\n",
       " <a list of 10 Patch objects>)"
      ]
     },
     "execution_count": 30,
     "metadata": {},
     "output_type": "execute_result"
    },
    {
     "data": {
      "image/png": "[encoded data removed]",
      "text/plain": [
       "<matplotlib.figure.Figure at 0x272ea6787f0>"
      ]
     },
     "metadata": {},
     "output_type": "display_data"
    }
   ],
   "source": [
    "print('Xác xuất xuất hiện K = 0 và K = 1 là như nhau = 0.5')\n",
    "plt.hist(sample['count'])"
   ]
  },
  {
   "cell_type": "markdown",
   "metadata": {},
   "source": [
    "#### 4.1.3 Xác xuất tính theo công thức"
   ]
  },
  {
   "cell_type": "code",
   "execution_count": 64,
   "metadata": {},
   "outputs": [
    {
     "name": "stdout",
     "output_type": "stream",
     "text": [
      "Xác xuất suất hiện mặt ngữa là : 0.5\n"
     ]
    }
   ],
   "source": [
    "# n = 1 , p = 0.5, k = 1)\n",
    "\n",
    "print('Xác xuất suất hiện mặt ngữa là : '+str(pr_binomial(1, 0.5, 1)))"
   ]
  },
  {
   "cell_type": "markdown",
   "metadata": {},
   "source": [
    "### 4.2 Example 2 : Tung 5 đồng xu với xác xuất 0.5\n",
    "\n",
    "Tạo Sample Data đếm số mặt sấp và ngữa khi tung 1 đồng xu.\n",
    "\n",
    "Trong đó : \n",
    "- n = 5. (Tung 5 đồng xu)\n",
    "- p = 0,5 Xác xuất xuất hiện 2 mặt là như nhau\n",
    "- N = 1000. Thực hiện 1000 phép thử\n",
    "\n",
    "K có 5 giá trị :\n",
    "- 0 : không có mặt ngữa nào xuất hiện\n",
    "- 1 : Có 1 mặt ngữa xuất hiện\n",
    "- 2 : Có 2 mặt ngữa xuất hiện\n",
    "- 3 : Có 3 mặt ngữa xuất hiện\n",
    "- 4 : Có 4 mặt ngữa xuất hiện\n",
    "- 5 : Có 5 mặt ngữa xuất hiện\n",
    "\n",
    "【ASK】Tính xác xuất : \n",
    "- Pr(k = 0)\n",
    "- Pr(k = 1)\n",
    "- Pr(k = 2)\n",
    "- Pr(k = 3)\n",
    "- Pr(k = 4)\n",
    "- Pr(k = 5)"
   ]
  },
  {
   "cell_type": "code",
   "execution_count": 81,
   "metadata": {},
   "outputs": [],
   "source": [
    "N = 1000\n",
    "sample1 = pd.DataFrame(np.random.binomial(n = 5, p = 0.5, size = N), columns = ['count'])\n",
    "sample1['temp'] = [1] * len(sample1)"
   ]
  },
  {
   "cell_type": "markdown",
   "metadata": {},
   "source": [
    "#### 4.2.1 Tập data ghi lại kết quả sau mỗi lần tung đồng xu"
   ]
  },
  {
   "cell_type": "code",
   "execution_count": 86,
   "metadata": {},
   "outputs": [
    {
     "data": {
      "text/html": [
       "<div>\n",
       "<style scoped>\n",
       "    .dataframe tbody tr th:only-of-type {\n",
       "        vertical-align: middle;\n",
       "    }\n",
       "\n",
       "    .dataframe tbody tr th {\n",
       "        vertical-align: top;\n",
       "    }\n",
       "\n",
       "    .dataframe thead th {\n",
       "        text-align: right;\n",
       "    }\n",
       "</style>\n",
       "<table border=\"1\" class=\"dataframe\">\n",
       "  <thead>\n",
       "    <tr style=\"text-align: right;\">\n",
       "      <th></th>\n",
       "      <th>count</th>\n",
       "    </tr>\n",
       "  </thead>\n",
       "  <tbody>\n",
       "    <tr>\n",
       "      <th>0</th>\n",
       "      <td>1</td>\n",
       "    </tr>\n",
       "    <tr>\n",
       "      <th>1</th>\n",
       "      <td>3</td>\n",
       "    </tr>\n",
       "    <tr>\n",
       "      <th>2</th>\n",
       "      <td>1</td>\n",
       "    </tr>\n",
       "    <tr>\n",
       "      <th>3</th>\n",
       "      <td>5</td>\n",
       "    </tr>\n",
       "    <tr>\n",
       "      <th>4</th>\n",
       "      <td>3</td>\n",
       "    </tr>\n",
       "    <tr>\n",
       "      <th>5</th>\n",
       "      <td>2</td>\n",
       "    </tr>\n",
       "    <tr>\n",
       "      <th>6</th>\n",
       "      <td>3</td>\n",
       "    </tr>\n",
       "    <tr>\n",
       "      <th>7</th>\n",
       "      <td>2</td>\n",
       "    </tr>\n",
       "    <tr>\n",
       "      <th>8</th>\n",
       "      <td>2</td>\n",
       "    </tr>\n",
       "    <tr>\n",
       "      <th>9</th>\n",
       "      <td>3</td>\n",
       "    </tr>\n",
       "  </tbody>\n",
       "</table>\n",
       "</div>"
      ],
      "text/plain": [
       "   count\n",
       "0      1\n",
       "1      3\n",
       "2      1\n",
       "3      5\n",
       "4      3\n",
       "5      2\n",
       "6      3\n",
       "7      2\n",
       "8      2\n",
       "9      3"
      ]
     },
     "execution_count": 86,
     "metadata": {},
     "output_type": "execute_result"
    }
   ],
   "source": [
    "pd.DataFrame(sample1['count'][0:10])"
   ]
  },
  {
   "cell_type": "markdown",
   "metadata": {},
   "source": [
    "#### 4.1.2 Xác xuất được tính theo data"
   ]
  },
  {
   "cell_type": "code",
   "execution_count": 91,
   "metadata": {},
   "outputs": [
    {
     "data": {
      "text/html": [
       "<div>\n",
       "<style scoped>\n",
       "    .dataframe tbody tr th:only-of-type {\n",
       "        vertical-align: middle;\n",
       "    }\n",
       "\n",
       "    .dataframe tbody tr th {\n",
       "        vertical-align: top;\n",
       "    }\n",
       "\n",
       "    .dataframe thead th {\n",
       "        text-align: right;\n",
       "    }\n",
       "</style>\n",
       "<table border=\"1\" class=\"dataframe\">\n",
       "  <thead>\n",
       "    <tr style=\"text-align: right;\">\n",
       "      <th></th>\n",
       "      <th>temp</th>\n",
       "    </tr>\n",
       "    <tr>\n",
       "      <th>count</th>\n",
       "      <th></th>\n",
       "    </tr>\n",
       "  </thead>\n",
       "  <tbody>\n",
       "    <tr>\n",
       "      <th>0</th>\n",
       "      <td>0.047</td>\n",
       "    </tr>\n",
       "    <tr>\n",
       "      <th>1</th>\n",
       "      <td>0.174</td>\n",
       "    </tr>\n",
       "    <tr>\n",
       "      <th>2</th>\n",
       "      <td>0.306</td>\n",
       "    </tr>\n",
       "    <tr>\n",
       "      <th>3</th>\n",
       "      <td>0.308</td>\n",
       "    </tr>\n",
       "    <tr>\n",
       "      <th>4</th>\n",
       "      <td>0.134</td>\n",
       "    </tr>\n",
       "    <tr>\n",
       "      <th>5</th>\n",
       "      <td>0.031</td>\n",
       "    </tr>\n",
       "  </tbody>\n",
       "</table>\n",
       "</div>"
      ],
      "text/plain": [
       "        temp\n",
       "count       \n",
       "0      0.047\n",
       "1      0.174\n",
       "2      0.306\n",
       "3      0.308\n",
       "4      0.134\n",
       "5      0.031"
      ]
     },
     "execution_count": 91,
     "metadata": {},
     "output_type": "execute_result"
    }
   ],
   "source": [
    "sample1.groupby('count').count()/N"
   ]
  },
  {
   "cell_type": "code",
   "execution_count": 93,
   "metadata": {},
   "outputs": [
    {
     "data": {
      "text/plain": [
       "<matplotlib.axes._subplots.AxesSubplot at 0x272eb1d5eb8>"
      ]
     },
     "execution_count": 93,
     "metadata": {},
     "output_type": "execute_result"
    },
    {
     "data": {
      "image/png": "[encoded data removed]",
      "text/plain": [
       "<matplotlib.figure.Figure at 0x272ea4fc550>"
      ]
     },
     "metadata": {},
     "output_type": "display_data"
    }
   ],
   "source": [
    "(sample1.groupby('count').count()/N).plot()"
   ]
  },
  {
   "cell_type": "markdown",
   "metadata": {},
   "source": [
    "#### 4.1.3 Xác xuất tính theo công thức"
   ]
  },
  {
   "cell_type": "code",
   "execution_count": 117,
   "metadata": {},
   "outputs": [
    {
     "data": {
      "text/plain": [
       "<matplotlib.axes._subplots.AxesSubplot at 0x272ebb8aef0>"
      ]
     },
     "execution_count": 117,
     "metadata": {},
     "output_type": "execute_result"
    },
    {
     "data": {
      "image/png": "[encoded data removed]",
      "text/plain": [
       "<matplotlib.figure.Figure at 0x272ec1d3320>"
      ]
     },
     "metadata": {},
     "output_type": "display_data"
    }
   ],
   "source": [
    "pr = []\n",
    "for i in range(6):\n",
    "    pr.append(pr_binomial(5, 0.5, i))\n",
    "\n",
    "pd.DataFrame(pr).plot()"
   ]
  },
  {
   "cell_type": "markdown",
   "metadata": {},
   "source": [
    "#### So sánh xác xuất được tính dựa vào data thực tế và xác xuất dựa vào công thức, ta thấy kết quả xấp xỉ nhau"
   ]
  },
  {
   "cell_type": "code",
   "execution_count": 120,
   "metadata": {},
   "outputs": [
    {
     "data": {
      "text/html": [
       "<div>\n",
       "<style scoped>\n",
       "    .dataframe tbody tr th:only-of-type {\n",
       "        vertical-align: middle;\n",
       "    }\n",
       "\n",
       "    .dataframe tbody tr th {\n",
       "        vertical-align: top;\n",
       "    }\n",
       "\n",
       "    .dataframe thead th {\n",
       "        text-align: right;\n",
       "    }\n",
       "</style>\n",
       "<table border=\"1\" class=\"dataframe\">\n",
       "  <thead>\n",
       "    <tr style=\"text-align: right;\">\n",
       "      <th></th>\n",
       "      <th>0</th>\n",
       "    </tr>\n",
       "  </thead>\n",
       "  <tbody>\n",
       "    <tr>\n",
       "      <th>0</th>\n",
       "      <td>0.03125</td>\n",
       "    </tr>\n",
       "    <tr>\n",
       "      <th>1</th>\n",
       "      <td>0.15625</td>\n",
       "    </tr>\n",
       "    <tr>\n",
       "      <th>2</th>\n",
       "      <td>0.31250</td>\n",
       "    </tr>\n",
       "    <tr>\n",
       "      <th>3</th>\n",
       "      <td>0.31250</td>\n",
       "    </tr>\n",
       "    <tr>\n",
       "      <th>4</th>\n",
       "      <td>0.15625</td>\n",
       "    </tr>\n",
       "    <tr>\n",
       "      <th>5</th>\n",
       "      <td>0.03125</td>\n",
       "    </tr>\n",
       "  </tbody>\n",
       "</table>\n",
       "</div>"
      ],
      "text/plain": [
       "         0\n",
       "0  0.03125\n",
       "1  0.15625\n",
       "2  0.31250\n",
       "3  0.31250\n",
       "4  0.15625\n",
       "5  0.03125"
      ]
     },
     "execution_count": 120,
     "metadata": {},
     "output_type": "execute_result"
    }
   ],
   "source": [
    "print('Kết quả được tính dựa theo công thức : ')\n",
    "pd.DataFrame(pr)"
   ]
  },
  {
   "cell_type": "code",
   "execution_count": 122,
   "metadata": {},
   "outputs": [
    {
     "name": "stdout",
     "output_type": "stream",
     "text": [
      "Kết quả được tính dựa vào data : \n"
     ]
    },
    {
     "data": {
      "text/html": [
       "<div>\n",
       "<style scoped>\n",
       "    .dataframe tbody tr th:only-of-type {\n",
       "        vertical-align: middle;\n",
       "    }\n",
       "\n",
       "    .dataframe tbody tr th {\n",
       "        vertical-align: top;\n",
       "    }\n",
       "\n",
       "    .dataframe thead th {\n",
       "        text-align: right;\n",
       "    }\n",
       "</style>\n",
       "<table border=\"1\" class=\"dataframe\">\n",
       "  <thead>\n",
       "    <tr style=\"text-align: right;\">\n",
       "      <th></th>\n",
       "      <th>temp</th>\n",
       "    </tr>\n",
       "    <tr>\n",
       "      <th>count</th>\n",
       "      <th></th>\n",
       "    </tr>\n",
       "  </thead>\n",
       "  <tbody>\n",
       "    <tr>\n",
       "      <th>0</th>\n",
       "      <td>0.047</td>\n",
       "    </tr>\n",
       "    <tr>\n",
       "      <th>1</th>\n",
       "      <td>0.174</td>\n",
       "    </tr>\n",
       "    <tr>\n",
       "      <th>2</th>\n",
       "      <td>0.306</td>\n",
       "    </tr>\n",
       "    <tr>\n",
       "      <th>3</th>\n",
       "      <td>0.308</td>\n",
       "    </tr>\n",
       "    <tr>\n",
       "      <th>4</th>\n",
       "      <td>0.134</td>\n",
       "    </tr>\n",
       "    <tr>\n",
       "      <th>5</th>\n",
       "      <td>0.031</td>\n",
       "    </tr>\n",
       "  </tbody>\n",
       "</table>\n",
       "</div>"
      ],
      "text/plain": [
       "        temp\n",
       "count       \n",
       "0      0.047\n",
       "1      0.174\n",
       "2      0.306\n",
       "3      0.308\n",
       "4      0.134\n",
       "5      0.031"
      ]
     },
     "execution_count": 122,
     "metadata": {},
     "output_type": "execute_result"
    }
   ],
   "source": [
    "print('Kết quả được tính dựa vào data : ')\n",
    "sample1.groupby('count').count()/N"
   ]
  },
  {
   "cell_type": "markdown",
   "metadata": {},
   "source": [
    "### 4.3 Example 3 : Tung 5 đồng xu với xác xuất 0.3\n",
    "\n",
    "#### Assumptions : Đồng xu không đều, mặt sấp xuất hiện ít hơn mặt ngữa. Xác xuất xuất hiện mặt sấp là 0.3\n",
    "\n",
    "Tạo Sample Data đếm số mặt sấp và ngữa khi tung 1 đồng xu.\n",
    "\n",
    "Trong đó : \n",
    "- n = 5. (Tung 5 đồng xu)\n",
    "- p = 0,3 Xác xuất xuất hiện 2 mặt là như nhau\n",
    "- N = 1000. Thực hiện 1000 phép thử\n",
    "\n",
    "K có 5 giá trị :\n",
    "- 0 : không có mặt ngữa nào xuất hiện\n",
    "- 1 : Có 1 mặt ngữa xuất hiện\n",
    "- 2 : Có 2 mặt ngữa xuất hiện\n",
    "- 3 : Có 3 mặt ngữa xuất hiện\n",
    "- 4 : Có 4 mặt ngữa xuất hiện\n",
    "- 5 : Có 5 mặt ngữa xuất hiện\n",
    "\n",
    "【ASK】Tính xác xuất : \n",
    "- Pr(k = 0)\n",
    "- Pr(k = 1)\n",
    "- Pr(k = 2)\n",
    "- Pr(k = 3)\n",
    "- Pr(k = 4)\n",
    "- Pr(k = 5)"
   ]
  },
  {
   "cell_type": "code",
   "execution_count": 130,
   "metadata": {},
   "outputs": [],
   "source": [
    "sample4 = pd.DataFrame(np.random.binomial(n = 5, p = 0.3, size = N), columns = ['count'])\n",
    "sample4['temp'] = [1] * len(sample4)"
   ]
  },
  {
   "cell_type": "markdown",
   "metadata": {},
   "source": [
    "## Analytics : \n",
    "\n",
    "Từ đồ thị, thấy rằng xác xuất xuất hiện mặt sấp = 1 trong 5 lần tung là cao nhất."
   ]
  },
  {
   "cell_type": "code",
   "execution_count": 134,
   "metadata": {},
   "outputs": [
    {
     "data": {
      "text/plain": [
       "<matplotlib.axes._subplots.AxesSubplot at 0x272ec2f7cf8>"
      ]
     },
     "execution_count": 134,
     "metadata": {},
     "output_type": "execute_result"
    },
    {
     "data": {
      "image/png": "[encoded data removed]",
      "text/plain": [
       "<matplotlib.figure.Figure at 0x272eb9d8b00>"
      ]
     },
     "metadata": {},
     "output_type": "display_data"
    }
   ],
   "source": [
    "sample4.groupby('count').count().plot()"
   ]
  },
  {
   "cell_type": "code",
   "execution_count": 136,
   "metadata": {},
   "outputs": [
    {
     "name": "stdout",
     "output_type": "stream",
     "text": [
      "Xác xuất tính theo data : \n"
     ]
    },
    {
     "data": {
      "text/html": [
       "<div>\n",
       "<style scoped>\n",
       "    .dataframe tbody tr th:only-of-type {\n",
       "        vertical-align: middle;\n",
       "    }\n",
       "\n",
       "    .dataframe tbody tr th {\n",
       "        vertical-align: top;\n",
       "    }\n",
       "\n",
       "    .dataframe thead th {\n",
       "        text-align: right;\n",
       "    }\n",
       "</style>\n",
       "<table border=\"1\" class=\"dataframe\">\n",
       "  <thead>\n",
       "    <tr style=\"text-align: right;\">\n",
       "      <th></th>\n",
       "      <th>temp</th>\n",
       "    </tr>\n",
       "    <tr>\n",
       "      <th>count</th>\n",
       "      <th></th>\n",
       "    </tr>\n",
       "  </thead>\n",
       "  <tbody>\n",
       "    <tr>\n",
       "      <th>0</th>\n",
       "      <td>0.177</td>\n",
       "    </tr>\n",
       "    <tr>\n",
       "      <th>1</th>\n",
       "      <td>0.366</td>\n",
       "    </tr>\n",
       "    <tr>\n",
       "      <th>2</th>\n",
       "      <td>0.302</td>\n",
       "    </tr>\n",
       "    <tr>\n",
       "      <th>3</th>\n",
       "      <td>0.124</td>\n",
       "    </tr>\n",
       "    <tr>\n",
       "      <th>4</th>\n",
       "      <td>0.030</td>\n",
       "    </tr>\n",
       "    <tr>\n",
       "      <th>5</th>\n",
       "      <td>0.001</td>\n",
       "    </tr>\n",
       "  </tbody>\n",
       "</table>\n",
       "</div>"
      ],
      "text/plain": [
       "        temp\n",
       "count       \n",
       "0      0.177\n",
       "1      0.366\n",
       "2      0.302\n",
       "3      0.124\n",
       "4      0.030\n",
       "5      0.001"
      ]
     },
     "execution_count": 136,
     "metadata": {},
     "output_type": "execute_result"
    }
   ],
   "source": [
    "print('Xác xuất tính theo data : ')\n",
    "sample4.groupby('count').count()/N"
   ]
  },
  {
   "cell_type": "code",
   "execution_count": 138,
   "metadata": {},
   "outputs": [
    {
     "name": "stdout",
     "output_type": "stream",
     "text": [
      "Xác xuất tính theo công thức : \n"
     ]
    },
    {
     "data": {
      "text/html": [
       "<div>\n",
       "<style scoped>\n",
       "    .dataframe tbody tr th:only-of-type {\n",
       "        vertical-align: middle;\n",
       "    }\n",
       "\n",
       "    .dataframe tbody tr th {\n",
       "        vertical-align: top;\n",
       "    }\n",
       "\n",
       "    .dataframe thead th {\n",
       "        text-align: right;\n",
       "    }\n",
       "</style>\n",
       "<table border=\"1\" class=\"dataframe\">\n",
       "  <thead>\n",
       "    <tr style=\"text-align: right;\">\n",
       "      <th></th>\n",
       "      <th>0</th>\n",
       "    </tr>\n",
       "  </thead>\n",
       "  <tbody>\n",
       "    <tr>\n",
       "      <th>0</th>\n",
       "      <td>0.16807</td>\n",
       "    </tr>\n",
       "    <tr>\n",
       "      <th>1</th>\n",
       "      <td>0.36015</td>\n",
       "    </tr>\n",
       "    <tr>\n",
       "      <th>2</th>\n",
       "      <td>0.30870</td>\n",
       "    </tr>\n",
       "    <tr>\n",
       "      <th>3</th>\n",
       "      <td>0.13230</td>\n",
       "    </tr>\n",
       "    <tr>\n",
       "      <th>4</th>\n",
       "      <td>0.02835</td>\n",
       "    </tr>\n",
       "    <tr>\n",
       "      <th>5</th>\n",
       "      <td>0.00243</td>\n",
       "    </tr>\n",
       "  </tbody>\n",
       "</table>\n",
       "</div>"
      ],
      "text/plain": [
       "         0\n",
       "0  0.16807\n",
       "1  0.36015\n",
       "2  0.30870\n",
       "3  0.13230\n",
       "4  0.02835\n",
       "5  0.00243"
      ]
     },
     "execution_count": 138,
     "metadata": {},
     "output_type": "execute_result"
    }
   ],
   "source": [
    "print('Xác xuất tính theo công thức : ')\n",
    "pr = []\n",
    "for i in range(6):\n",
    "    pr.append(pr_binomial(5, 0.3, i))\n",
    "\n",
    "pd.DataFrame(pr)"
   ]
  },
  {
   "cell_type": "markdown",
   "metadata": {},
   "source": [
    "## 5. Example from Real world\n",
    "\n",
    "Bài toán thực tế : \n",
    "\n",
    "Dây chuyển sản xuất Iphone gồm 10 Robot, cứ mỗi giờ tình trạng của Robot được update với Status [Hỏng, Chạy tốt]\n",
    "* Xác xuất một máy có khả năng hỏng mỗi giờ 20%.\n",
    "\n",
    "Tìm xác xuất các trường hợp sau : \n",
    "* TH1. Một máy hỏng \n",
    "* TH2. 2 máy hỏng cùng lúc\n",
    "* TH3. 3 máy hỏng cùng lúc\n",
    "* TH4. 4 máy hỏng cùng lúc\n",
    "....\n",
    "* TH10. 10 máy hỏng cùng lúc"
   ]
  },
  {
   "cell_type": "code",
   "execution_count": null,
   "metadata": {},
   "outputs": [],
   "source": []
  }
 ],
 "metadata": {
  "kernelspec": {
   "display_name": "Python 3",
   "language": "python",
   "name": "python3"
  },
  "language_info": {
   "codemirror_mode": {
    "name": "ipython",
    "version": 3
   },
   "file_extension": ".py",
   "mimetype": "text/x-python",
   "name": "python",
   "nbconvert_exporter": "python",
   "pygments_lexer": "ipython3",
   "version": "3.6.4"
  }
 },
 "nbformat": 4,
 "nbformat_minor": 2
}
