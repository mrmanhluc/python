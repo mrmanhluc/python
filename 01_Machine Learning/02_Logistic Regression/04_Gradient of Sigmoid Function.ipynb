{
 "cells": [
  {
   "cell_type": "markdown",
   "metadata": {},
   "source": [
    "# Gradient of  Sigmoid Function"
   ]
  },
  {
   "cell_type": "markdown",
   "metadata": {},
   "source": [
    "## 1. Sigmoid Function and Gradient of Sigmoid \n",
    "\n",
    "$$\n",
    "σ(z) = \\frac{1}{1+\\exp{-Z}}\n",
    "$$\n",
    "\n",
    "#### Gradient of Sigmoid\n",
    "$$\n",
    "\\frac{dσ(x)}{d(x)} =σ(x)⋅(1−σ(x))\n",
    "$$"
   ]
  },
  {
   "cell_type": "code",
   "execution_count": 4,
   "metadata": {},
   "outputs": [],
   "source": [
    "import numpy as np\n",
    "import matplotlib.pyplot as plt"
   ]
  },
  {
   "cell_type": "code",
   "execution_count": 10,
   "metadata": {},
   "outputs": [],
   "source": [
    "def sigmoid(z):\n",
    "    return 1/(1 + np.exp(-z))\n",
    "\n",
    "def gradient_sigmoid(z):\n",
    "    return sigmoid(z) * (1 - sigmoid(z))"
   ]
  },
  {
   "cell_type": "code",
   "execution_count": 11,
   "metadata": {},
   "outputs": [
    {
     "name": "stdout",
     "output_type": "stream",
     "text": [
      "4.5395807735951673e-05\n"
     ]
    },
    {
     "data": {
      "image/png": "[encoded data removed]",
      "text/plain": [
       "<matplotlib.figure.Figure at 0x1b55bcf20f0>"
      ]
     },
     "metadata": {},
     "output_type": "display_data"
    }
   ],
   "source": [
    "x = range(-20, 20)\n",
    "\n",
    "y = [gradient_sigmoid(i) for i in x]\n",
    "\n",
    "plt.plot(x,y)\n",
    "\n",
    "print(y[10])"
   ]
  },
  {
   "cell_type": "markdown",
   "metadata": {},
   "source": [
    "### Kết luận : "
   ]
  },
  {
   "cell_type": "markdown",
   "metadata": {},
   "source": [
    "Giá trị đạo hàm của Sigmoid Function luôn có giá trị <0.25 trong khoảng từ -5;5.\n",
    "\n",
    "Ngoài khoảng này, giá trị Sigmoid Function ~ 0. Vì vậy Learning gần như không thay đổi.\n",
    "\n",
    "Vì vậy, cần chuẩn hóa miền giá trị về 0 trước khi thực hiện training."
   ]
  },
  {
   "cell_type": "code",
   "execution_count": null,
   "metadata": {},
   "outputs": [],
   "source": []
  }
 ],
 "metadata": {
  "kernelspec": {
   "display_name": "Python 3",
   "language": "python",
   "name": "python3"
  },
  "language_info": {
   "codemirror_mode": {
    "name": "ipython",
    "version": 3
   },
   "file_extension": ".py",
   "mimetype": "text/x-python",
   "name": "python",
   "nbconvert_exporter": "python",
   "pygments_lexer": "ipython3",
   "version": "3.6.4"
  }
 },
 "nbformat": 4,
 "nbformat_minor": 2
}
