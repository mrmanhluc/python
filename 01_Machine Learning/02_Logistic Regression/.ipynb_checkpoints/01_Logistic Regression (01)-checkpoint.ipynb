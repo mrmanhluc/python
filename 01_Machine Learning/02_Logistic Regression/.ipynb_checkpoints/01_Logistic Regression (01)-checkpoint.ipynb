{
 "cells": [
  {
   "cell_type": "markdown",
   "metadata": {},
   "source": [
    "# LOGISTIC REGRESSION"
   ]
  },
  {
   "cell_type": "markdown",
   "metadata": {},
   "source": [
    "## 1. Logistic Function\n",
    "\n",
    "#### 1.1 Problem\n",
    "Predict y given x. (y is binary value).\n",
    "\n",
    "#### 1.2 Idea\n",
    "Có thể sử dụng Liner Regression để dự đoán giá trị y. Tuy nhiên, y chứa giá trị y ∈ {0, 1}. Vì vậy, sử dụng Sigmoid Function để dự đoán giá trị y\n",
    "\n",
    "#### 1.3 Function\n",
    "\\begin{align}\n",
    "\\mathbf{h}_θ(x)=g(θ^{T})\n",
    "\\end{align}\n",
    "\\begin{align}\n",
    "z = θ^{x}x\n",
    "\\end{align}\n",
    "\\begin{align}\n",
    "g(z) = \\frac{1}{1+e^{-z}}\n",
    "\\end{align}\n",
    "\n",
    "Trong đó : \n",
    "* g(z) là hàm Sigmoid Function"
   ]
  },
  {
   "cell_type": "code",
   "execution_count": 1,
   "metadata": {},
   "outputs": [],
   "source": [
    "import pandas as pd\n",
    "import numpy as np\n",
    "import matplotlib.pyplot as plt"
   ]
  },
  {
   "cell_type": "code",
   "execution_count": 2,
   "metadata": {},
   "outputs": [],
   "source": [
    "def sigmoid(z):\n",
    "    return 1.0/(1+np.exp(-z))"
   ]
  },
  {
   "cell_type": "markdown",
   "metadata": {},
   "source": [
    "#### 1.5 Đồ thị Sigmoid Function"
   ]
  },
  {
   "cell_type": "code",
   "execution_count": 3,
   "metadata": {},
   "outputs": [
    {
     "data": {
      "text/plain": [
       "[<matplotlib.lines.Line2D at 0x176c1720e48>]"
      ]
     },
     "execution_count": 3,
     "metadata": {},
     "output_type": "execute_result"
    },
    {
     "data": {
      "image/png": "[encoded data removed]",
      "text/plain": [
       "<matplotlib.figure.Figure at 0x176c141c128>"
      ]
     },
     "metadata": {},
     "output_type": "display_data"
    }
   ],
   "source": [
    "x = np.arange(-7, 7)\n",
    "y = [sigmoid(i) for i in x]\n",
    "plt.plot(x,y)"
   ]
  },
  {
   "cell_type": "markdown",
   "metadata": {},
   "source": [
    "## 2 Data Sample\n",
    "\n",
    "* Cho tập X : Thời gian học của mỗi sinh viên, có giá trị từ 0 -> 100 giờ\n",
    "* Tập Y : Kết quả đậu và rớt. Với 0 : Rớt, 1 : Đậu"
   ]
  },
  {
   "cell_type": "code",
   "execution_count": 4,
   "metadata": {},
   "outputs": [
    {
     "data": {
      "text/plain": [
       "[<matplotlib.lines.Line2D at 0x176c18c5390>]"
      ]
     },
     "execution_count": 4,
     "metadata": {},
     "output_type": "execute_result"
    },
    {
     "data": {
      "image/png": "[encoded data removed]",
      "text/plain": [
       "<matplotlib.figure.Figure at 0x176c1402eb8>"
      ]
     },
     "metadata": {},
     "output_type": "display_data"
    }
   ],
   "source": [
    "# Cho tập X là thời gian học, Y là kết quả {0,1} <=> {đậu, rớt} của sinh viên\n",
    "X = np.random.normal(loc=50, scale=15, size = 100).round()\n",
    "Y = [int(i>np.mean(X)) for i in X]\n",
    "\n",
    "# Tao Outlier khoang 10%\n",
    "outlier = np.random.randint(0, 100, 10)\n",
    "for i in outlier:\n",
    "    Y[i] = 1 - Y[i]\n",
    "    \n",
    "plt.plot(X,Y, 'rx')"
   ]
  },
  {
   "cell_type": "markdown",
   "metadata": {},
   "source": [
    "## 3 Cost Function"
   ]
  },
  {
   "cell_type": "markdown",
   "metadata": {},
   "source": [
    "\n",
    "\n",
    "\n",
    "\n",
    "\n",
    "\n",
    "\n",
    "\n",
    "\n",
    "\n",
    "\\begin{equation*}\n",
    "J(θ) = \\frac{1}{m} \\sum_{i=0}^m Cost(\\mathbf{h}_θ(x^i)), y^i)\n",
    "\\end{equation*}\n",
    "\n",
    "Trong đó : \n",
    "* y = 1\n",
    "\\begin{equation*}\n",
    "Cost(\\mathbf{h}_θ(x), y) = - log(\\mathbf{h}_θ(x))\n",
    "\\end{equation*}\n",
    "\n",
    "* y = 0\n",
    "\\begin{equation*}\n",
    "Cost(\\mathbf{h}_θ(x), y) = - log(1 - \\mathbf{h}_θ(x)))\n",
    "\\end{equation*}\n",
    "\n",
    "#### Tổng quát - Cost function \n",
    "\\begin{equation*}\n",
    "Cost(\\mathbf{h}_θ(x))=\\frac{-1}{m} \\sum_{i=0}^m[y^i*log(\\mathbf{h}_θ)) + (1-y^i)*log(1-\\mathbf{h}_θ(x^i)]\n",
    "\\end{equation*}\n",
    "\n",
    "#### Ý tưởng : \n",
    "* y = 1. Tính tổng toàn bộ các giá trị có y = 1 mà dự đoán = 0\n",
    "* y = 0. Tính tổng toàn bộ các giá trị có y = 0 mà dự đoán = 1\n",
    "\n",
    "#### 1.4 Decision Boundary\n",
    "* h(x) >= 0.5 → y = 1\n",
    "* h(x) <  0.5 → y = 0\n",
    "\n",
    "Tuy nhiên\n",
    "g(z) >= 0.5 khi z >= 0\n",
    "\n",
    "#### Ask :\n",
    "1. Tại sao không sử dụng Cost Function như Liner Regression.\n",
    "2. Phương pháp thay thế cho Cost Function là gì?\n",
    "3. Xử lý sao khi Log(0) = Nan\n",
    "\n",
    "#### Ans : \n",
    "1. Bởi hàm cost function sẽ không Convex, vì vậy không sử dụng đạo hàm để tìm giá trị nhỏ nhất được\n",
    "2. Sử dụng Log. Log của 1 Function Log(h0) hoặc Log(1-h0) luôn trả về 1 đồ thị Convex.\n",
    "3. Do Log(0) ~ -vô cùng nên đặt Log(0) = 0"
   ]
  },
  {
   "cell_type": "code",
   "execution_count": 5,
   "metadata": {},
   "outputs": [],
   "source": [
    "def cost_function(x, y, Theta0, Theta1):\n",
    "    m = len(x)\n",
    "    J_Theta = 0\n",
    "    \n",
    "    for i in range(m):\n",
    "        H_Theta = sigmoid(Theta0 * x[i] + Theta1)\n",
    "        J_Theta = (y[i]) * np.log(H_Theta) + (1 - y[i]) * np.log(1-H_Theta)\n",
    "    J_Theta = -J_Theta/m\n",
    "    \n",
    "    return J_Theta"
   ]
  },
  {
   "cell_type": "markdown",
   "metadata": {},
   "source": [
    "# 4. Gradient and Training"
   ]
  },
  {
   "cell_type": "markdown",
   "metadata": {},
   "source": [
    "* Tối ưu Theta\n",
    "\\begin{equation*}\n",
    "\\mathbf{θ}_j:= \\mathbf{θ}_j−\\frac{α}{m}*\\sum_{i=1}^m(\\mathbf{h}_θ - y^i)x^i\n",
    "\\end{equation*}\n",
    "\n",
    "* Ví dụ :  Tình huống θ chỉ chứa 2 biên [θ0, θ1], ta có : \n",
    "\\begin{equation*}\n",
    "\\mathbf{θ}_0 = \\mathbf{θ}_0 - \\frac{α}{m}*\\sum_{i=1}^m(\\mathbf{h}_θ - y^i)x^i\n",
    "\\end{equation*}\n",
    "\n",
    "\\begin{equation*}\n",
    "\\mathbf{θ}_1 = \\mathbf{θ}_0 - \\frac{α}{m}*\\sum_{i=1}^m(\\mathbf{h}_θ - y^i)\n",
    "\\end{equation*}"
   ]
  },
  {
   "cell_type": "code",
   "execution_count": 6,
   "metadata": {},
   "outputs": [],
   "source": [
    "def gradien(x, y, theta0, theta1, have_x):\n",
    "    gradien_value_have_x, gradien_value_not_have_x = 0, 0\n",
    "    m = len(x)\n",
    "   \n",
    "    for i in range(m):\n",
    "        H_theta = sigmoid(theta0 * x[i] + theta1)\n",
    "        gradien_value_have_x += (H_theta - y[i]) * x[i]\n",
    "        gradien_value_not_have_x += (H_theta - y[i])\n",
    "    \n",
    "    if(have_x):\n",
    "        return gradien_value_have_x\n",
    "    return gradien_value_not_have_x\n",
    "\n",
    "def training(x, y, epoch, learning_rate):\n",
    "    theta0 = 1\n",
    "    theta1 = 1\n",
    "    cost_values = []\n",
    "    m = len(x)\n",
    "    \n",
    "    for i in range(epoch):\n",
    "        tmp_t0 = theta0\n",
    "        theta0 -= (learning_rate/m) * gradien(x, y, theta0, theta1, True)\n",
    "        theta1 -= (learning_rate/m) * gradien(x, y, tmp_t0, theta1, False)\n",
    "        cost_values.append(cost_function(x, y, theta0, theta1))\n",
    "    \n",
    "    return {'Theta' : [theta0, theta1], 'cost' : cost_values}"
   ]
  },
  {
   "cell_type": "markdown",
   "metadata": {},
   "source": [
    "# 5. Predict"
   ]
  },
  {
   "cell_type": "code",
   "execution_count": 7,
   "metadata": {},
   "outputs": [
    {
     "name": "stderr",
     "output_type": "stream",
     "text": [
      "C:\\Users\\lucnm\\Anaconda3\\lib\\site-packages\\ipykernel_launcher.py:7: RuntimeWarning: divide by zero encountered in log\n",
      "  import sys\n",
      "C:\\Users\\lucnm\\Anaconda3\\lib\\site-packages\\ipykernel_launcher.py:7: RuntimeWarning: invalid value encountered in double_scalars\n",
      "  import sys\n"
     ]
    },
    {
     "data": {
      "text/plain": [
       "[<matplotlib.lines.Line2D at 0x176c144e390>]"
      ]
     },
     "execution_count": 7,
     "metadata": {},
     "output_type": "execute_result"
    },
    {
     "data": {
      "image/png": "[encoded data removed]",
      "text/plain": [
       "<matplotlib.figure.Figure at 0x176c144e400>"
      ]
     },
     "metadata": {},
     "output_type": "display_data"
    }
   ],
   "source": [
    "theta = training(X, Y, epoch=5000, learning_rate=0.01)['Theta']\n",
    "\n",
    "x_sigmoid = range(-100, 100)\n",
    "y_sigmoid = [sigmoid(theta[0] * x + theta[1]) for x in x_sigmoid]\n",
    "\n",
    "plt.plot(X, Y, 'ro')\n",
    "plt.plot(x_sigmoid, y_sigmoid)"
   ]
  },
  {
   "cell_type": "markdown",
   "metadata": {},
   "source": [
    "# BUG\n",
    "\n",
    "Function Predict không đựa ra kết quả đúng.\n",
    "\n",
    "#### Nguyên nhân : \n",
    "* Đạo hàm của Sigmoid có giá trị rất nhỏ, gần như = 0 khi x nằm ngoài khoảng (-4, 4)\n",
    "\n",
    "#### Giải pháp :\n",
    "* Chuẩn hóa NOrmalization tập data về [-1, 1]\n"
   ]
  },
  {
   "cell_type": "markdown",
   "metadata": {},
   "source": [
    "# 6. Normalization\n",
    "\n",
    "\\begin{equation*}\n",
    "Z=\\frac{x-μ}{σ}\n",
    "\\end{equation*}"
   ]
  },
  {
   "cell_type": "markdown",
   "metadata": {},
   "source": [
    "### 6.1 Normalization Data"
   ]
  },
  {
   "cell_type": "code",
   "execution_count": 10,
   "metadata": {},
   "outputs": [],
   "source": [
    "def normalization(data):\n",
    "    mean = np.mean(data)\n",
    "    std = np.std(data)\n",
    "    Normalized = [(x - mean) / std for x in X]\n",
    "    \n",
    "    return Normalized"
   ]
  },
  {
   "cell_type": "markdown",
   "metadata": {},
   "source": [
    "### 6.2 Training in normalization data"
   ]
  },
  {
   "cell_type": "code",
   "execution_count": 11,
   "metadata": {},
   "outputs": [
    {
     "name": "stdout",
     "output_type": "stream",
     "text": [
      "Theta0 = 1.7485358493612695Theta1 = -0.07960224873733567\n"
     ]
    }
   ],
   "source": [
    "# Step 1 : Normalization data\n",
    "X_Normalized = normalization(X)\n",
    "\n",
    "# Step 2 : Training from normalized data\n",
    "Trained_resuilt = training(X_Normalized, Y, epoch = 10000, learning_rate=0.01)\n",
    "\n",
    "theta, cost = Trained_resuilt['Theta'], Trained_resuilt['cost']\n",
    "\n",
    "print('Theta0 = '+str(theta[0]) + 'Theta1 = '+str(theta[1]))"
   ]
  },
  {
   "cell_type": "markdown",
   "metadata": {},
   "source": [
    "### 6.3 Predict from Trained Data\n",
    "\n",
    "\\begin{equation*}\n",
    "\\frac{1}{1 + e^(1.8435 * x + 0.3344)}\n",
    "\\end{equation*}"
   ]
  },
  {
   "cell_type": "code",
   "execution_count": 12,
   "metadata": {},
   "outputs": [
    {
     "data": {
      "text/plain": [
       "[<matplotlib.lines.Line2D at 0x176c18d5da0>]"
      ]
     },
     "execution_count": 12,
     "metadata": {},
     "output_type": "execute_result"
    },
    {
     "data": {
      "image/png": "[encoded data removed]",
      "text/plain": [
       "<matplotlib.figure.Figure at 0x176c18d5ac8>"
      ]
     },
     "metadata": {},
     "output_type": "display_data"
    }
   ],
   "source": [
    "x_sigmoid = range(-5, 5)\n",
    "\n",
    "# Create y_sigmoid with x have values in [-5. 5]\n",
    "y_sigmoid = [sigmoid(theta[0] * x + theta[1]) for x in x_sigmoid]\n",
    "\n",
    "plt.plot(X_Normalized, Y, 'ro')\n",
    "plt.plot(x_sigmoid, y_sigmoid)"
   ]
  },
  {
   "cell_type": "markdown",
   "metadata": {},
   "source": [
    "### 6.4 Cost Values"
   ]
  },
  {
   "cell_type": "code",
   "execution_count": 13,
   "metadata": {},
   "outputs": [
    {
     "data": {
      "text/plain": [
       "[<matplotlib.lines.Line2D at 0x176c1a37d68>]"
      ]
     },
     "execution_count": 13,
     "metadata": {},
     "output_type": "execute_result"
    },
    {
     "data": {
      "image/png": "[encoded data removed]",
      "text/plain": [
       "<matplotlib.figure.Figure at 0x176c18fb860>"
      ]
     },
     "metadata": {},
     "output_type": "display_data"
    }
   ],
   "source": [
    "plt.plot(cost)"
   ]
  },
  {
   "cell_type": "markdown",
   "metadata": {},
   "source": [
    "## 7. Improve Code"
   ]
  },
  {
   "cell_type": "code",
   "execution_count": 14,
   "metadata": {},
   "outputs": [],
   "source": [
    "# Step 1 : Create data sample have type like : [x0, x1] with x1 value is 1\n",
    "\n",
    "m_X = np.matrix([list(X), list(np.ones(len(X)))])\n",
    "m_theta = np.matrix([1,1])\n",
    "\n",
    "def cost_1(x, y, theta):\n",
    "    m = x.shape[1]\n",
    "    return (-1/m) * np.sum(y.T * np.log(sigmoid(x * theta.T)) + (1-y) * np.log(1 - sigmoid(x * theta.T)))\n",
    "\n",
    "def trainning_1(x, y, epoch, alpha):\n",
    "    _theta = np.matrix([1, 1])\n",
    "    _train = 0\n",
    "    _cost = []\n",
    "    while(_train<5000):\n",
    "        for i in range(len(theta)):\n",
    "            _theta[i] -= (0.001/100)*np.sum(np.dot((sigmoid(x.dot(np.transpose(_theta))) - y), x.T[i]))\n",
    "            _cost.append(cost_1(x, y, theta))\n",
    "        _train += 1\n",
    "\n",
    "    return theta"
   ]
  },
  {
   "cell_type": "code",
   "execution_count": 18,
   "metadata": {
    "collapsed": true
   },
   "outputs": [
    {
     "ename": "NameError",
     "evalue": "name 'X_bar' is not defined",
     "output_type": "error",
     "traceback": [
      "\u001b[1;31m---------------------------------------------------------------------------\u001b[0m",
      "\u001b[1;31mNameError\u001b[0m                                 Traceback (most recent call last)",
      "\u001b[1;32m<ipython-input-18-a9fcd9e568b7>\u001b[0m in \u001b[0;36m<module>\u001b[1;34m()\u001b[0m\n\u001b[0;32m      1\u001b[0m \u001b[0m_theta\u001b[0m \u001b[1;33m=\u001b[0m \u001b[0mnp\u001b[0m\u001b[1;33m.\u001b[0m\u001b[0mmatrix\u001b[0m\u001b[1;33m(\u001b[0m\u001b[1;33m[\u001b[0m\u001b[1;36m1\u001b[0m\u001b[1;33m,\u001b[0m \u001b[1;36m1\u001b[0m\u001b[1;33m]\u001b[0m\u001b[1;33m)\u001b[0m\u001b[1;33m\u001b[0m\u001b[0m\n\u001b[1;32m----> 2\u001b[1;33m \u001b[0mY_bar\u001b[0m \u001b[1;33m=\u001b[0m \u001b[0mnp\u001b[0m\u001b[1;33m.\u001b[0m\u001b[0mlog\u001b[0m\u001b[1;33m(\u001b[0m\u001b[0msigmoid\u001b[0m\u001b[1;33m(\u001b[0m\u001b[0mX_bar\u001b[0m \u001b[1;33m*\u001b[0m \u001b[0m_theta\u001b[0m\u001b[1;33m.\u001b[0m\u001b[0mT\u001b[0m\u001b[1;33m)\u001b[0m\u001b[1;33m)\u001b[0m\u001b[1;33m.\u001b[0m\u001b[0mT\u001b[0m\u001b[1;33m\u001b[0m\u001b[0m\n\u001b[0m",
      "\u001b[1;31mNameError\u001b[0m: name 'X_bar' is not defined"
     ]
    }
   ],
   "source": [
    "_theta = np.matrix([1, 1])\n",
    "Y_bar = np.log(sigmoid(X_bar * _theta.T)).T "
   ]
  },
  {
   "cell_type": "code",
   "execution_count": 19,
   "metadata": {
    "collapsed": true
   },
   "outputs": [
    {
     "ename": "ValueError",
     "evalue": "all the input arrays must have same number of dimensions",
     "output_type": "error",
     "traceback": [
      "\u001b[1;31m---------------------------------------------------------------------------\u001b[0m",
      "\u001b[1;31mValueError\u001b[0m                                Traceback (most recent call last)",
      "\u001b[1;32m<ipython-input-19-e37018bc4a9c>\u001b[0m in \u001b[0;36m<module>\u001b[1;34m()\u001b[0m\n\u001b[1;32m----> 1\u001b[1;33m \u001b[0mXbar\u001b[0m \u001b[1;33m=\u001b[0m \u001b[0mnp\u001b[0m\u001b[1;33m.\u001b[0m\u001b[0mconcatenate\u001b[0m\u001b[1;33m(\u001b[0m\u001b[1;33m(\u001b[0m\u001b[0mnp\u001b[0m\u001b[1;33m.\u001b[0m\u001b[0mones\u001b[0m\u001b[1;33m(\u001b[0m\u001b[1;33m(\u001b[0m\u001b[0mX\u001b[0m\u001b[1;33m.\u001b[0m\u001b[0mshape\u001b[0m\u001b[1;33m[\u001b[0m\u001b[1;36m0\u001b[0m\u001b[1;33m]\u001b[0m\u001b[1;33m,\u001b[0m \u001b[1;36m1\u001b[0m\u001b[1;33m)\u001b[0m\u001b[1;33m)\u001b[0m\u001b[1;33m,\u001b[0m \u001b[0mX\u001b[0m\u001b[1;33m)\u001b[0m\u001b[1;33m,\u001b[0m \u001b[0maxis\u001b[0m \u001b[1;33m=\u001b[0m \u001b[1;36m0\u001b[0m\u001b[1;33m)\u001b[0m\u001b[1;33m\u001b[0m\u001b[0m\n\u001b[0m\u001b[0;32m      2\u001b[0m \u001b[1;33m\u001b[0m\u001b[0m\n\u001b[0;32m      3\u001b[0m \u001b[0mones\u001b[0m \u001b[1;33m=\u001b[0m \u001b[0mnp\u001b[0m\u001b[1;33m.\u001b[0m\u001b[0mones\u001b[0m\u001b[1;33m(\u001b[0m\u001b[1;33m(\u001b[0m\u001b[0mX_Normalized\u001b[0m\u001b[1;33m.\u001b[0m\u001b[0mshape\u001b[0m\u001b[1;33m[\u001b[0m\u001b[1;36m0\u001b[0m\u001b[1;33m]\u001b[0m\u001b[1;33m,\u001b[0m \u001b[1;36m1\u001b[0m\u001b[1;33m)\u001b[0m\u001b[1;33m)\u001b[0m\u001b[1;33m\u001b[0m\u001b[0m\n\u001b[0;32m      4\u001b[0m \u001b[0mX_bar\u001b[0m \u001b[1;33m=\u001b[0m \u001b[0mnp\u001b[0m\u001b[1;33m.\u001b[0m\u001b[0mconcatenate\u001b[0m\u001b[1;33m(\u001b[0m\u001b[1;33m(\u001b[0m\u001b[0mX_Normalized\u001b[0m\u001b[1;33m.\u001b[0m\u001b[0mreshape\u001b[0m\u001b[1;33m(\u001b[0m\u001b[0mX_Normalizedshape\u001b[0m\u001b[1;33m[\u001b[0m\u001b[1;36m0\u001b[0m\u001b[1;33m]\u001b[0m\u001b[1;33m,\u001b[0m \u001b[1;36m1\u001b[0m\u001b[1;33m)\u001b[0m\u001b[1;33m,\u001b[0m \u001b[0mones\u001b[0m\u001b[1;33m)\u001b[0m\u001b[1;33m,\u001b[0m \u001b[0maxis\u001b[0m \u001b[1;33m=\u001b[0m \u001b[1;36m1\u001b[0m\u001b[1;33m)\u001b[0m\u001b[1;33m\u001b[0m\u001b[0m\n\u001b[0;32m      5\u001b[0m \u001b[1;33m\u001b[0m\u001b[0m\n",
      "\u001b[1;31mValueError\u001b[0m: all the input arrays must have same number of dimensions"
     ]
    }
   ],
   "source": [
    "Xbar = np.concatenate((np.ones((X.shape[0], 1)), X), axis = 0)\n",
    "\n",
    "ones = np.ones((X_Normalized.shape[0], 1))\n",
    "X_bar = np.concatenate((X_Normalized.reshape(X_Normalizedshape[0], 1), ones), axis = 1)\n",
    "\n",
    "Y_bar = np.array(Y).reshape(np.array(Y).shape[0], 1)\n",
    "\n",
    "theta_imporved = trainning_1(X_bar, Y_bar, 1000, 0.001)"
   ]
  },
  {
   "cell_type": "code",
   "execution_count": 20,
   "metadata": {
    "collapsed": true
   },
   "outputs": [
    {
     "ename": "NameError",
     "evalue": "name 'theta_imporved' is not defined",
     "output_type": "error",
     "traceback": [
      "\u001b[1;31m---------------------------------------------------------------------------\u001b[0m",
      "\u001b[1;31mNameError\u001b[0m                                 Traceback (most recent call last)",
      "\u001b[1;32m<ipython-input-20-5123a4ff1d51>\u001b[0m in \u001b[0;36m<module>\u001b[1;34m()\u001b[0m\n\u001b[0;32m      2\u001b[0m \u001b[1;33m\u001b[0m\u001b[0m\n\u001b[0;32m      3\u001b[0m \u001b[1;31m# Create y_sigmoid with x have values in [-5. 5]\u001b[0m\u001b[1;33m\u001b[0m\u001b[1;33m\u001b[0m\u001b[0m\n\u001b[1;32m----> 4\u001b[1;33m \u001b[0my_sigmoid\u001b[0m \u001b[1;33m=\u001b[0m \u001b[1;33m[\u001b[0m\u001b[0msigmoid\u001b[0m\u001b[1;33m(\u001b[0m\u001b[0mtheta_imporved\u001b[0m\u001b[1;33m[\u001b[0m\u001b[1;36m0\u001b[0m\u001b[1;33m]\u001b[0m \u001b[1;33m*\u001b[0m \u001b[0mx\u001b[0m \u001b[1;33m+\u001b[0m \u001b[0mtheta_imporved\u001b[0m\u001b[1;33m[\u001b[0m\u001b[1;36m1\u001b[0m\u001b[1;33m]\u001b[0m\u001b[1;33m)\u001b[0m \u001b[1;32mfor\u001b[0m \u001b[0mx\u001b[0m \u001b[1;32min\u001b[0m \u001b[0mx_sigmoid\u001b[0m\u001b[1;33m]\u001b[0m\u001b[1;33m\u001b[0m\u001b[0m\n\u001b[0m\u001b[0;32m      5\u001b[0m \u001b[1;33m\u001b[0m\u001b[0m\n\u001b[0;32m      6\u001b[0m \u001b[0mplt\u001b[0m\u001b[1;33m.\u001b[0m\u001b[0mplot\u001b[0m\u001b[1;33m(\u001b[0m\u001b[0mX_Normalized\u001b[0m\u001b[1;33m,\u001b[0m \u001b[0mY\u001b[0m\u001b[1;33m,\u001b[0m \u001b[1;34m'ro'\u001b[0m\u001b[1;33m)\u001b[0m\u001b[1;33m\u001b[0m\u001b[0m\n",
      "\u001b[1;32m<ipython-input-20-5123a4ff1d51>\u001b[0m in \u001b[0;36m<listcomp>\u001b[1;34m(.0)\u001b[0m\n\u001b[0;32m      2\u001b[0m \u001b[1;33m\u001b[0m\u001b[0m\n\u001b[0;32m      3\u001b[0m \u001b[1;31m# Create y_sigmoid with x have values in [-5. 5]\u001b[0m\u001b[1;33m\u001b[0m\u001b[1;33m\u001b[0m\u001b[0m\n\u001b[1;32m----> 4\u001b[1;33m \u001b[0my_sigmoid\u001b[0m \u001b[1;33m=\u001b[0m \u001b[1;33m[\u001b[0m\u001b[0msigmoid\u001b[0m\u001b[1;33m(\u001b[0m\u001b[0mtheta_imporved\u001b[0m\u001b[1;33m[\u001b[0m\u001b[1;36m0\u001b[0m\u001b[1;33m]\u001b[0m \u001b[1;33m*\u001b[0m \u001b[0mx\u001b[0m \u001b[1;33m+\u001b[0m \u001b[0mtheta_imporved\u001b[0m\u001b[1;33m[\u001b[0m\u001b[1;36m1\u001b[0m\u001b[1;33m]\u001b[0m\u001b[1;33m)\u001b[0m \u001b[1;32mfor\u001b[0m \u001b[0mx\u001b[0m \u001b[1;32min\u001b[0m \u001b[0mx_sigmoid\u001b[0m\u001b[1;33m]\u001b[0m\u001b[1;33m\u001b[0m\u001b[0m\n\u001b[0m\u001b[0;32m      5\u001b[0m \u001b[1;33m\u001b[0m\u001b[0m\n\u001b[0;32m      6\u001b[0m \u001b[0mplt\u001b[0m\u001b[1;33m.\u001b[0m\u001b[0mplot\u001b[0m\u001b[1;33m(\u001b[0m\u001b[0mX_Normalized\u001b[0m\u001b[1;33m,\u001b[0m \u001b[0mY\u001b[0m\u001b[1;33m,\u001b[0m \u001b[1;34m'ro'\u001b[0m\u001b[1;33m)\u001b[0m\u001b[1;33m\u001b[0m\u001b[0m\n",
      "\u001b[1;31mNameError\u001b[0m: name 'theta_imporved' is not defined"
     ]
    }
   ],
   "source": [
    "x_sigmoid = range(-5, 5)\n",
    "\n",
    "# Create y_sigmoid with x have values in [-5. 5]\n",
    "y_sigmoid = [sigmoid(theta_imporved[0] * x + theta_imporved[1]) for x in x_sigmoid]\n",
    "\n",
    "plt.plot(X_Normalized, Y, 'ro')\n",
    "plt.plot(x_sigmoid, y_sigmoid)"
   ]
  },
  {
   "cell_type": "code",
   "execution_count": 21,
   "metadata": {
    "collapsed": true
   },
   "outputs": [
    {
     "ename": "NameError",
     "evalue": "name 'theta_imporved' is not defined",
     "output_type": "error",
     "traceback": [
      "\u001b[1;31m---------------------------------------------------------------------------\u001b[0m",
      "\u001b[1;31mNameError\u001b[0m                                 Traceback (most recent call last)",
      "\u001b[1;32m<ipython-input-21-4d466398c0a5>\u001b[0m in \u001b[0;36m<module>\u001b[1;34m()\u001b[0m\n\u001b[1;32m----> 1\u001b[1;33m \u001b[0mtheta_imporved\u001b[0m\u001b[1;33m\u001b[0m\u001b[0m\n\u001b[0m",
      "\u001b[1;31mNameError\u001b[0m: name 'theta_imporved' is not defined"
     ]
    }
   ],
   "source": [
    "theta_imporved"
   ]
  },
  {
   "cell_type": "markdown",
   "metadata": {},
   "source": [
    "## 7. Use Sklearn for Logistic Regression"
   ]
  },
  {
   "cell_type": "code",
   "execution_count": 22,
   "metadata": {},
   "outputs": [],
   "source": [
    "from sklearn.linear_model import LogisticRegression"
   ]
  },
  {
   "cell_type": "code",
   "execution_count": 23,
   "metadata": {},
   "outputs": [
    {
     "name": "stdout",
     "output_type": "stream",
     "text": [
      "(100, 2)\n",
      "(100, 1)\n"
     ]
    },
    {
     "data": {
      "text/plain": [
       "array([[0.29298793],\n",
       "       [0.93251376]])"
      ]
     },
     "execution_count": 23,
     "metadata": {},
     "output_type": "execute_result"
    }
   ],
   "source": [
    "def train2():\n",
    "    theta = np.ones((2, 1))\n",
    "    m = len(X)\n",
    "    x0 = X - 50\n",
    "    x1 = np.ones(m)\n",
    "    x = np.array(list(zip(x0, x1)))\n",
    "    print(x.shape)\n",
    "    y = np.expand_dims(np.array(Y), axis=-1)\n",
    "    print(y.shape)\n",
    "    for i in range(500):\n",
    "        h = sigmoid(np.dot(x, theta))\n",
    "        z = h - y\n",
    "        theta -= 0.001/m * np.dot(np.transpose(x), z)\n",
    "    return theta\n",
    "\n",
    "train2()"
   ]
  },
  {
   "cell_type": "markdown",
   "metadata": {},
   "source": [
    "## 8. Khảo sát sự biến thiên của Sigmoid\n",
    "\n",
    "Function Z in Sigmoid function must be like : \n",
    "Z = theta0 * x + theta1.\n",
    "\n",
    "Nếu không có theta1, hàm Sigmoid sẽ đạt giá trị tại Y = 0.5 với X = 0"
   ]
  },
  {
   "cell_type": "code",
   "execution_count": 25,
   "metadata": {},
   "outputs": [],
   "source": [
    "def sigmoid_1 (x, theta0, theta1):\n",
    "    temp = 1.0/(1.0 + np.exp(-1.0 * (theta0*x + theta1)))\n",
    "    return temp"
   ]
  },
  {
   "cell_type": "markdown",
   "metadata": {},
   "source": [
    "### 8.1 Tình huống 1. \n",
    "* Theta0 = 0.1\n",
    "* Theta1 = 0"
   ]
  },
  {
   "cell_type": "code",
   "execution_count": 26,
   "metadata": {},
   "outputs": [
    {
     "data": {
      "text/plain": [
       "[<matplotlib.lines.Line2D at 0x176c38b3048>]"
      ]
     },
     "execution_count": 26,
     "metadata": {},
     "output_type": "execute_result"
    },
    {
     "data": {
      "image/png": "[encoded data removed]",
      "text/plain": [
       "<matplotlib.figure.Figure at 0x176c3812630>"
      ]
     },
     "metadata": {},
     "output_type": "display_data"
    }
   ],
   "source": [
    "x_temp = range(-100, 100)\n",
    "\n",
    "y_temp = [sigmoid_1(x_i, 0.1, 0) for x_i in x_temp]\n",
    "plt.plot(x_temp, y_temp)"
   ]
  },
  {
   "cell_type": "markdown",
   "metadata": {},
   "source": [
    "### 8.2 Tình huống 2\n",
    "* Theta0 = 0.7\n",
    "* Theta1 = 0\n",
    "\n",
    "Đồ thị đạt Y = 0.5 tại X = 0.\n",
    "Với Theta0 gần tiến tới 1, đồ thị hẹp hơn so với 0.3"
   ]
  },
  {
   "cell_type": "code",
   "execution_count": 27,
   "metadata": {},
   "outputs": [
    {
     "data": {
      "text/plain": [
       "[<matplotlib.lines.Line2D at 0x176c3911358>]"
      ]
     },
     "execution_count": 27,
     "metadata": {},
     "output_type": "execute_result"
    },
    {
     "data": {
      "image/png": "[encoded data removed]",
      "text/plain": [
       "<matplotlib.figure.Figure at 0x176c38c09b0>"
      ]
     },
     "metadata": {},
     "output_type": "display_data"
    }
   ],
   "source": [
    "y_temp = [sigmoid_1(x_i, 0.7, 0) for x_i in x_temp]\n",
    "plt.plot(x_temp, y_temp)"
   ]
  },
  {
   "cell_type": "markdown",
   "metadata": {},
   "source": [
    "### 8.3 Tình huống 3\n",
    "* Theta0 = 0.7\n",
    "* Theta1 = 50\n",
    "\n",
    "Đồ thị dịch qua trái 50 đơn vị"
   ]
  },
  {
   "cell_type": "code",
   "execution_count": 28,
   "metadata": {},
   "outputs": [
    {
     "data": {
      "text/plain": [
       "[<matplotlib.lines.Line2D at 0x176c3971e10>]"
      ]
     },
     "execution_count": 28,
     "metadata": {},
     "output_type": "execute_result"
    },
    {
     "data": {
      "image/png": "[encoded data removed]",
      "text/plain": [
       "<matplotlib.figure.Figure at 0x176c392bb00>"
      ]
     },
     "metadata": {},
     "output_type": "display_data"
    }
   ],
   "source": [
    "y_temp = [sigmoid_1(x_i, 0.7, 50) for x_i in x_temp]\n",
    "plt.plot(x_temp, y_temp)"
   ]
  },
  {
   "cell_type": "markdown",
   "metadata": {},
   "source": [
    "### 8.4 Tình huống 4\n",
    "* Theta0 = 0.7\n",
    "* Theta1 = 50"
   ]
  },
  {
   "cell_type": "code",
   "execution_count": 29,
   "metadata": {},
   "outputs": [
    {
     "data": {
      "text/plain": [
       "[<matplotlib.lines.Line2D at 0x176c39d89b0>]"
      ]
     },
     "execution_count": 29,
     "metadata": {},
     "output_type": "execute_result"
    },
    {
     "data": {
      "image/png": "[encoded data removed]",
      "text/plain": [
       "<matplotlib.figure.Figure at 0x176c3987630>"
      ]
     },
     "metadata": {},
     "output_type": "display_data"
    }
   ],
   "source": [
    "y_temp = [sigmoid_1(x_i, 0.7, -50) for x_i in x_temp]\n",
    "plt.plot(x_temp, y_temp)"
   ]
  },
  {
   "cell_type": "markdown",
   "metadata": {},
   "source": [
    "## 9. Gradient"
   ]
  },
  {
   "cell_type": "code",
   "execution_count": 30,
   "metadata": {},
   "outputs": [],
   "source": [
    "x = range(0, 100)\n",
    "y = np.sin(x)"
   ]
  },
  {
   "cell_type": "code",
   "execution_count": 31,
   "metadata": {},
   "outputs": [],
   "source": [
    "y_gradient = np.cos(x)"
   ]
  },
  {
   "cell_type": "code",
   "execution_count": 32,
   "metadata": {},
   "outputs": [
    {
     "data": {
      "text/plain": [
       "[<matplotlib.lines.Line2D at 0x176c39f09b0>]"
      ]
     },
     "execution_count": 32,
     "metadata": {},
     "output_type": "execute_result"
    },
    {
     "data": {
      "image/png": "[encoded data removed]",
      "text/plain": [
       "<matplotlib.figure.Figure at 0x176c39f0e10>"
      ]
     },
     "metadata": {},
     "output_type": "display_data"
    }
   ],
   "source": [
    "plt.plot(x,y)\n",
    "plt.plot(x, y_gradient, 'ro')"
   ]
  }
 ],
 "metadata": {
  "kernelspec": {
   "display_name": "Python 3",
   "language": "python",
   "name": "python3"
  },
  "language_info": {
   "codemirror_mode": {
    "name": "ipython",
    "version": 3
   },
   "file_extension": ".py",
   "mimetype": "text/x-python",
   "name": "python",
   "nbconvert_exporter": "python",
   "pygments_lexer": "ipython3",
   "version": "3.6.4"
  }
 },
 "nbformat": 4,
 "nbformat_minor": 2
}
