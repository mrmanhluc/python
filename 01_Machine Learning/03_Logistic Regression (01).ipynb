{
 "cells": [
  {
   "cell_type": "markdown",
   "metadata": {},
   "source": [
    "# LOGISTIC REGRESSION"
   ]
  },
  {
   "cell_type": "markdown",
   "metadata": {},
   "source": [
    "## 1. Logistic Function\n",
    "\n",
    "#### 1.1 Problem\n",
    "Predict y given x. (y is binary value).\n",
    "\n",
    "#### 1.2 Idea\n",
    "Có thể sử dụng Liner Regression để dự đoán giá trị y. Tuy nhiên, y chứa giá trị y ∈ {0, 1}. Vì vậy, sử dụng Sigmoid Function để dự đoán giá trị y\n",
    "\n",
    "#### 1.3 Function\n",
    "\\begin{align}\n",
    "\\mathbf{h}_θ(x)=g(θ^{T})\n",
    "\\end{align}\n",
    "\\begin{align}\n",
    "z = θ^{x}x\n",
    "\\end{align}\n",
    "\\begin{align}\n",
    "g(z) = \\frac{1}{1+e^{-z}}\n",
    "\\end{align}\n",
    "\n",
    "Trong đó : \n",
    "* g(z) là hàm Sigmoid Function"
   ]
  },
  {
   "cell_type": "code",
   "execution_count": 1,
   "metadata": {},
   "outputs": [],
   "source": [
    "import pandas as pd\n",
    "import numpy as np\n",
    "import matplotlib.pyplot as plt"
   ]
  },
  {
   "cell_type": "code",
   "execution_count": 2,
   "metadata": {},
   "outputs": [],
   "source": [
    "def sigmoid(z):\n",
    "    return 1.0/(1+np.exp(-z))"
   ]
  },
  {
   "cell_type": "markdown",
   "metadata": {},
   "source": [
    "#### 1.5 Đồ thị Sigmoid Function"
   ]
  },
  {
   "cell_type": "code",
   "execution_count": 3,
   "metadata": {},
   "outputs": [
    {
     "data": {
      "text/plain": [
       "[<matplotlib.lines.Line2D at 0x1cd0f2cfda0>]"
      ]
     },
     "execution_count": 3,
     "metadata": {},
     "output_type": "execute_result"
    },
    {
     "data": {
      "image/png": "[encoded data removed]",
      "text/plain": [
       "<matplotlib.figure.Figure at 0x1cd0efc2fd0>"
      ]
     },
     "metadata": {},
     "output_type": "display_data"
    }
   ],
   "source": [
    "x = np.arange(-7, 7)\n",
    "y = [sigmoid(i) for i in x]\n",
    "plt.plot(x,y)"
   ]
  },
  {
   "cell_type": "markdown",
   "metadata": {},
   "source": [
    "## 1. Data Sample"
   ]
  },
  {
   "cell_type": "markdown",
   "metadata": {},
   "source": []
  },
  {
   "cell_type": "markdown",
   "metadata": {},
   "source": [
    "## 2 Data Sample\n",
    "\n",
    "* Cho tập X : Thời gian học của mỗi sinh viên, có giá trị từ 0 -> 100 giờ\n",
    "* Tập Y : Kết quả đậu và rớt. Với 0 : Rớt, 1 : Đậu"
   ]
  },
  {
   "cell_type": "code",
   "execution_count": 4,
   "metadata": {},
   "outputs": [
    {
     "data": {
      "text/plain": [
       "[<matplotlib.lines.Line2D at 0x1cd0f476278>]"
      ]
     },
     "execution_count": 4,
     "metadata": {},
     "output_type": "execute_result"
    },
    {
     "data": {
      "image/png": "[encoded data removed]",
      "text/plain": [
       "<matplotlib.figure.Figure at 0x1cd0efc2ef0>"
      ]
     },
     "metadata": {},
     "output_type": "display_data"
    }
   ],
   "source": [
    "# Cho tập X là thời gian học, Y là kết quả {0,1} <=> {đậu, rớt} của sinh viên\n",
    "X = np.random.normal(loc=50, scale=15, size = 100).round()\n",
    "Y = [int(i>np.mean(X)) for i in X]\n",
    "\n",
    "# Tao Outlier khoang 10%\n",
    "outlier = np.random.randint(0, 100, 10)\n",
    "for i in outlier:\n",
    "    Y[i] = 1 - Y[i]\n",
    "    \n",
    "plt.plot(X,Y, 'rx')"
   ]
  },
  {
   "cell_type": "markdown",
   "metadata": {},
   "source": [
    "## 3 Cost Function"
   ]
  },
  {
   "cell_type": "markdown",
   "metadata": {},
   "source": [
    "\\begin{equation*}\n",
    "J(θ) = \\frac{1}{m} \\sum_{i=0}^m Cost(\\mathbf{h}_θ(x^i)), y^i)\n",
    "\\end{equation*}\n",
    "\n",
    "Trong đó : \n",
    "* y = 1\n",
    "\\begin{equation*}\n",
    "Cost(\\mathbf{h}_θ(x), y) = - log(\\mathbf{h}_θ(x))\n",
    "\\end{equation*}\n",
    "\n",
    "* y = 0\n",
    "\\begin{equation*}\n",
    "Cost(\\mathbf{h}_θ(x), y) = - log(1 - \\mathbf{h}_θ(x)))\n",
    "\\end{equation*}\n",
    "\n",
    "#### Tổng quát - Cost function \n",
    "\\begin{equation*}\n",
    "Cost(\\mathbf{h}_θ(x))=\\frac{-1}{m} \\sum_{i=0}^m[-y^i*log(\\mathbf{h}_θ)) - (1-y^i)*log(1-\\mathbf{h}_θ(x^i)]\n",
    "\\end{equation*}\n",
    "\n",
    "#### Ý tưởng : \n",
    "* y = 1. Tính tổng toàn bộ các giá trị có y = 1 mà dự đoán = 0\n",
    "* y = 0. Tính tổng toàn bộ các giá trị có y = 0 mà dự đoán = 1\n",
    "\n",
    "#### 1.4 Decision Boundary\n",
    "* h(x) >= 0.5 → y = 1\n",
    "* h(x) <  0.5 → y = 0\n",
    "\n",
    "Tuy nhiên\n",
    "g(z) >= 0.5 khi z >= 0\n",
    "\n",
    "#### Ask :\n",
    "1. Tại sao không sử dụng Cost Function như Liner Regression.\n",
    "2. Phương pháp thay thế cho Cost Function là gì?\n",
    "\n",
    "#### Ans : \n",
    "1. Bởi hàm cost function sẽ không Convex, vì vậy không sử dụng đạo hàm để tìm giá trị nhỏ nhất được\n",
    "2. Sử dụng Log. Log của 1 Function Log(h0) hoặc Log(1-h0) luôn trả về 1 đồ thị Convex."
   ]
  },
  {
   "cell_type": "code",
   "execution_count": 5,
   "metadata": {},
   "outputs": [],
   "source": [
    "def cost_function(x, y, Theta0, Theta1):\n",
    "    m = len(x)\n",
    "    J_Theta = 0\n",
    "    \n",
    "    for i in range(m):\n",
    "        H_Theta = sigmoid(Theta0 * x[i] + Theta1)\n",
    "        J_Theta = (y[i]) * np.log(H_Theta) + (1 - y[i]) * np.log(1-H_Theta)\n",
    "    J_Theta = -J_Theta/m\n",
    "    \n",
    "    return J_Theta"
   ]
  },
  {
   "cell_type": "markdown",
   "metadata": {},
   "source": [
    "# 4. Gradient and Training"
   ]
  },
  {
   "cell_type": "markdown",
   "metadata": {},
   "source": [
    "* Tối ưu Theta\n",
    "\\begin{equation*}\n",
    "\\mathbf{θ}_j:= \\mathbf{θ}_j−\\frac{α}{m}*\\sum_{i=1}^m(\\mathbf{h}_θ - y^i)x^i\n",
    "\\end{equation*}\n",
    "\n",
    "* Ví dụ :  Tình huống θ chỉ chứa 2 biên [θ0, θ1], ta có : \n",
    "\\begin{equation*}\n",
    "\\mathbf{θ}_0 = \\mathbf{θ}_0 - \\frac{α}{m}*\\sum_{i=1}^m(\\mathbf{h}_θ - y^i)x^i\n",
    "\\end{equation*}\n",
    "\n",
    "\\begin{equation*}\n",
    "\\mathbf{θ}_1 = \\mathbf{θ}_0 - \\frac{α}{m}*\\sum_{i=1}^m(\\mathbf{h}_θ - y^i)\n",
    "\\end{equation*}"
   ]
  },
  {
   "cell_type": "code",
   "execution_count": 29,
   "metadata": {},
   "outputs": [],
   "source": [
    "def gradien(x, y, theta0, theta1, have_x):\n",
    "    gradien_value_have_x, gradien_value_not_have_x = 0, 0\n",
    "    m = len(x)\n",
    "   \n",
    "    for i in range(m):\n",
    "        H_theta = sigmoid(theta0 * x[i] + theta1)\n",
    "        gradien_value_have_x += (H_theta - y[i]) * x[i]\n",
    "        gradien_value_not_have_x += (H_theta - y[i])\n",
    "    \n",
    "    if(have_x):\n",
    "        return gradien_value_have_x\n",
    "    return gradien_value_not_have_x\n",
    "\n",
    "def training(x, y, epoch, learning_rate):\n",
    "    theta0 = 1\n",
    "    theta1 = 1\n",
    "    cost_values = []\n",
    "    m = len(x)\n",
    "    \n",
    "    for i in range(epoch):\n",
    "        tmp_t0 = theta0\n",
    "        theta0 -= (learning_rate/m) * gradien(x, y, theta0, theta1, True)\n",
    "        theta1 -= (learning_rate/m) * gradien(x, y, tmp_t0, theta1, False)\n",
    "        cost_values.append(cost_function(x, y, theta0, theta1))\n",
    "    \n",
    "    return {'Theta' : [theta0, theta1], 'cost' : cost_values}"
   ]
  },
  {
   "cell_type": "markdown",
   "metadata": {},
   "source": [
    "# 5. Predict"
   ]
  },
  {
   "cell_type": "code",
   "execution_count": 30,
   "metadata": {},
   "outputs": [
    {
     "name": "stderr",
     "output_type": "stream",
     "text": [
      "C:\\Users\\lucnm\\Anaconda3\\lib\\site-packages\\ipykernel_launcher.py:7: RuntimeWarning: divide by zero encountered in log\n",
      "  import sys\n",
      "C:\\Users\\lucnm\\Anaconda3\\lib\\site-packages\\ipykernel_launcher.py:7: RuntimeWarning: invalid value encountered in double_scalars\n",
      "  import sys\n"
     ]
    },
    {
     "data": {
      "text/plain": [
       "[<matplotlib.lines.Line2D at 0x1cd110f1fd0>]"
      ]
     },
     "execution_count": 30,
     "metadata": {},
     "output_type": "execute_result"
    },
    {
     "data": {
      "image/png": "[encoded data removed]",
      "text/plain": [
       "<matplotlib.figure.Figure at 0x1cd110f1828>"
      ]
     },
     "metadata": {},
     "output_type": "display_data"
    }
   ],
   "source": [
    "theta = training(X, Y, epoch=5000, learning_rate=0.01)['Theta']\n",
    "\n",
    "x_sigmoid = range(-100, 100)\n",
    "y_sigmoid = [sigmoid(theta[0] * x + theta[1]) for x in x_sigmoid]\n",
    "\n",
    "plt.plot(X, Y, 'ro')\n",
    "plt.plot(x_sigmoid, y_sigmoid)"
   ]
  },
  {
   "cell_type": "markdown",
   "metadata": {},
   "source": [
    "# BUG\n",
    "\n",
    "Function Predict không đựa ra kết quả đúng.\n",
    "\n",
    "### Nguyên nhân : Không Nomilization Data"
   ]
  },
  {
   "cell_type": "markdown",
   "metadata": {},
   "source": [
    "# 6. Normalization\n",
    "\n",
    "\\begin{equation*}\n",
    "Z=\\frac{x-μ}{σ}\n",
    "\\end{equation*}"
   ]
  },
  {
   "cell_type": "markdown",
   "metadata": {},
   "source": [
    "### 6.1 Normalization Data"
   ]
  },
  {
   "cell_type": "code",
   "execution_count": 31,
   "metadata": {},
   "outputs": [],
   "source": [
    "mean_x = np.mean(X)\n",
    "std_x = np.std(X)\n",
    "\n",
    "X_Normalization = [(x-mean_x) / std_x for x in X]"
   ]
  },
  {
   "cell_type": "markdown",
   "metadata": {},
   "source": [
    "### 6.2 Training in normalization data"
   ]
  },
  {
   "cell_type": "code",
   "execution_count": 33,
   "metadata": {},
   "outputs": [
    {
     "data": {
      "text/plain": [
       "[<matplotlib.lines.Line2D at 0x1cd1136a0f0>]"
      ]
     },
     "execution_count": 33,
     "metadata": {},
     "output_type": "execute_result"
    },
    {
     "data": {
      "image/png": "[encoded data removed]",
      "text/plain": [
       "<matplotlib.figure.Figure at 0x1cd1136a160>"
      ]
     },
     "metadata": {},
     "output_type": "display_data"
    }
   ],
   "source": [
    "trained_resuilt = training(X_Normalization, Y, epoch = 10000, learning_rate=0.01)\n",
    "theta, cost = trained_resuilt['Theta'], trained_resuilt['cost']\n",
    "\n",
    "x_sigmoid = range(-5, 5)\n",
    "y_sigmoid = [sigmoid(theta[0] * x + theta[1]) for x in x_sigmoid]\n",
    "\n",
    "plt.plot(X_Normalization, Y, 'ro')\n",
    "plt.plot(x_sigmoid, y_sigmoid)"
   ]
  },
  {
   "cell_type": "markdown",
   "metadata": {},
   "source": [
    "### 6.3 Cost Values"
   ]
  },
  {
   "cell_type": "code",
   "execution_count": 34,
   "metadata": {},
   "outputs": [
    {
     "data": {
      "text/plain": [
       "[<matplotlib.lines.Line2D at 0x1cd110449e8>]"
      ]
     },
     "execution_count": 34,
     "metadata": {},
     "output_type": "execute_result"
    },
    {
     "data": {
      "image/png": "[encoded data removed]",
      "text/plain": [
       "<matplotlib.figure.Figure at 0x1cd10f76940>"
      ]
     },
     "metadata": {},
     "output_type": "display_data"
    }
   ],
   "source": [
    "plt.plot(cost)"
   ]
  },
  {
   "cell_type": "markdown",
   "metadata": {},
   "source": [
    "## 7. Use Sklearn for Logistic Regression"
   ]
  },
  {
   "cell_type": "code",
   "execution_count": null,
   "metadata": {},
   "outputs": [],
   "source": [
    "from sklearn.linear_model import LogisticRegression"
   ]
  },
  {
   "cell_type": "code",
   "execution_count": null,
   "metadata": {},
   "outputs": [],
   "source": [
    "def train2():\n",
    "    theta = np.ones((2, 1))\n",
    "    m = len(X)\n",
    "    x0 = X - 50\n",
    "    x1 = np.ones(m)\n",
    "    x = np.array(list(zip(x0, x1)))\n",
    "    print(x.shape)\n",
    "    y = np.expand_dims(np.array(Y), axis=-1)\n",
    "    print(y.shape)\n",
    "    for i in range(500):\n",
    "        h = sigmoid(np.dot(x, theta))\n",
    "        z = h - y\n",
    "        theta -= 0.001/m * np.dot(np.transpose(x), z)\n",
    "    return theta\n",
    "\n",
    "train2()"
   ]
  },
  {
   "cell_type": "code",
   "execution_count": null,
   "metadata": {},
   "outputs": [],
   "source": [
    "m = len(X)\n",
    "x0 = np.array(X)\n",
    "x0.sort()\n",
    "x1 = np.ones(m)\n",
    "x = np.array(list(zip(x0, x1)))\n",
    "theta = train2()\n",
    "y = sigmoid(np.dot(x, theta))\n",
    "print(y.shape)\n",
    "plt.plot(x[:,0], y[:,0])\n",
    "plt.plot(X, Y, 'ro')"
   ]
  },
  {
   "cell_type": "markdown",
   "metadata": {},
   "source": [
    "## 8. NOTE\n",
    "\n",
    "Function Z in Sigmoid function must be like : \n",
    "Z = theta0 * x + theta1.\n",
    "\n",
    "Nếu không có theta1, hàm Sigmoid sẽ đạt giá trị tại Y = 0.5 với X = 0"
   ]
  },
  {
   "cell_type": "code",
   "execution_count": 35,
   "metadata": {},
   "outputs": [],
   "source": [
    "def sigmoid_1 (x, theta0, theta1):\n",
    "    temp = 1.0/(1.0 + np.exp(-1.0 * (theta0*x + theta1)))\n",
    "    return temp"
   ]
  },
  {
   "cell_type": "markdown",
   "metadata": {},
   "source": [
    "### 8.1 Tình huống 1. \n",
    "* Theta0 = 0.1\n",
    "* Theta1 = 0"
   ]
  },
  {
   "cell_type": "code",
   "execution_count": 36,
   "metadata": {},
   "outputs": [
    {
     "data": {
      "text/plain": [
       "[<matplotlib.lines.Line2D at 0x1cd110b8cc0>]"
      ]
     },
     "execution_count": 36,
     "metadata": {},
     "output_type": "execute_result"
    },
    {
     "data": {
      "image/png": "[encoded data removed]",
      "text/plain": [
       "<matplotlib.figure.Figure at 0x1cd10fe83c8>"
      ]
     },
     "metadata": {},
     "output_type": "display_data"
    }
   ],
   "source": [
    "x_temp = range(-100, 100)\n",
    "\n",
    "y_temp = [sigmoid_1(x_i, 0.1, 0) for x_i in x_temp]\n",
    "plt.plot(x_temp, y_temp)"
   ]
  },
  {
   "cell_type": "markdown",
   "metadata": {},
   "source": [
    "### 8.2 Tình huống 2\n",
    "* Theta0 = 0.7\n",
    "* Theta1 = 0\n",
    "\n",
    "Đồ thị đạt Y = 0.5 tại X = 0.\n",
    "Với Theta0 gần tiến tới 1, đồ thị hẹp hơn so với 0.3"
   ]
  },
  {
   "cell_type": "code",
   "execution_count": 37,
   "metadata": {},
   "outputs": [
    {
     "data": {
      "text/plain": [
       "[<matplotlib.lines.Line2D at 0x1cd10c67e80>]"
      ]
     },
     "execution_count": 37,
     "metadata": {},
     "output_type": "execute_result"
    },
    {
     "data": {
      "image/png": "[encoded data removed]",
      "text/plain": [
       "<matplotlib.figure.Figure at 0x1cd110f1eb8>"
      ]
     },
     "metadata": {},
     "output_type": "display_data"
    }
   ],
   "source": [
    "y_temp = [sigmoid_1(x_i, 0.7, 0) for x_i in x_temp]\n",
    "plt.plot(x_temp, y_temp)"
   ]
  },
  {
   "cell_type": "markdown",
   "metadata": {},
   "source": [
    "### 8.3 Tình huống 3\n",
    "* Theta0 = 0.7\n",
    "* Theta1 = 50\n",
    "\n",
    "Đồ thị dịch qua trái 50 đơn vị"
   ]
  },
  {
   "cell_type": "code",
   "execution_count": 38,
   "metadata": {},
   "outputs": [
    {
     "data": {
      "text/plain": [
       "[<matplotlib.lines.Line2D at 0x1cd10e5a0b8>]"
      ]
     },
     "execution_count": 38,
     "metadata": {},
     "output_type": "execute_result"
    },
    {
     "data": {
      "image/png": "[encoded data removed]",
      "text/plain": [
       "<matplotlib.figure.Figure at 0x1cd10aa9b00>"
      ]
     },
     "metadata": {},
     "output_type": "display_data"
    }
   ],
   "source": [
    "y_temp = [sigmoid_1(x_i, 0.7, 50) for x_i in x_temp]\n",
    "plt.plot(x_temp, y_temp)"
   ]
  },
  {
   "cell_type": "markdown",
   "metadata": {},
   "source": [
    "### 8.4 Tình huống 4\n",
    "* Theta0 = 0.7\n",
    "* Theta1 = 50"
   ]
  },
  {
   "cell_type": "code",
   "execution_count": 39,
   "metadata": {},
   "outputs": [
    {
     "data": {
      "text/plain": [
       "[<matplotlib.lines.Line2D at 0x1cd10fbe7b8>]"
      ]
     },
     "execution_count": 39,
     "metadata": {},
     "output_type": "execute_result"
    },
    {
     "data": {
      "image/png": "[encoded data removed]",
      "text/plain": [
       "<matplotlib.figure.Figure at 0x1cd10e19208>"
      ]
     },
     "metadata": {},
     "output_type": "display_data"
    }
   ],
   "source": [
    "y_temp = [sigmoid_1(x_i, 0.7, -50) for x_i in x_temp]\n",
    "plt.plot(x_temp, y_temp)"
   ]
  },
  {
   "cell_type": "markdown",
   "metadata": {},
   "source": [
    "## 9. Gradient"
   ]
  },
  {
   "cell_type": "code",
   "execution_count": 40,
   "metadata": {},
   "outputs": [],
   "source": [
    "x = range(0, 100)\n",
    "y = np.sin(x)"
   ]
  },
  {
   "cell_type": "code",
   "execution_count": 41,
   "metadata": {},
   "outputs": [],
   "source": [
    "y_gradient = np.cos(x)"
   ]
  },
  {
   "cell_type": "code",
   "execution_count": 42,
   "metadata": {},
   "outputs": [
    {
     "data": {
      "text/plain": [
       "[<matplotlib.lines.Line2D at 0x1cd10efc748>]"
      ]
     },
     "execution_count": 42,
     "metadata": {},
     "output_type": "execute_result"
    },
    {
     "data": {
      "image/png": "[encoded data removed]",
      "text/plain": [
       "<matplotlib.figure.Figure at 0x1cd10c505f8>"
      ]
     },
     "metadata": {},
     "output_type": "display_data"
    }
   ],
   "source": [
    "plt.plot(x,y)\n",
    "plt.plot(x, y_gradient, 'ro')"
   ]
  },
  {
   "cell_type": "code",
   "execution_count": null,
   "metadata": {},
   "outputs": [],
   "source": []
  }
 ],
 "metadata": {
  "kernelspec": {
   "display_name": "Python 3",
   "language": "python",
   "name": "python3"
  },
  "language_info": {
   "codemirror_mode": {
    "name": "ipython",
    "version": 3
   },
   "file_extension": ".py",
   "mimetype": "text/x-python",
   "name": "python",
   "nbconvert_exporter": "python",
   "pygments_lexer": "ipython3",
   "version": "3.6.4"
  }
 },
 "nbformat": 4,
 "nbformat_minor": 2
}
