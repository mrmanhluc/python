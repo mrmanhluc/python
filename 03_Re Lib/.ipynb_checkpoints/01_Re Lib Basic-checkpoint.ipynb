{
 "cells": [
  {
   "cell_type": "code",
   "execution_count": 1,
   "metadata": {},
   "outputs": [],
   "source": [
    "import numpy as np\n",
    "import re"
   ]
  },
  {
   "cell_type": "code",
   "execution_count": 13,
   "metadata": {},
   "outputs": [
    {
     "name": "stdout",
     "output_type": "stream",
     "text": [
      "matchObj.group () :  Cats\n",
      "None\n"
     ]
    }
   ],
   "source": [
    "# Tham khao \n",
    "# https://www.tutorialspoint.com/python/python_reg_expressions.htm\n",
    "\n",
    "line = 'Cats are smarter than dog 1 2 3 thi c 3 5 2 '\n",
    "\n",
    "matchObj = re.match(r'Cats', line)\n",
    "\n",
    "match1 = re.match(r'[a-z]', line)\n",
    "if matchObj:\n",
    "    print ('matchObj.group () : ',matchObj.group())\n",
    "else:\n",
    "    print('Not find')\n",
    "    \n",
    "print(match1)"
   ]
  },
  {
   "cell_type": "code",
   "execution_count": null,
   "metadata": {},
   "outputs": [],
   "source": []
  }
 ],
 "metadata": {
  "kernelspec": {
   "display_name": "Python 3",
   "language": "python",
   "name": "python3"
  },
  "language_info": {
   "codemirror_mode": {
    "name": "ipython",
    "version": 3
   },
   "file_extension": ".py",
   "mimetype": "text/x-python",
   "name": "python",
   "nbconvert_exporter": "python",
   "pygments_lexer": "ipython3",
   "version": "3.6.4"
  }
 },
 "nbformat": 4,
 "nbformat_minor": 2
}
