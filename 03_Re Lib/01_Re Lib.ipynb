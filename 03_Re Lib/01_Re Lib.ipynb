{
 "cells": [
  {
   "cell_type": "markdown",
   "metadata": {},
   "source": [
    " Re Code\t\t\t\t|   Means\n",
    " -----------------------|----------------------------------------------\n",
    " [1-9]\t\t\t\t\t|\tSelect toàn bộ số\n",
    " [-Z]\t\t\t\t\t|\tSelect toàn bộ kí tự từ A-Z\n",
    " [^1-9]\t\t\t\t\t|\tChọn tất cả, ngoại trừ 1-9\n",
    " [^1-9, ^a-z, ^A-Z]\t\t|\tChọn tất cả ngoại trừ 1-9, a-z, A-Z\n",
    " \\d\\d\\d\t\t\t\t\t|\tTìm kiếm số có 3 chữ số bất kì\n",
    " \\D\t\t\t\t\t\t|\tChọn tất cả \n",
    " \\s\t\t\t\t\t\t|\tTìm kiếm khoảng trắng\n",
    " \\S\t\t\t\t\t\t|\tTất cả khoảng không phải space\n",
    " .*\t\t\t\t\t\t|\tTất cả kí tự phía sau\n",
    " *.\t\t\t\t\t\t|\tTất cả kí tự phía trước\n",
    " x.*.z\t\t\t\t\t|\tLấy tất cả kí tự nằm trong khoảng từ x-z\n",
    " x.*.z,\\d\\d\t\t\t\t|\tLấy tất cả kí tự từ x-z và thêm 2 giá trị số đứng sau\n",
    " \\w : \t\t\t\t\t|\tToàn bộ kí tự\n",
    " \\w+ : \t\t\t\t\t|\tToàn bộ câu, phân biệt bởi dấu space hoặc các dấu không phải kí tự\n",
    " ^  \t\t\t\t\t|\tVị trí bắt đầu, $ Vị trí kết thúc\n",
    "\\|'\t\t\t\t\t\t|\tPhep hoac\n",
    " [A-Z]{6} \t\t\t\t|\t6 kí tự bất kì từ A-Z\n",
    "$ \t\t\t\t\t\t|\tKết thúc chuỗi"
   ]
  },
  {
   "cell_type": "code",
   "execution_count": 1,
   "metadata": {},
   "outputs": [],
   "source": [
    "import re\n",
    "# from bs4 import BeautifulSoup"
   ]
  },
  {
   "cell_type": "code",
   "execution_count": 13,
   "metadata": {},
   "outputs": [],
   "source": [
    "# url = 'http://www.lixil.co.jp/showroom/qa/'\n",
    "# ask_ans = BeautifulSoup(url).getText()\n",
    "# ask_ans"
   ]
  },
  {
   "cell_type": "code",
   "execution_count": 56,
   "metadata": {},
   "outputs": [
    {
     "name": "stdout",
     "output_type": "stream",
     "text": [
      "['guru99']\n",
      "['education is fun google too fun']\n",
      "['guru99', 'education', 'is', 'fun', 'google', 'too', 'fun']\n",
      "['guru99', 'google']\n"
     ]
    }
   ],
   "source": [
    "# Findall . Tìm chính xác\n",
    "\n",
    "text = \"guru99, education is fun google too fun\"\n",
    "r1 = re.findall(r'^\\w+',text)\n",
    "\n",
    "# Find từ đầu tới khi gặp 2 chứ số \\d\\d \n",
    "r2 = re.findall(r'.*\\d\\d', text)\n",
    "r2\n",
    "print(r2)\n",
    "\n",
    "# Find từ education tới hêt\n",
    "r3 = re.findall(r'education.*', text)\n",
    "print(r3)\n",
    "\n",
    "# Find toàn bộ câu trong đonạ text\n",
    "r3 = re.findall(r'\\w+', text)\n",
    "print(r3)\n",
    "\n",
    "# Find toàn bộ câu bắt đầu bằng chữ g. Ví dụ google, guru\n",
    "r4 = re.findall(r'g\\w+', text)\n",
    "print(r4)"
   ]
  },
  {
   "cell_type": "code",
   "execution_count": 11,
   "metadata": {},
   "outputs": [
    {
     "name": "stdout",
     "output_type": "stream",
     "text": [
      "['split the words']\n"
     ]
    }
   ],
   "source": [
    "text2 = 'split the words'\n",
    "print(re.split(r'\\', text2))"
   ]
  },
  {
   "cell_type": "code",
   "execution_count": 83,
   "metadata": {},
   "outputs": [
    {
     "name": "stdout",
     "output_type": "stream",
     "text": [
      "('guru99', 'get')\n",
      "('guru99', 'give')\n"
     ]
    }
   ],
   "source": [
    "# re.match\n",
    "\n",
    "list = ['guru99 get', 'guru99 give', 'guru Selenium']\n",
    "\n",
    "for lst in list:\n",
    "    z = re.match(r'(g\\w+)\\W(g\\w+)', lst)\n",
    "    if z: \n",
    "        print(z.groups())"
   ]
  },
  {
   "cell_type": "code",
   "execution_count": 84,
   "metadata": {},
   "outputs": [
    {
     "name": "stdout",
     "output_type": "stream",
     "text": [
      "\n",
      "Looking for \"['Software testing', 'guru99']\" in \"Software testing is fun\" ->\n",
      "Looking for \"['Software testing', 'guru99']\" in \"Software testing is fun\" ->"
     ]
    }
   ],
   "source": [
    "# re.search\n",
    "\n",
    "patterns = ['Software testing', 'guru99']\n",
    "text = 'Software testing is fun'\n",
    "\n",
    "for pt in patterns:\n",
    "    print('\\nLooking for \"%s\" in \"%s\" ->' %(patterns, text) , end = '')\n"
   ]
  },
  {
   "cell_type": "code",
   "execution_count": 85,
   "metadata": {},
   "outputs": [
    {
     "name": "stdout",
     "output_type": "stream",
     "text": [
      "('guru99',)\n",
      "['guru99', 'get', 'gooole', 'good']\n"
     ]
    }
   ],
   "source": [
    "temp = 'guru99 get this is gooole is for good'\n",
    "z = re.match(r'(g\\w+)', temp)\n",
    "\n",
    "if z:\n",
    "    print(z.groups())\n",
    "    \n",
    "z = re.findall(r'g\\w+', temp)\n",
    "print(z)"
   ]
  },
  {
   "cell_type": "code",
   "execution_count": 186,
   "metadata": {},
   "outputs": [
    {
     "name": "stdout",
     "output_type": "stream",
     "text": [
      "<_sre.SRE_Match object; span=(0, 19), match='mrmanhluc@gmail.com'>\n"
     ]
    }
   ],
   "source": [
    "# Phân biệt giữa match và find\n",
    "# Match sử dụng để tìm chuỗi yêu cầu đúng định dạng, format\n",
    "\n",
    "# Match đưuọc sử dụng để validate format của toàn bộ text\n",
    "\n",
    "# Với việc findall, nó sẽ tìm kiếm đoạn\n",
    "# fake@mrmanhluc@gmail.com\n",
    "# Thấy đoạn mrmanhluc@gmail.com thỏa mãn yêu cầu\n",
    "\n",
    "# Còn Match, toàn bộ đoạn face@mrmanhluc@gmail.com sẽ đưuọc xem xét\n",
    "# Nếu không phù hợp sẽ bị loại bỏ\n",
    "\n",
    "# Bài toán 1. Tìm kiếm email trong 1 danh sách.\n",
    "# Sử dụng Find\n",
    "\n",
    "# Bài toán 2. Kiểm tra các email cso hợp với format hay không\n",
    "# Sử dụng match\n",
    "\n",
    "email = 'mrmanhluc@gmail.com, djaskdjiasjdi, levanluong@gmail.com'\n",
    "fake_email = 'fake@mrmanhluc@gmail.com'\n",
    "\n",
    "fake_email1 = 'mrmanhluc@gmail.com@fakeMail@gmail.com'\n",
    "\n",
    "regex = r'[A-Z,a-z,0-9]+@gmail.com'\n",
    "\n",
    "z1 = re.match(regex, fake_email)\n",
    "z2 = re.match(regex, fake_email1)\n",
    "\n",
    "# z2 = re.findall(regex, fake_email1)\n",
    "\n",
    "print(z2)\n"
   ]
  },
  {
   "cell_type": "code",
   "execution_count": 237,
   "metadata": {},
   "outputs": [
    {
     "name": "stdout",
     "output_type": "stream",
     "text": [
      "file0013.txt\n",
      "file001.txt\n",
      "file002.txt\n",
      "<_sre.SRE_Match object; span=(0, 1), match='0'>\n"
     ]
    }
   ],
   "source": [
    "# Yêu cầu : đọc vào tập các file name, kiểm tra file name có đúng định dạng hay không\n",
    "# In ra tập danh sách phù hợp với Format.\n",
    "# Bắt đầu là kí tự từ a-z. [a-z] \n",
    "# Kết thúc bằng .txt $\n",
    "\n",
    "regex = r'([a-z]+(00)+[1-9]+(.txt)$)'\n",
    "\n",
    "fileName = ['001file001.txt','file0013.txt', 'file001.txt', 'file002.txt', 'file003.txt.zip', 'file01_01.txt', 'file01_02.txt']\n",
    "\n",
    "for file in fileName:\n",
    "    z = re.fullmatch(regex, file)\n",
    "    if z:\n",
    "        print(z.group())\n",
    "        \n",
    "        \n",
    "regex1 = r'^\\d'\n",
    "\n",
    "z = re.match(regex1, '0inchao')\n",
    "if z:\n",
    "    print(z)"
   ]
  },
  {
   "cell_type": "code",
   "execution_count": 246,
   "metadata": {},
   "outputs": [
    {
     "name": "stdout",
     "output_type": "stream",
     "text": [
      "<built-in method groups of _sre.SRE_Match object at 0x0000000007ACE850>\n"
     ]
    }
   ],
   "source": [
    "# So sánh Math sẽ được so sánh từ đầu trái của string\n",
    "\n",
    "txt = 'Xin chao, hello'\n",
    "\n",
    "z = re.match('Xin chao', txt)\n",
    "\n",
    "print(z.groups)\n",
    "#z = re.match('.*hello', txt)\n",
    "#print(z)"
   ]
  },
  {
   "cell_type": "code",
   "execution_count": 248,
   "metadata": {},
   "outputs": [
    {
     "name": "stdout",
     "output_type": "stream",
     "text": [
      "<_sre.SRE_Match object; span=(0, 15), match='Xin chao, hello'>\n"
     ]
    }
   ],
   "source": [
    "# So sánh fullmath sẽ đưuọc so sánh toàn bộ string\n",
    "txt = 'Xin chao, hello'\n",
    "\n",
    "z = re.fullmatch('Xin chao, hello',txt)\n",
    "print(z)"
   ]
  },
  {
   "cell_type": "code",
   "execution_count": 260,
   "metadata": {},
   "outputs": [
    {
     "name": "stdout",
     "output_type": "stream",
     "text": [
      "['in', 'in']\n"
     ]
    }
   ],
   "source": [
    "# Find all\n",
    "txt = 'Xin chao, hello xin chao'\n",
    "\n",
    "z = re.findall('in', txt)\n",
    "print(z)"
   ]
  },
  {
   "cell_type": "code",
   "execution_count": 262,
   "metadata": {},
   "outputs": [
    {
     "data": {
      "text/plain": [
       "'xin chao, hello toi la luc'"
      ]
     },
     "execution_count": 262,
     "metadata": {},
     "output_type": "execute_result"
    }
   ],
   "source": [
    "# Tìm khớp và Repace\n",
    "txt = 'Xin chao, hello toi la luc'\n",
    "\n",
    "re.sub('Xin', 'xin', txt)"
   ]
  },
  {
   "cell_type": "code",
   "execution_count": 1,
   "metadata": {},
   "outputs": [
    {
     "data": {
      "text/plain": [
       "[False, False, False]"
      ]
     },
     "execution_count": 1,
     "metadata": {},
     "output_type": "execute_result"
    }
   ],
   "source": [
    "[False]*3"
   ]
  },
  {
   "cell_type": "code",
   "execution_count": 2,
   "metadata": {},
   "outputs": [
    {
     "data": {
      "text/plain": [
       "True"
      ]
     },
     "execution_count": 2,
     "metadata": {},
     "output_type": "execute_result"
    }
   ],
   "source": [
    "3 in [2, 3, 4]"
   ]
  },
  {
   "cell_type": "code",
   "execution_count": 13,
   "metadata": {},
   "outputs": [
    {
     "data": {
      "text/plain": [
       "True"
      ]
     },
     "execution_count": 13,
     "metadata": {},
     "output_type": "execute_result"
    }
   ],
   "source": [
    "x = range(10, 19)\n",
    "True & (int('1') in range(1, 13))"
   ]
  },
  {
   "cell_type": "code",
   "execution_count": 30,
   "metadata": {},
   "outputs": [
    {
     "name": "stdout",
     "output_type": "stream",
     "text": [
      "12-A6\n"
     ]
    },
    {
     "data": {
      "text/plain": [
       "['12-A6']"
      ]
     },
     "execution_count": 30,
     "metadata": {},
     "output_type": "execute_result"
    }
   ],
   "source": [
    "temp = '12-A6'\n",
    "print(temp)\n",
    "re.findall(r'\\d\\d-[A-Z][0-9]', temp)"
   ]
  },
  {
   "cell_type": "code",
   "execution_count": 32,
   "metadata": {},
   "outputs": [
    {
     "data": {
      "text/plain": [
       "'true'"
      ]
     },
     "execution_count": 32,
     "metadata": {},
     "output_type": "execute_result"
    }
   ],
   "source": [
    "str(True).lower()"
   ]
  },
  {
   "cell_type": "code",
   "execution_count": 51,
   "metadata": {},
   "outputs": [
    {
     "name": "stdout",
     "output_type": "stream",
     "text": [
      "None\n"
     ]
    },
    {
     "data": {
      "text/plain": [
       "False"
      ]
     },
     "execution_count": 51,
     "metadata": {},
     "output_type": "execute_result"
    }
   ],
   "source": [
    "txt = 'abc123abc'\n",
    "txt1 = '123234'\n",
    "input_txt = '2018/03/03 03:02'\n",
    "\n",
    "def is_date(in_data):\n",
    "    # Kiểm tra có phải là số không\n",
    "    re.match(r'^[0-9]+$', txt1)\n",
    "\n",
    "    # Kiểm tra str có phải dạng datetime không\n",
    "    pattern1 = r'^\\d\\d\\d\\d/\\d\\d/\\d\\d$'\n",
    "    pattern2 = r'^\\d\\d\\/\\d\\d/\\d\\d$'\n",
    "    pattern3 = r'^\\d\\d\\d\\d\\/\\d\\d\\/\\d\\d \\d\\d\\:\\d\\d$'\n",
    "    pattern4 = r'^\\d\\d\\/\\d\\d\\/\\d\\d \\d\\d\\:\\d\\d$'\n",
    "    pattern = [pattern1, pattern2, pattern3, pattern4]\n",
    "\n",
    "    for pt in parterm:\n",
    "        if re.match(pt, in_data) is not None:\n",
    "            return True\n",
    "    return False\n",
    "\n",
    "def is_num(in_data):\n",
    "    return in_data.replace('.','',1).isdigit()\n",
    "\n",
    "def get_dataType(in_data):\n",
    "    if (is_date(in_data)):\n",
    "        return \n",
    "\n",
    "# re.findall(r'^a.*', txt1)"
   ]
  },
  {
   "cell_type": "code",
   "execution_count": 108,
   "metadata": {},
   "outputs": [
    {
     "ename": "NameError",
     "evalue": "name 'date' is not defined",
     "output_type": "error",
     "traceback": [
      "\u001b[1;31m---------------------------------------------------------------------------\u001b[0m",
      "\u001b[1;31mNameError\u001b[0m                                 Traceback (most recent call last)",
      "\u001b[1;32m<ipython-input-108-a975c295ddea>\u001b[0m in \u001b[0;36m<module>\u001b[1;34m()\u001b[0m\n\u001b[1;32m----> 1\u001b[1;33m \u001b[0mdate\u001b[0m\u001b[1;33m\u001b[0m\u001b[0m\n\u001b[0m",
      "\u001b[1;31mNameError\u001b[0m: name 'date' is not defined"
     ]
    }
   ],
   "source": [
    "date"
   ]
  },
  {
   "cell_type": "code",
   "execution_count": 107,
   "metadata": {},
   "outputs": [
    {
     "data": {
      "text/plain": [
       "True"
      ]
     },
     "execution_count": 107,
     "metadata": {},
     "output_type": "execute_result"
    }
   ],
   "source": [
    "'3123123121214'.replace('.','',1).isdigit()"
   ]
  },
  {
   "cell_type": "code",
   "execution_count": null,
   "metadata": {},
   "outputs": [],
   "source": []
  }
 ],
 "metadata": {
  "kernelspec": {
   "display_name": "Python 3",
   "language": "python",
   "name": "python3"
  },
  "language_info": {
   "codemirror_mode": {
    "name": "ipython",
    "version": 3
   },
   "file_extension": ".py",
   "mimetype": "text/x-python",
   "name": "python",
   "nbconvert_exporter": "python",
   "pygments_lexer": "ipython3",
   "version": "3.6.4"
  }
 },
 "nbformat": 4,
 "nbformat_minor": 2
}
