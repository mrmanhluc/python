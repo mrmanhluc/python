{
 "cells": [
  {
   "cell_type": "code",
   "execution_count": 51,
   "metadata": {},
   "outputs": [],
   "source": [
    "import math\n",
    "import re\n",
    "from operator import itemgetter, attrgetter"
   ]
  },
  {
   "cell_type": "markdown",
   "metadata": {},
   "source": [
    "# Bài 01: \n",
    "Câu hỏi: Viết chương trình tìm tất cả các số chia hết cho 7 nhưng không phải bội số của 5, nằm trong đoạn 2000 và 3200 (tính cả 2000 và 3200). Các số thu được sẽ được in thành chuỗi trên một dòng, cách nhau bằng dấu phẩy."
   ]
  },
  {
   "cell_type": "code",
   "execution_count": null,
   "metadata": {},
   "outputs": [],
   "source": [
    "arr = []\n",
    "for i in range(2006, 3201, 7):\n",
    "    if i % 5 != 0:\n",
    "        arr.append(str(i))\n",
    "        \n",
    "print(', '.join(arr))"
   ]
  },
  {
   "cell_type": "markdown",
   "metadata": {},
   "source": [
    "## Bài 02: \n",
    "\n",
    "Câu hỏi: \n",
    "\n",
    "Viết một chương trình có thể tính giai thừa của một số cho trước. Kết quả được in thành chuỗi trên một dòng, phân tách bởi dấu phẩy. Ví dụ, số cho trước là 8 thì kết quả đầu ra phải là 40320."
   ]
  },
  {
   "cell_type": "code",
   "execution_count": null,
   "metadata": {},
   "outputs": [],
   "source": [
    "x = int(input('Enter values'))\n",
    "\n",
    "def fact_1(x):\n",
    "    gt = 1\n",
    "    for i in range(x):\n",
    "        gt *= (i + 1)\n",
    "    return str(gt)\n",
    "\n",
    "# De quy\n",
    "def fact_2(x):\n",
    "    if x == 0:\n",
    "        return 1\n",
    "    return x * fact_2(x-1)\n",
    "\n",
    "print(fact_2(x))\n"
   ]
  },
  {
   "cell_type": "markdown",
   "metadata": {},
   "source": [
    "## Bài 03: \n",
    "\n",
    "Câu hỏi: \n",
    "\n",
    "Với số nguyên n nhất định, hãy viết chương trình để tạo ra một dictionary chứa (i, i*i) như là số nguyên từ 1 đến n (bao gồm cả 1 và n) sau đó in ra dictionary này. Ví dụ: Giả sử số n là 8 thì đầu ra sẽ là: {1: 1, 2: 4, 3: 9, 4: 16, 5: 25, 6: 36, 7: 49, 8: 64}."
   ]
  },
  {
   "cell_type": "code",
   "execution_count": null,
   "metadata": {},
   "outputs": [],
   "source": [
    "n = int(input('Enter n value'))\n",
    "\n",
    "# Cách ngu\n",
    "keys = []\n",
    "values = []\n",
    "for i in range(1, n+1):\n",
    "    keys.append(i)\n",
    "    values.append(i**2)\n",
    "key_value = zip(keys, values)\n",
    "\n",
    "dic = dict(key_value)\n",
    "\n",
    "# Cách khôn\n",
    "dic1 = dict()\n",
    "for i in range(1, n+1):\n",
    "    dic1[i]=i*i\n",
    "    \n",
    "print(dic1)\n",
    "\n",
    "# Note : Bản chất của dict cũng chỉ là array có chứa Index thay vì chứa thứ tự phần tử"
   ]
  },
  {
   "cell_type": "markdown",
   "metadata": {},
   "source": [
    "## Bài 04:\n",
    "\n",
    "Câu hỏi:\n",
    "\n",
    "Viết chương trình chấp nhận một chuỗi số, phân tách bằng dấu phẩy từ giao diện điều khiển, tạo ra một danh sách và một tuple chứa mọi số.\n",
    "\n",
    "Ví dụ: Đầu vào được cung cấp là 34,67,55,33,12,98 thì đầu ra là:\n",
    "\n",
    "['34', '67', '55', '33', '12', '98']\n",
    "('34', '67', '55', '33', '12', '98')\n",
    "\n",
    "Gợi ý: \n",
    "\n",
    "Viết lệnh yêu cầu nhập vào các giá trị sau đó dùng quy tắc chuyển đổi kiểu dữ liệu để hoàn tất."
   ]
  },
  {
   "cell_type": "code",
   "execution_count": null,
   "metadata": {},
   "outputs": [],
   "source": [
    "values_in = str(input('Enter Values: ')).trim()\n",
    "\n",
    "values_in = values_in.split(',')\n",
    "convert_totuple = tuple(values_in)\n",
    "\n",
    "print(values_in, convert_totuple)"
   ]
  },
  {
   "cell_type": "markdown",
   "metadata": {},
   "source": [
    "## Bài 05:\n",
    "\n",
    "Câu hỏi:\n",
    "\n",
    "Định nghĩa một class có ít nhất 2 method: \n",
    "\n",
    "getString: để nhận một chuỗi do người dùng nhập vào từ giao diện điều khiển.\n",
    "\n",
    "printString: in chuỗi vừa nhập sang chữ hoa. \n",
    "\n",
    "Thêm vào các hàm hiểm tra đơn giản để kiểm tra method của class.\n",
    "\n",
    "Ví dụ: Chuỗi nhập vào là quantrimang.com thì đầu ra phải là: QUANTRIMANG.COM"
   ]
  },
  {
   "cell_type": "code",
   "execution_count": null,
   "metadata": {},
   "outputs": [],
   "source": [
    "class InputOutString(object):\n",
    "    def __init__(self):\n",
    "        self.in_value = ''\n",
    "        \n",
    "    def getString(self):\n",
    "        input_value = input('Enter s values: ')\n",
    "        self.in_value = input_value\n",
    "        \n",
    "    def printString(self):\n",
    "        print(str.upper(self.in_value))\n",
    "    \n",
    "str1 = getsetString()\n",
    "str1.getString()\n",
    "str1.printString()"
   ]
  },
  {
   "cell_type": "markdown",
   "metadata": {},
   "source": [
    "## Bài 6:\n",
    "\n",
    "Câu hỏi:\n",
    "\n",
    "Viết một method tính giá trị bình phương của một số.\n",
    "\n",
    "Gợi ý: \n",
    "\n",
    "Sử dụng toán tử **.\n",
    "\n"
   ]
  },
  {
   "cell_type": "code",
   "execution_count": null,
   "metadata": {},
   "outputs": [],
   "source": [
    "a = int(input('Enter values'))\n",
    "print(a**2)"
   ]
  },
  {
   "cell_type": "markdown",
   "metadata": {},
   "source": [
    "## Bài 7: \n",
    "\n",
    "Câu hỏi:\n",
    "\n",
    "Python có nhiều hàm được tích hợp sẵn, nếu không biết cách sử dụng nó, bạn có thể đọc tài liệu trực tuyến hoặc tìm vài cuốn sách. Nhưng Python cũng có sẵn tài liệu về hàm cho mọi hàm tích hợp trong Python. Yêu cầu của bài tập này là viết một chương trình để in tài liệu về một số hàm Python được tích hợp sẵn như abs(), int(), input() và thêm tài liệu cho hàm bạn tự định nghĩa."
   ]
  },
  {
   "cell_type": "code",
   "execution_count": null,
   "metadata": {},
   "outputs": [],
   "source": [
    "print(abs.__doc__)\n",
    "print(int.__doc__)\n",
    "print(input.__doc__)\n",
    "\n",
    "def square(x):\n",
    "    \"\"\"Create tai lieu tai day\"\"\"\n",
    "    return x**2\n",
    "\n",
    "print(square.__doc__)"
   ]
  },
  {
   "cell_type": "markdown",
   "metadata": {},
   "source": [
    "Bài 9:\n",
    "\n",
    "Câu hỏi: \n",
    "\n",
    "Định nghĩa một lớp gồm có tham số lớp và có cùng tham số instance\n",
    "\n",
    "Gợi ý:\n",
    "\n",
    "Khi định nghĩa tham số instance, cần thêm nó vào __init__\n",
    "Bạn có thể khởi tạo một đối tượng với tham số bắt đầu hoặc thiết lập giá trị sau đó."
   ]
  },
  {
   "cell_type": "code",
   "execution_count": null,
   "metadata": {},
   "outputs": [],
   "source": [
    "class Persion:\n",
    "    'Khoi tao class persion'\n",
    "    \n",
    "    persion_name1 = 'Luc'\n",
    "    def __init__(self, persion_name = None):\n",
    "        self.persion_name1 = persion_name\n",
    "        \n",
    "    def getPersion(self):\n",
    "        return self.persion_name1\n",
    "        \n",
    "persion1 = Persion('Nam')\n",
    "print(persion1.getPersion())\n",
    "\n",
    "print('id :',id(persion1.persion_name1))\n",
    "persion1.persion_name1 = 'Luc'\n",
    "print(persion1.getPersion())"
   ]
  },
  {
   "cell_type": "markdown",
   "metadata": {},
   "source": [
    "Bài 10: \n",
    "\n",
    "Câu hỏi:\n",
    "\n",
    "Viết chương trình và in giá trị theo công thức cho trước: `Q = √([(2 * C * D)/H])` (bằng chữ: Q bằng căn bậc hai của [(2 nhân C nhân D) chia H]. \n",
    "\n",
    "Với giá trị cố định của C là 50, H là 30. \n",
    "D là dãy giá trị tùy biến, được nhập vào từ giao diện người dùng, các giá trị của D được phân cách bằng dấu phẩy.\n",
    "\n",
    "Ví dụ: Giả sử chuỗi giá trị của D nhập vào là 100,150,180 thì đầu ra sẽ là 18,22,24."
   ]
  },
  {
   "cell_type": "code",
   "execution_count": null,
   "metadata": {},
   "outputs": [],
   "source": [
    "def calculator_value(D, resuilt):\n",
    "    if not D:\n",
    "        return resuilt\n",
    "    C, H = [50, 30]\n",
    "    resuilt.append(str(int((math.sqrt((2 * C * int(D.pop()))/H)))))\n",
    "    calculator_value(D, resuilt)\n",
    "\n",
    "# Input function\n",
    "input_d = input('Input array')\n",
    "input_d = input_d.split(',')\n",
    "\n",
    "Resuilt = []\n",
    "calculator_value(input_d, Resuilt)\n",
    "\n",
    "swap_resuilt = []\n",
    "while Resuilt:\n",
    "    swap_resuilt.append(Resuilt.pop())\n",
    "    \n",
    "print(','.join(swap_resuilt))"
   ]
  },
  {
   "cell_type": "markdown",
   "metadata": {},
   "source": [
    "## Bài 11:\n",
    "\n",
    "Câu hỏi:\n",
    "\n",
    "Viết một chương trình có 2 chữ số, X, Y nhận giá trị từ đầu vào và tạo ra một mảng 2 chiều. Giá trị phần tử trong hàng thứ i và cột thứ j của mảng phải là i*j.\n",
    "\n",
    "Lưu ý: i=0,1,…,X-1; j=0,1,…,Y-1. \n",
    "\n",
    "Ví dụ: Giá trị X, Y nhập vafp là 3,5 thì đầu ra là: [[0, 0, 0, 0, 0], [0, 1, 2, 3, 4], [0, 2, 4, 6, 8]] \n",
    "\n",
    "Gợi ý:\n",
    "\n",
    "Viết lệnh để nhận giá trị X, Y từ giao diện điều khiển do người dùng nhập vào."
   ]
  },
  {
   "cell_type": "code",
   "execution_count": null,
   "metadata": {},
   "outputs": [],
   "source": [
    "X, Y = [int(x) for x in input('Enter Values: ').split(',')]\n",
    "\n",
    "arr_xy = []\n",
    "for i in range(X):\n",
    "    arr_j = []\n",
    "    for j in range(Y):\n",
    "        arr_j.append(i*j)\n",
    "    arr_xy.append(arr_j)\n",
    "    \n",
    "print(arr_xy)"
   ]
  },
  {
   "cell_type": "code",
   "execution_count": null,
   "metadata": {},
   "outputs": [],
   "source": [
    "a = [[2,3], [3,4]]\n",
    "a[0][1]"
   ]
  },
  {
   "cell_type": "markdown",
   "metadata": {},
   "source": [
    "## Bài 11:\n",
    "\n",
    "Câu hỏi:\n",
    "\n",
    "Viết một chương trình chấp nhận chuỗi từ do người dùng nhập vào, phân tách nhau bởi dấu phẩy và in những từ đó thành chuỗi theo thứ tự bảng chữ cái, phân tách nhau bằng dấu phẩy.\n",
    "\n",
    "Giả sử đầu vào được nhập là: without,hello,bag,world, thì đầu ra sẽ là: bag,hello,without,world.\n",
    "\n",
    "Gợi ý:\n",
    "\n",
    "Trong trường hợp dữ liệu đầu vào được nhập vào chương trình nó nên được giả định là dữ liệu được người dùng nhập vào từ giao diện điều khiển."
   ]
  },
  {
   "cell_type": "code",
   "execution_count": null,
   "metadata": {},
   "outputs": [],
   "source": [
    "input_string = str(input('Enter values')).split(',')\n",
    "print(','.join(sorted(input_string)))"
   ]
  },
  {
   "cell_type": "markdown",
   "metadata": {},
   "source": [
    "Bài 12:\n",
    "\n",
    "Câu hỏi:\n",
    "\n",
    "Viết một chương trình chấp nhận chuỗi là các dòng được nhập vào, chuyển các dòng này thành chữ in hoa và in ra màn hình. Giả sử đầu vào là:\n",
    "\n",
    "Hello world\n",
    "Practice makes perfect\n",
    "\n",
    "Thì đầu ra sẽ là:\n",
    "\n",
    "HELLO WORLD\n",
    "PRACTICE MAKES PERFECT\n",
    "\n",
    "Gợi ý:\n",
    "\n",
    "Trong trường hợp dữ liệu đầu vào được nhập vào chương trình nó nên được giả định là dữ liệu được người dùng nhập vào từ giao diện điều khiển."
   ]
  },
  {
   "cell_type": "code",
   "execution_count": null,
   "metadata": {},
   "outputs": [],
   "source": [
    "resuilt = []\n",
    "while True:\n",
    "    s = input()\n",
    "    if s:\n",
    "        resuilt.append(str.upper(s))\n",
    "    else:\n",
    "        break\n",
    "    \n",
    "print(resuilt)"
   ]
  },
  {
   "cell_type": "markdown",
   "metadata": {},
   "source": [
    "Bài 13:\n",
    "\n",
    "Câu hỏi:\n",
    "\n",
    "Viết một chương trình chấp nhận đầu vào là một chuỗi các từ tách biệt bởi khoảng trắng, loại bỏ các từ trùng lặp, sắp xếp theo thứ tự bảng chữ cái, rồi in chúng.\n",
    "\n",
    "Giả sử đầu vào là: hello world and practice makes perfect and hello world again\n",
    "\n",
    "Thì đầu ra là: again and hello makes perfect practice world\n",
    "\n",
    "Gợi ý:\n",
    "\n",
    "Trong trường hợp dữ liệu đầu vào được nhập vào chương trình nó nên được giả định là dữ liệu được người dùng nhập vào từ giao diện điều khiển.\n",
    "\n",
    "Sử dụng set để loại bỏ dữ liệu trùng lặp tự động và dùng sorted() để sắp xếp dữ liệu."
   ]
  },
  {
   "cell_type": "code",
   "execution_count": null,
   "metadata": {},
   "outputs": [],
   "source": [
    "str_input = input().split(' ')\n",
    "\n",
    "# Cach ngu\n",
    "check = str_input\n",
    "temp = []\n",
    "while check:\n",
    "    check_temp = check.pop()\n",
    "    flg = False\n",
    "    for x in check:\n",
    "        if x == check_temp:\n",
    "            flg = True\n",
    "    if not flg:\n",
    "        temp.append(check_temp)\n",
    "print(sorted(temp))\n",
    "\n",
    "# Cach khon\n",
    "\n",
    "str_input = input().split(' ')\n",
    "print(sorted(set(str_input)))"
   ]
  },
  {
   "cell_type": "markdown",
   "metadata": {},
   "source": [
    "Bài 14:\n",
    "\n",
    "Câu hỏi:\n",
    "\n",
    "Viết một chương trình chấp nhận đầu vào là chuỗi các số nhị phân 4 chữ số, phân tách bởi dấu phẩy, kiểm tra xem chúng có chia hết cho 5 không. Sau đó in các số chia hết cho 5 thành dãy phân tách bởi dấu phẩy.\n",
    "\n",
    "Ví dụ đầu vào là: 0100,0011,1010,1001\n",
    "\n",
    "Đầu ra sẽ là: 1010"
   ]
  },
  {
   "cell_type": "code",
   "execution_count": null,
   "metadata": {},
   "outputs": [],
   "source": [
    "# Cách ngu\n",
    "def convertBit(bit_value):\n",
    "    arr_bit = [int(x) for x in list(bit_value)]\n",
    "    value = 0\n",
    "    i = 0\n",
    "    while arr_bit:\n",
    "        value += arr_bit.pop() * (2**i)\n",
    "        i += 1\n",
    "    return value\n",
    "\n",
    "values_in = [x for x in (input()).split(',')]\n",
    "\n",
    "values_div_5 = []\n",
    "for x in values_in:\n",
    "    if convertBit(x) % 5 == 0:\n",
    "        values_div_5.append(x)\n",
    "        \n",
    "print(','.join(values_div_5))\n",
    "# Cách bớt ngu\n",
    "values_in = [x for x in (input()).split(',')]\n",
    "values_div_5 = []\n",
    "for val in values_in:\n",
    "    if int(val, 2) % 5 == 0 :\n",
    "        values_div_5.append(val)\n",
    "    \n",
    "print(','.join(values_div_5))"
   ]
  },
  {
   "cell_type": "code",
   "execution_count": null,
   "metadata": {},
   "outputs": [],
   "source": [
    "for i in range(0, 8):\n",
    "    print(i)"
   ]
  },
  {
   "cell_type": "code",
   "execution_count": null,
   "metadata": {},
   "outputs": [],
   "source": [
    "int('1010', 2)"
   ]
  },
  {
   "cell_type": "markdown",
   "metadata": {},
   "source": [
    "Bài 15:\n",
    "\n",
    "Câu hỏi:\n",
    "\n",
    "Viết một chương trình tìm tất cả các số trong đoạn 1000 và 3000 (tính cả 2 số này) sao cho tất cả các chữ số trong số đó là số chẵn. In các số tìm được thành chuỗi cách nhau bởi dấu phẩy, trên một dòng.\n",
    "\n",
    "Gợi ý:\n",
    "\n",
    "Trong trường hợp dữ liệu đầu vào được nhập vào chương trình nó nên được giả định là dữ liệu được người dùng nhập vào từ giao diện điều khiển."
   ]
  },
  {
   "cell_type": "code",
   "execution_count": null,
   "metadata": {},
   "outputs": [],
   "source": [
    "val_div_2 = []\n",
    "resuilt = []\n",
    "\n",
    "def check_div_2(val):\n",
    "    val = list(str(val))\n",
    "    return all(x % 2 == 0 for x in val)\n",
    "\n",
    "for x in range(1000, 3001, 2):\n",
    "    if check_div_2(x):\n",
    "        resuilt.append(str(x))\n",
    "\n",
    "print(','.join(resuilt))"
   ]
  },
  {
   "cell_type": "markdown",
   "metadata": {},
   "source": [
    "Bài 16:\n",
    "\n",
    "Câu hỏi:\n",
    "\n",
    "Viết một chương trình chấp nhận đầu vào là một câu, đếm số chữ cái và chữ số trong câu đó. Giả sử đầu vào sau được cấp cho chương trình: hello world! 123\n",
    "\n",
    "Thì đầu ra sẽ là: \n",
    "\n",
    "Số chữ cái là: 10\n",
    "Số chữ số là: 3\n",
    "\n",
    "Gợi ý:\n",
    "\n",
    "Trong trường hợp dữ liệu đầu vào được nhập vào chương trình nó nên được giả định là dữ liệu được người dùng nhập vào từ giao diện điều khiển."
   ]
  },
  {
   "cell_type": "code",
   "execution_count": null,
   "metadata": {},
   "outputs": [],
   "source": [
    "input_val = list(str(input()).trim())\n",
    "count = {'num' : 0, 'char' : 0}\n",
    "\n",
    "for x in input_val:\n",
    "    if x.isnumeric():\n",
    "        count['num'] += 1\n",
    "    elif x.isalpha():\n",
    "        count['char'] += 1\n",
    "        \n",
    "print(count)"
   ]
  },
  {
   "cell_type": "markdown",
   "metadata": {},
   "source": [
    "Bài 17:\n",
    "\n",
    "Câu hỏi:\n",
    "\n",
    "Viết một chương trình chấp nhận đầu vào là một câu, đếm chữ hoa, chữ thường.\n",
    "\n",
    "Giả sử đầu vào là: Quản Trị Mạng\n",
    "\n",
    "Thì đầu ra là:\n",
    "\n",
    "Chữ hoa: 3\n",
    "\n",
    "Chữ thường: 8\n",
    "\n",
    "Gợi ý:\n",
    "\n",
    "Trong trường hợp dữ liệu đầu vào được nhập vào chương trình nó nên được giả định là dữ liệu được người dùng nhập vào từ giao diện điều khiển."
   ]
  },
  {
   "cell_type": "code",
   "execution_count": null,
   "metadata": {},
   "outputs": [],
   "source": [
    "count = {'upper': 0, 'lower': 0}\n",
    "\n",
    "val_input = list(str(input()))\n",
    "\n",
    "for val in val_input:\n",
    "    if val.islower():\n",
    "        count['lower'] += 1\n",
    "    elif val.isupper():\n",
    "        count['upper'] += 1\n",
    "    else:\n",
    "        pass\n",
    "print(count)"
   ]
  },
  {
   "cell_type": "markdown",
   "metadata": {},
   "source": [
    "## Bài 18:\n",
    "\n",
    "Câu hỏi:\n",
    "\n",
    "Viết một chương trình tính giá trị của a+aa+aaa+aaaa với a là số được nhập vào bởi người dùng.\n",
    "\n",
    "Giả sử a được nhập vào là 1 thì đầu ra sẽ là: 1234\n",
    "\n",
    "Gợi ý:\n",
    "\n",
    "Trong trường hợp dữ liệu đầu vào được nhập vào chương trình nó nên được giả định là dữ liệu được người dùng nhập vào từ giao diện điều khiển."
   ]
  },
  {
   "cell_type": "code",
   "execution_count": null,
   "metadata": {},
   "outputs": [],
   "source": [
    "a_in = int(input())\n",
    "\n",
    "# Cach ngu\n",
    "resuilt = ''\n",
    "\n",
    "resuilt = str(a_in) + str(a_in * 2) + str(a_in * 3) + str(a_in * 4)\n",
    "print(resuilt)\n",
    "\n",
    "# Cach it ngu\n",
    "resuilt = ''\n",
    "for i in range(4):\n",
    "    resuilt += str(a_in * (i+1))\n",
    "print(resuilt)\n",
    "\n"
   ]
  },
  {
   "cell_type": "code",
   "execution_count": null,
   "metadata": {},
   "outputs": [],
   "source": [
    "# Cach do ngu nhat\n",
    "a_in = int(input())\n",
    "a_in = int('%s%s%s%s' %(a_in, a_in * 2, a_in * 3, a_in * 4))\n",
    "print(a_in)"
   ]
  },
  {
   "cell_type": "code",
   "execution_count": null,
   "metadata": {},
   "outputs": [],
   "source": [
    "# Cach do ngu nhat\n",
    "a_in = int(input())\n",
    "cal = 1\n",
    "sum_cal = 0 \n",
    "for x in range(1, 4):\n",
    "    sum_cal = sum_cal +  a_in\n",
    "1 = 0 + 1\n",
    "11 = 10 + 1\n",
    "111 = 100 + 10 + 1\n",
    "111 = 1000 + 100 + 10 + 1\n"
   ]
  },
  {
   "cell_type": "code",
   "execution_count": null,
   "metadata": {},
   "outputs": [],
   "source": []
  },
  {
   "cell_type": "markdown",
   "metadata": {},
   "source": [
    "# Bài 19:\n",
    "\n",
    "Câu hỏi:\n",
    "\n",
    "Sử dụng một danh sách để lọc các số lẻ từ danh sách được người dùng nhập vào.\n",
    "\n",
    "Giả sử đầu vào là: 1,2,3,4,5,6,7,8,9 thì đầu ra phải là: 1,3,5,7,9\n",
    "\n",
    "Gợi ý:\n",
    "\n",
    "Trong trường hợp dữ liệu đầu vào được nhập vào chương trình nó nên được giả định là dữ liệu được người dùng nhập vào từ giao diện điều khiển."
   ]
  },
  {
   "cell_type": "code",
   "execution_count": null,
   "metadata": {},
   "outputs": [],
   "source": [
    "val_in = str(input()).split(',')\n",
    "\n",
    "# Cách ngu\n",
    "resuilt = []\n",
    "for x in val_in:\n",
    "    if (int(x) % 2 == 1):\n",
    "        resuilt.append(x)\n",
    "        \n",
    "print(','.join(resuilt))\n",
    "\n",
    "# Cách khôn\n",
    "resuilt = [x for x in val_in if int(x) % 2 == 1]\n",
    "print(','.join(resuilt))"
   ]
  },
  {
   "cell_type": "code",
   "execution_count": null,
   "metadata": {
    "scrolled": true
   },
   "outputs": [],
   "source": [
    "val_in = set([int(x) for x in str(input()).split(',')])\n",
    "le = set(range(1, max(val_in)+1, 2))\n",
    "result = le & val_in\n",
    "print(result)"
   ]
  },
  {
   "cell_type": "markdown",
   "metadata": {},
   "source": [
    "## Bài 20:\n",
    "\n",
    "Câu hỏi:\n",
    "\n",
    "Viết chương trình tính số tiền thực của một tài khoản ngân hàng dựa trên nhật ký giao dịch được nhập vào từ giao diện điều khiển. \n",
    "\n",
    "Định dạng nhật ký được hiển thị như sau:\n",
    "\n",
    "D 100\n",
    "W 200\n",
    "\n",
    "(D là tiền gửi, W là tiền rút ra).\n",
    "\n",
    "Giả sử đầu vào được cung cấp là:\n",
    "\n",
    "D 300\n",
    "\n",
    "D 300\n",
    "\n",
    "W 200\n",
    "\n",
    "D 100\n",
    "\n",
    "Thì đầu ra sẽ là:\n",
    "\n",
    "500\n",
    "\n",
    "Gợi ý:\n",
    "\n",
    "Trong trường hợp dữ liệu đầu vào được nhập vào chương trình nó nên được giả định là dữ liệu được người dùng nhập vào từ giao diện điều khiển."
   ]
  },
  {
   "cell_type": "code",
   "execution_count": 8,
   "metadata": {},
   "outputs": [
    {
     "name": "stdout",
     "output_type": "stream",
     "text": [
      "\n"
     ]
    }
   ],
   "source": [
    "account = 0\n",
    "def check_format(trans):\n",
    "    check = re.match(r'^[D,Z] [1-9]|[1-9][0-9]|[1-9][0-9[0-9]$', trans)\n",
    "    if check:\n",
    "        return True\n",
    "    return False\n",
    "\n",
    "while True:\n",
    "    money = input()\n",
    "    if not money:\n",
    "        break\n",
    "        \n",
    "    if not check_format(money):\n",
    "        print ('Format Error')\n",
    "        break    \n",
    "    money = money.split(' ')\n",
    "    \n",
    "    \n",
    "    if (money[0] == 'D'):\n",
    "        account += int(money[1])\n",
    "    else:\n",
    "        account = account - int(money[1])\n",
    "    print(account)\n",
    "    "
   ]
  },
  {
   "cell_type": "markdown",
   "metadata": {},
   "source": [
    "## Bài 21:\n",
    "\n",
    "Câu hỏi:\n",
    "\n",
    "Một website yêu cầu người dùng nhập tên người dùng và mật khẩu để đăng ký. Viết chương trình để kiểm tra tính hợp lệ của mật khẩu mà người dùng nhập vào.\n",
    "\n",
    "Các tiêu chí kiểm tra mật khẩu bao gồm:\n",
    "\n",
    "1. Ít nhất 1 chữ cái nằm trong [a-z]\n",
    "2. Ít nhất 1 số nằm trong [0-9]\n",
    "3. Ít nhất 1 kí tự nằm trong [A-Z]\n",
    "4. Ít nhất 1 ký tự nằm trong [$ # @]\n",
    "5. Độ dài mật khẩu tối thiểu: 6\n",
    "6. Độ dài mật khẩu tối đa: 12\n",
    "\n",
    "Chương trình phải chấp nhận một chuỗi mật khẩu phân tách nhau bởi dấu phẩy và kiểm tra xem chúng có đáp ứng những tiêu chí trên hay không. Mật khẩu hợp lệ sẽ được in, mỗi mật khẩu cách nhau bởi dấu phẩy.\n",
    "\n",
    "Ví dụ mật khẩu nhập vào chương trình là: ABd1234@1,a F1#,2w3E*,2We3345\n",
    "\n",
    "Thì đầu ra sẽ là: ABd1234@1"
   ]
  },
  {
   "cell_type": "code",
   "execution_count": 17,
   "metadata": {},
   "outputs": [
    {
     "name": "stdout",
     "output_type": "stream",
     "text": [
      "Ab@1\n",
      "False\n"
     ]
    }
   ],
   "source": [
    "def check_format_pass(pass_in):\n",
    "    if (len(pass_in) < 6) or (len(pass_in)>12):\n",
    "        return False\n",
    "    check_arr = [r'[a-z]', r'[0-9]', r'[A-Z]', r'[$]|[#]|[@]']\n",
    "    return all(re.findall(x, pass_in) for x in check_arr)\n",
    "\n",
    "print(check_format_pass(input()))"
   ]
  },
  {
   "cell_type": "markdown",
   "metadata": {},
   "source": [
    "## Bài 22:\n",
    "\n",
    "Câu hỏi:\n",
    "\n",
    "Viết chương trình sắp xếp tuple (name, age, score) theo thứ tự tăng dần, name là string, age và height là number. Tuple được nhập vào bởi người dùng. Tiêu chí sắp xếp là:\n",
    "\n",
    "Sắp xếp theo name sau đó sắp xếp theo age, sau đó sắp xếp theo score. Ưu tiên là tên > tuổi > điểm.\n",
    "\n",
    "Nếu đầu vào là:\n",
    "\n",
    "Tom,19,80\n",
    "John,20,90\n",
    "Jony,17,91\n",
    "Jony,17,93\n",
    "Json,21,85\n",
    "\n",
    "Thì đầu ra sẽ là:\n",
    "\n",
    "[('John', '20', '90'), ('Jony', '17', '91'), ('Jony', '17', '93'), ('Json', '21', '85'), ('Tom', '19', '80')]\n",
    "\n",
    "Gợi ý:\n",
    "\n",
    "Trong trường hợp dữ liệu đầu vào được nhập vào chương trình nó nên được giả định là dữ liệu được người dùng nhập vào từ giao diện điều khiển.\n",
    "\n",
    "Sử dụng itemgetter để chấp nhận nhiều key sắp xếp."
   ]
  },
  {
   "cell_type": "code",
   "execution_count": 52,
   "metadata": {},
   "outputs": [
    {
     "name": "stdout",
     "output_type": "stream",
     "text": [
      "Tom,19,80 John,20,90 Jony,17,91 Jony,17,93 Json,21,85\n"
     ]
    },
    {
     "data": {
      "text/plain": [
       "[('John', '20', '90'),\n",
       " ('Jony', '17', '91'),\n",
       " ('Jony', '17', '93'),\n",
       " ('Json', '21', '85'),\n",
       " ('Tom', '19', '80')]"
      ]
     },
     "execution_count": 52,
     "metadata": {},
     "output_type": "execute_result"
    }
   ],
   "source": [
    "in_value = [tuple(x.split(',')) for x in input().split(' ')]\n",
    "\n",
    "sorted(in_value, key= itemgetter(0, 1, 2))"
   ]
  },
  {
   "cell_type": "markdown",
   "metadata": {},
   "source": [
    "Bài 23:\n",
    "\n",
    "Câu hỏi:\n",
    "\n",
    "Xác định một class với generator có thể lặp lại các số nằm trong khoảng 0 và n, và chia hết cho 7.\n",
    "\n",
    "Gợi ý:\n",
    "\n",
    "Sử dụng yield."
   ]
  },
  {
   "cell_type": "code",
   "execution_count": 73,
   "metadata": {},
   "outputs": [
    {
     "name": "stdout",
     "output_type": "stream",
     "text": [
      "0\n",
      "7\n",
      "14\n",
      "21\n",
      "28\n",
      "35\n",
      "42\n",
      "49\n",
      "56\n",
      "63\n",
      "70\n",
      "77\n",
      "84\n",
      "91\n",
      "98\n"
     ]
    }
   ],
   "source": [
    "def generator(n):\n",
    "    for i in range(0, n, 7):\n",
    "        yield i\n",
    "        \n",
    "gen = generator(100)\n",
    "\n",
    "for g in gen:\n",
    "    print(g)\n"
   ]
  },
  {
   "cell_type": "markdown",
   "metadata": {},
   "source": [
    "# Bài 24:\n",
    "\n",
    "Câu hỏi:\n",
    "\n",
    "Một Robot di chuyển trong mặt phẳng bắt đầu từ điểm đầu tiên (0,0). Robot có thể di chuyển theo hướng UP, DOWN, LEFT và RIGHT với những bước nhất định. Dấu di chuyển của robot được đánh hiển thị như sau:\n",
    "\n",
    "UP 5\n",
    "\n",
    "DOWN 3\n",
    "\n",
    "LEFT 3\n",
    "\n",
    "RIGHT 3\n",
    "\n",
    "Các con số sau phía sau hướng di chuyển chính là số bước đi. Hãy viết chương trình để tính toán khoảng cách từ vị trí hiện tại đến vị trí đầu tiên, sau khi robot đã di chuyển một quãng đường. Nếu khoảng cách là một số thập phân chỉ cần in só nguyên gần nhất.\n",
    "\n",
    "Ví dụ: Nếu tuple sau đây là input của chương trình:\n",
    "\n",
    "UP 5\n",
    "DOWN 3\n",
    "LEFT 3\n",
    "RIGHT 2\n",
    "\n",
    "thì đầu ra sẽ là 2.\n",
    "\n",
    "Gợi ý:\n",
    "\n",
    "Trong trường hợp dữ liệu đầu vào được nhập vào chương trình nó nên được giả định là dữ liệu được người dùng nhập vào từ giao diện điều khiển."
   ]
  },
  {
   "cell_type": "code",
   "execution_count": 112,
   "metadata": {},
   "outputs": [
    {
     "name": "stdout",
     "output_type": "stream",
     "text": [
      "[-1, 2] [0, 0]\n",
      "Distance is :  3\n"
     ]
    }
   ],
   "source": [
    "seark_Key = r'UP \\d|DOWN \\d|LEFT \\d|RIGHT \\d'\n",
    "move_input = 'UP 5 DOWN 3 LEFT 3 RIGHT 2'\n",
    "in_val = [x.split(' ') for x in re.findall(seark_Key, move_input)]\n",
    "\n",
    "# Cach lang nhang, phuc tap\n",
    "X0 = [0, 0]\n",
    "X1 = [0, 0]\n",
    "\n",
    "def distance(X1, X2):\n",
    "    return math.sqrt((X1[0] - X1[1])**2 - (X2[0] - X2[1])**2)\n",
    "\n",
    "move = {'UP': [0, 1], 'DOWN': [0, -1], 'RIGHT': [1, 0], 'LEFT': [-1, 0]}\n",
    "\n",
    "for move_key, move_value in in_val:\n",
    "    X0[0] = X0[0] + move[move_key][0] * int(move_value)\n",
    "    X0[1] = X0[1] + move[move_key][1] * int(move_value)\n",
    "    \n",
    "print(X0, X1)\n",
    "print('Distance is : ', round(distance(X0, X1)))"
   ]
  },
  {
   "cell_type": "code",
   "execution_count": 116,
   "metadata": {},
   "outputs": [
    {
     "data": {
      "text/plain": [
       "[-1, 2]"
      ]
     },
     "execution_count": 116,
     "metadata": {},
     "output_type": "execute_result"
    }
   ],
   "source": [
    "seark_Key = r'UP \\d|DOWN \\d|LEFT \\d|RIGHT \\d'\n",
    "move_input = 'UP 5 DOWN 3 LEFT 3 RIGHT 2'\n",
    "in_val = [x.split(' ') for x in re.findall(seark_Key, move_input)]\n",
    "\n",
    "start_xy = [0, 0]\n",
    "\n",
    "for move in (in_val):\n",
    "    move_key = move[0]\n",
    "    move_value = move[1]\n",
    "    \n",
    "    if move_key == 'UP' :\n",
    "        start_xy[1] += int(move_value)\n",
    "    if move_key == 'DOWN':\n",
    "        start_xy[1] -= int(move_value)\n",
    "    if move_key == 'LEFT':\n",
    "        start_xy[0] -= int(move_value)\n",
    "    if move_key == 'RIGHT':\n",
    "        start_xy[0] += int(move_value)\n",
    "        \n",
    "start_xy"
   ]
  },
  {
   "cell_type": "markdown",
   "metadata": {},
   "source": [
    "### Bài 25:\n",
    "\n",
    "Câu hỏi:\n",
    "\n",
    "Viết chương trình tính tần suất các từ từ input. Output được xuất ra sau khi đã sắp xếp theo bảng chữ cái.\n",
    "\n",
    "Giả sử input là: New to Python or choosing between Python 2 and Python 3? Read Python 2 or Python 3.\n",
    "\n",
    "Thì output phải là:\n",
    "\n",
    "2:2\n",
    "3.:1\n",
    "3?:1\n",
    "New:1\n",
    "Python:5\n",
    "Read:1\n",
    "and:1\n",
    "between:1\n",
    "choosing:1\n",
    "or:2\n",
    "to:1\n",
    "\n",
    "Gợi ý:\n",
    "\n",
    "Trong trường hợp dữ liệu đầu vào được cung cấp cho câu hỏi, nó phải được giả định là một input được nhập từ giao diện điều khiển."
   ]
  },
  {
   "cell_type": "code",
   "execution_count": 169,
   "metadata": {},
   "outputs": [
    {
     "name": "stdout",
     "output_type": "stream",
     "text": [
      "{'to': 1, 'between': 1, 'Read': 1, 'choosing': 1, 'Python': 5, '2': 2, '3': 1, 'and': 1, '3?': 1, 'or': 2, 'New': 1}\n"
     ]
    }
   ],
   "source": [
    "# Cachs vai ngu\n",
    "\n",
    "in_value = 'New to Python or choosing between Python 2 and Python 3? Read Python 2 or Python 3'.split(' ')\n",
    "\n",
    "index = set(in_value)\n",
    "result = zip([1]*len(index), index)\n",
    "\n",
    "\n",
    "def count_char(str, str_arr):\n",
    "    count = 0\n",
    "    for s in str_arr:\n",
    "        if s == str:\n",
    "            count += 1\n",
    "    return count\n",
    "\n",
    "result = {key : values for values, key in result}\n",
    "\n",
    "for ind in index:\n",
    "    s = count_char(ind, in_value)\n",
    "    result[ind] = s\n",
    "    \n",
    "print(result)"
   ]
  },
  {
   "cell_type": "code",
   "execution_count": 177,
   "metadata": {},
   "outputs": [
    {
     "name": "stdout",
     "output_type": "stream",
     "text": [
      "{'New': 1, 'to': 1, 'Python': 5, 'or': 2, 'choosing': 1, 'between': 1, '2': 2, 'and': 1, '3?': 1, 'Read': 1, '3': 1}\n"
     ]
    }
   ],
   "source": [
    "# Cách khôn\n",
    "\n",
    "in_value = 'New to Python or choosing between Python 2 and Python 3? Read Python 2 or Python 3'.split(' ')\n",
    "\n",
    "numbers = dict()\n",
    "\n",
    "for x in in_value:\n",
    "    if x in numbers:\n",
    "        numbers[x] += 1\n",
    "    else:\n",
    "        numbers[x] = 1\n",
    "    \n",
    "print(numbers)\n",
    "\n",
    "# https://www.lifewithpython.com/2015/05/python-dict-default-value.html"
   ]
  },
  {
   "cell_type": "code",
   "execution_count": 188,
   "metadata": {},
   "outputs": [
    {
     "data": {
      "text/plain": [
       "{'2': 2,\n",
       " '3': 1,\n",
       " '3?': 1,\n",
       " 'New': 1,\n",
       " 'Python': 5,\n",
       " 'Read': 1,\n",
       " 'and': 1,\n",
       " 'between': 1,\n",
       " 'choosing': 1,\n",
       " 'or': 2,\n",
       " 'to': 1}"
      ]
     },
     "execution_count": 188,
     "metadata": {},
     "output_type": "execute_result"
    }
   ],
   "source": [
    "# Cách khôn hơn\n",
    "\n",
    "in_value = 'New to Python or choosing between Python 2 and Python 3? Read Python 2 or Python 3'.split(' ')\n",
    "\n",
    "numbers = dict()\n",
    "\n",
    "# get(x, 0) Nếu giá trị ở x đã tồn tại, trả về giá trị, x, nếu không trả về default = 0\n",
    "for x in in_value:\n",
    "    numbers[x] = numbers.get(x, 0) + 1\n",
    "    \n",
    "numbers"
   ]
  },
  {
   "cell_type": "code",
   "execution_count": null,
   "metadata": {},
   "outputs": [],
   "source": []
  }
 ],
 "metadata": {
  "kernelspec": {
   "display_name": "Python 3",
   "language": "python",
   "name": "python3"
  },
  "language_info": {
   "codemirror_mode": {
    "name": "ipython",
    "version": 3
   },
   "file_extension": ".py",
   "mimetype": "text/x-python",
   "name": "python",
   "nbconvert_exporter": "python",
   "pygments_lexer": "ipython3",
   "version": "3.6.4"
  }
 },
 "nbformat": 4,
 "nbformat_minor": 2
}
