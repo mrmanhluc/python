{
 "cells": [
  {
   "cell_type": "code",
   "execution_count": 1,
   "metadata": {},
   "outputs": [],
   "source": [
    "import numpy as np"
   ]
  },
  {
   "cell_type": "code",
   "execution_count": 10,
   "metadata": {},
   "outputs": [
    {
     "data": {
      "text/plain": [
       "'##########################################nguyen manh luc###########################################'"
      ]
     },
     "execution_count": 10,
     "metadata": {},
     "output_type": "execute_result"
    }
   ],
   "source": [
    "string = 'nguyen manh luc'\n",
    "\n",
    "# IN hoa chu cai dau tien\n",
    "string.capitalize()\n",
    "\n",
    "string.center(100, '#')"
   ]
  },
  {
   "cell_type": "code",
   "execution_count": 13,
   "metadata": {},
   "outputs": [
    {
     "data": {
      "text/plain": [
       "3"
      ]
     },
     "execution_count": 13,
     "metadata": {},
     "output_type": "execute_result"
    }
   ],
   "source": [
    "# Đếm kí tự xuất hiện trong chuối\n",
    "string.count('n')"
   ]
  },
  {
   "cell_type": "code",
   "execution_count": 28,
   "metadata": {},
   "outputs": [],
   "source": [
    "str1 = 'Nguyễn Mạnh Lực'\n",
    "str2 = 'グエン・マン・ルック'\n",
    "temp = str2.encode('utf-8')"
   ]
  },
  {
   "cell_type": "code",
   "execution_count": 33,
   "metadata": {},
   "outputs": [
    {
     "data": {
      "text/plain": [
       "'グエン・マン・ルック'"
      ]
     },
     "execution_count": 33,
     "metadata": {},
     "output_type": "execute_result"
    }
   ],
   "source": [
    "temp2 = temp.decode('utf-8')\n",
    "temp2"
   ]
  },
  {
   "cell_type": "code",
   "execution_count": 34,
   "metadata": {},
   "outputs": [
    {
     "data": {
      "text/plain": [
       "b'\\xe3\\x82\\xb0\\xe3\\x82\\xa8\\xe3\\x83\\xb3\\xe3\\x83\\xbb\\xe3\\x83\\x9e\\xe3\\x83\\xb3\\xe3\\x83\\xbb\\xe3\\x83\\xab\\xe3\\x83\\x83\\xe3\\x82\\xaf'"
      ]
     },
     "execution_count": 34,
     "metadata": {},
     "output_type": "execute_result"
    }
   ],
   "source": [
    "temp"
   ]
  },
  {
   "cell_type": "code",
   "execution_count": 40,
   "metadata": {},
   "outputs": [
    {
     "data": {
      "text/plain": [
       "True"
      ]
     },
     "execution_count": 40,
     "metadata": {},
     "output_type": "execute_result"
    }
   ],
   "source": [
    "# Kiểm tra kết thúc bằng một kí tự\n",
    "str2.endswith('マン・ルック')\n",
    "# Có thể kiểm tra được 1 hoặc chuỗi kí tự"
   ]
  },
  {
   "cell_type": "code",
   "execution_count": 46,
   "metadata": {},
   "outputs": [
    {
     "name": "stdout",
     "output_type": "stream",
     "text": [
      "Nguyễn\tManh\tLuc\tManh\n"
     ]
    }
   ],
   "source": [
    "# Thay thế Tabs \\t bằng khoảng trắng\n",
    "\n",
    "print(str1)"
   ]
  },
  {
   "cell_type": "code",
   "execution_count": 47,
   "metadata": {},
   "outputs": [
    {
     "data": {
      "text/plain": [
       "'Nguyễn Manh Luc Manh'"
      ]
     },
     "execution_count": 47,
     "metadata": {},
     "output_type": "execute_result"
    }
   ],
   "source": [
    "#thay thế 1 Tab = 1 space\n",
    "str1.expandtabs(1)"
   ]
  },
  {
   "cell_type": "code",
   "execution_count": 9,
   "metadata": {},
   "outputs": [
    {
     "name": "stdout",
     "output_type": "stream",
     "text": [
      "16\n"
     ]
    }
   ],
   "source": [
    "# Tim kiem : Trả về vị trí đầu tiên khi tìm thấy chữu Manh\n",
    "str1 = 'Nguyễn\\tManh\\tLuc\\tManh'\n",
    "str1.find('Manh')\n",
    "\n",
    "# Rfind() : Trả  về vị trí cuối cùng mà tìm được chuỗi\n",
    "print(str1.rfind('Manh'))"
   ]
  },
  {
   "cell_type": "code",
   "execution_count": 10,
   "metadata": {},
   "outputs": [
    {
     "name": "stdout",
     "output_type": "stream",
     "text": [
      "12\n",
      "21\n"
     ]
    }
   ],
   "source": [
    "# Index (Như hàm find, tuy nhiên sẽ gọi Exception khi khôn tim thấy)\n",
    "str1 = 'Nguyễn\\tManh\\tLuc\\tManh Luc'\n",
    "print(str1.index('Luc'))\n",
    "# Exception bao not founded\n",
    "print(str1.rindex('Luc'))"
   ]
  },
  {
   "cell_type": "code",
   "execution_count": 11,
   "metadata": {},
   "outputs": [
    {
     "name": "stdout",
     "output_type": "stream",
     "text": [
      "True\n",
      "True\n",
      "False\n",
      "123123dkaosdkoあ False\n",
      "123123dkaosdkoあ False\n",
      "12334dasdas578 False\n",
      "123123dkaosdkoあ True\n",
      "ádasdas123pl True\n"
     ]
    }
   ],
   "source": [
    "# Check chuỗi có chứa số hay không?\n",
    "\n",
    "str1 = r'123123dkaosdkoあ'\n",
    "\n",
    "print(list(str1)[len(str1)-1].isalnum())\n",
    "\n",
    "str2 = '12334dasdas578'\n",
    "\n",
    "print(str2.isalnum())\n",
    "\n",
    "print(str2.isdigit())\n",
    "\n",
    "temp = 0\n",
    "# Kiểm tra string có phải chứa duy nhất số hay không\n",
    "print(str1, str1.isdigit())\n",
    "\n",
    "if str2.isdigit():\n",
    "    temp = (int)(str2)\n",
    "    \n",
    "# Kiếm tra số, chữ \n",
    "print(str1,str1.isdecimal())\n",
    "\n",
    "print(str2, str2.isdecimal())\n",
    "\n",
    "# Kiếm tra chuỗi bao gồm cả chữ và số\n",
    "print(str1, str1.isalnum())\n",
    "\n",
    "str3 = 'ádasdas123pl'\n",
    "print(str3, str3.isalnum())\n"
   ]
  },
  {
   "cell_type": "code",
   "execution_count": 12,
   "metadata": {},
   "outputs": [
    {
     "name": "stdout",
     "output_type": "stream",
     "text": [
      "False\n",
      "True\n",
      "True\n"
     ]
    }
   ],
   "source": [
    "# Kiểm tra in thường\n",
    "str1 = 'ABC'\n",
    "print(str1.islower())\n",
    "\n",
    "str2 = 'abc'\n",
    "print(str2.islower())\n",
    "\n",
    "# Kiểm tra in hoa\n",
    "print(str1.isupper())"
   ]
  },
  {
   "cell_type": "code",
   "execution_count": 13,
   "metadata": {},
   "outputs": [
    {
     "name": "stdout",
     "output_type": "stream",
     "text": [
      "True\n",
      "False\n",
      "True\n",
      "False\n"
     ]
    }
   ],
   "source": [
    "# isnumeric và isdigint\n",
    "x1 = '12345123'\n",
    "x2 = 'abc123'\n",
    "\n",
    "print(x1.isnumeric())\n",
    "print(x2.isnumeric())\n",
    "print(x1.isdigit())\n",
    "print(x2.isdigit())"
   ]
  },
  {
   "cell_type": "code",
   "execution_count": 14,
   "metadata": {},
   "outputs": [
    {
     "name": "stdout",
     "output_type": "stream",
     "text": [
      "True\n",
      "False\n"
     ]
    }
   ],
   "source": [
    "# Kiếm tra 1 chuỗi chỉ chứa duy nhất space\n",
    "x1 = '    '\n",
    "x2 = ' asd đá'\n",
    "\n",
    "print(x1.isspace())\n",
    "print(x2.isspace())"
   ]
  },
  {
   "cell_type": "code",
   "execution_count": 15,
   "metadata": {},
   "outputs": [
    {
     "name": "stdout",
     "output_type": "stream",
     "text": [
      "True\n",
      "False\n",
      "Nguyen Manh Luc\n",
      "tHIS IS nOT tITLE\n"
     ]
    }
   ],
   "source": [
    "# Chuỗi Title là chuỗi có chữ cái đầu in hoa\n",
    "title1 = 'This Is Title'\n",
    "title2 = 'This is Not Title'\n",
    "\n",
    "print(title1.istitle())\n",
    "print(title2.istitle())\n",
    "\n",
    "# Convert 1 chuỗi sang Title : In hoa các chữ cái đứng đầu\n",
    "title3 = 'nguyen manh luc'\n",
    "print(title3.title())\n",
    "\n",
    "# Swapcase . Hoa -> Thường, Thường -> Hoa\n",
    "print(title2.swapcase())"
   ]
  },
  {
   "cell_type": "code",
   "execution_count": 16,
   "metadata": {},
   "outputs": [
    {
     "name": "stdout",
     "output_type": "stream",
     "text": [
      "*LUC NGUYEN*LUC NGUYEN.LUC NGUYEN.\n",
      "LUC NGUYEN\n",
      "['L', 'U', 'C', ' ', 'N', 'G', 'U', 'Y', 'E', 'N']\n",
      "10\n",
      "10\n"
     ]
    }
   ],
   "source": [
    "# Join string\n",
    "str_one = 'LUC NGUYEN'\n",
    "str_two = '**..'\n",
    "print(str_one.join(str_two))\n",
    "\n",
    "# Len\n",
    "print(str_one)\n",
    "print(list(str_one))\n",
    "\n",
    "print(len(str_one))\n",
    "print(len(list(str_one)))"
   ]
  },
  {
   "cell_type": "code",
   "execution_count": 17,
   "metadata": {},
   "outputs": [
    {
     "name": "stdout",
     "output_type": "stream",
     "text": [
      "123-----------------\n",
      "123\n",
      "---------------------------123\n",
      "Student 9 Id is 009\n",
      "Student10 Id is 010\n"
     ]
    }
   ],
   "source": [
    "# Print string với len cho xác định trước\n",
    "str = '123'\n",
    "\n",
    "# TÌnh huống len quá dài\n",
    "print(str.ljust(20, '-'))\n",
    "\n",
    "# Tình huống len quá ngắn\n",
    "print(str.ljust(2, '-'))\n",
    "\n",
    "# Bù phải\n",
    "print(str.rjust(30, '-'))\n",
    "\n",
    "# Thêm kí tự 0 cho đủ độ dài\n",
    "\n",
    "student_id1 = '9'\n",
    "student_id2 = '10'\n",
    "\n",
    "print('Student 9 Id is',student_id1.zfill(3))\n",
    "print('Student10 Id is',student_id2.zfill(3))"
   ]
  },
  {
   "cell_type": "code",
   "execution_count": 18,
   "metadata": {},
   "outputs": [
    {
     "name": "stdout",
     "output_type": "stream",
     "text": [
      "NGUYEN MANH LUC\n",
      "nguyen manh luc\n"
     ]
    }
   ],
   "source": [
    "# Convert\n",
    "# Convert to lower\n",
    "\n",
    "str1 = 'Nguyen manh luc'\n",
    "print(str1.upper())\n",
    "\n",
    "print(str1.lower())"
   ]
  },
  {
   "cell_type": "code",
   "execution_count": 19,
   "metadata": {},
   "outputs": [
    {
     "name": "stdout",
     "output_type": "stream",
     "text": [
      "Nguyen Manh Luc\n",
      "guyen Manh Luc\n",
      "nguyenmanh Luc\n",
      "Nguyen Manh Luc\n",
      "\tNguyen Manh Luc\n",
      "\n",
      "Nguyen Manh Luc\n",
      "\n"
     ]
    }
   ],
   "source": [
    "# Loại bỏ kí tự char đầu chuỗi\n",
    "\n",
    "# lstrip() mặc định input là ' ' \n",
    "str2 = '   Nguyen Manh Luc'\n",
    "print(str2.lstrip())\n",
    "\n",
    "str3 = 'Nguyen Manh Luc'\n",
    "print(str3.lstrip('N'))\n",
    "\n",
    "# Lọa n kí tự nếu n kí tự đầu giống nhau\n",
    "str4 = 'NNnguyenmanh Luc'\n",
    "print(str4.lstrip('N'))\n",
    "\n",
    "# Có phân biệt chữ hoa và thường\n",
    "print(str3.lstrip('n'))\n",
    "\n",
    "str5 = '\\tNguyen Manh Luc\\n'\n",
    "print(str5)\n",
    "\n",
    "# Loại bỏ tab đầu dòng\n",
    "print(str5.lstrip('\\t'))"
   ]
  },
  {
   "cell_type": "code",
   "execution_count": 20,
   "metadata": {},
   "outputs": [
    {
     "name": "stdout",
     "output_type": "stream",
     "text": [
      "\tNguyen Manh Luc\n",
      "\n",
      "\tNguyen Manh Luc\n"
     ]
    }
   ],
   "source": [
    "str5 = '\\tNguyen Manh Luc\\n'\n",
    "\n",
    "print(str5)\n",
    "#Loại bỏ xuống dòng\n",
    "print(str5.rstrip('\\n'))"
   ]
  },
  {
   "cell_type": "code",
   "execution_count": 21,
   "metadata": {},
   "outputs": [
    {
     "name": "stdout",
     "output_type": "stream",
     "text": [
      "Nguyen Manh Luc\n",
      "\n",
      "\tNguyen Manh Luc\n"
     ]
    }
   ],
   "source": [
    "#Loại bỏ kí tự ở 2 đầu chuỗi\n",
    "str5 = '\\tNguyen Manh Luc\\n'\n",
    "\n",
    "print(str5.strip('\\t'))\n",
    "print(str5.strip('\\n'))\n"
   ]
  },
  {
   "cell_type": "code",
   "execution_count": 155,
   "metadata": {},
   "outputs": [
    {
     "name": "stdout",
     "output_type": "stream",
     "text": [
      "ABC KLM XYZ KLM\n",
      "ABC KLM XYZ Rep\n"
     ]
    }
   ],
   "source": [
    "# Replace\n",
    "str1 = 'ABC Rep XYZ Rep'\n",
    "print(str1.replace('Rep', 'KLM'))\n",
    "\n",
    "# 1 : giới hạn số từ đưuọc thay để\n",
    "print(str1.replace('Rep', 'KLM', 1))"
   ]
  },
  {
   "cell_type": "code",
   "execution_count": 158,
   "metadata": {},
   "outputs": [
    {
     "name": "stdout",
     "output_type": "stream",
     "text": [
      "z\n",
      "A\n"
     ]
    }
   ],
   "source": [
    "# Max : Tìm chữ có vị trí \n",
    "str1 = 'ABCabcXyzXyZ'\n",
    "\n",
    "print(max(str1))\n",
    "print(min(str1))"
   ]
  },
  {
   "cell_type": "code",
   "execution_count": 188,
   "metadata": {},
   "outputs": [
    {
     "name": "stdout",
     "output_type": "stream",
     "text": [
      "['Nguyen', 'manh', 'luc']\n",
      "['Nguyen', 'manh,luc']\n",
      "rows1\n",
      "rows2\n",
      "rows3\n",
      "['rows1\\n', 'rows2\\n', 'rows3']\n"
     ]
    }
   ],
   "source": [
    "# Split cắt\n",
    "str1 = 'Nguyen,manh,luc'\n",
    "print(str1.split(','))\n",
    "\n",
    "# Split giới hạn số lượng\n",
    "print(str1.split(',', 1))\n",
    "\n",
    "# Split chuỗi bằng \\n\n",
    "str2 = 'rows1\\nrows2\\nrows3'\n",
    "print(str2)\n",
    "print(str2.splitlines(3))"
   ]
  },
  {
   "cell_type": "code",
   "execution_count": 191,
   "metadata": {},
   "outputs": [
    {
     "name": "stdout",
     "output_type": "stream",
     "text": [
      "id1 start with id check : True\n",
      "id2 strat with id check :  False\n"
     ]
    }
   ],
   "source": [
    "# Kiểm tra kí tự đầu tiên first có bắt đầu bằng....\n",
    "\n",
    "id1 = 'id001'\n",
    "id2 = '002'\n",
    "\n",
    "print('id1 start with id check :', id1.startswith('id'))\n",
    "\n",
    "print('id2 strat with id check : ', id2.startswith('id'))"
   ]
  },
  {
   "cell_type": "code",
   "execution_count": 203,
   "metadata": {},
   "outputs": [
    {
     "name": "stdout",
     "output_type": "stream",
     "text": [
      "私は     Luc\n"
     ]
    }
   ],
   "source": [
    "# Translate cho chuoi\n",
    "inputs = 'Toi la'\n",
    "outs = '私は'\n",
    "\n",
    "outs = outs.ljust(len(inputs), ' ')\n",
    "str1 = 'Toi la Luc'\n",
    "trans = str1.maketrans(inputs, outs)\n",
    "\n",
    "trans = trans.repl\n",
    "print(str1.translate(trans))"
   ]
  },
  {
   "cell_type": "code",
   "execution_count": 6,
   "metadata": {},
   "outputs": [
    {
     "data": {
      "text/plain": [
       "'00003'"
      ]
     },
     "execution_count": 6,
     "metadata": {},
     "output_type": "execute_result"
    }
   ],
   "source": [
    "'3'.rjust(5, '0')\n"
   ]
  }
 ],
 "metadata": {
  "kernelspec": {
   "display_name": "Python 3",
   "language": "python",
   "name": "python3"
  },
  "language_info": {
   "codemirror_mode": {
    "name": "ipython",
    "version": 3
   },
   "file_extension": ".py",
   "mimetype": "text/x-python",
   "name": "python",
   "nbconvert_exporter": "python",
   "pygments_lexer": "ipython3",
   "version": "3.6.4"
  }
 },
 "nbformat": 4,
 "nbformat_minor": 2
}
