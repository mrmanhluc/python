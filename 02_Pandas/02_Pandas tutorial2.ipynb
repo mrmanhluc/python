{
 "cells": [
  {
   "cell_type": "code",
   "execution_count": 1,
   "metadata": {},
   "outputs": [],
   "source": [
    "import pandas as pd\n",
    "import numpy as np\n",
    "import matplotlib.pyplot as plt\n",
    "import re"
   ]
  },
  {
   "cell_type": "code",
   "execution_count": 2,
   "metadata": {},
   "outputs": [],
   "source": [
    "# Series trong pandas giống array 1 chiều\n",
    "s = pd.Series([1, 3, 5, np.nan, 6, 8])\n",
    "\n",
    "# Create datatime in pandas \n",
    "dates = pd.date_range('20180308', periods=6)\n",
    "\n",
    "# Create table with \n",
    "df = pd.DataFrame(np.random.rand(6,4), index=dates, columns = list('ABCD'))"
   ]
  },
  {
   "cell_type": "code",
   "execution_count": 3,
   "metadata": {},
   "outputs": [
    {
     "data": {
      "text/html": [
       "<div>\n",
       "<style scoped>\n",
       "    .dataframe tbody tr th:only-of-type {\n",
       "        vertical-align: middle;\n",
       "    }\n",
       "\n",
       "    .dataframe tbody tr th {\n",
       "        vertical-align: top;\n",
       "    }\n",
       "\n",
       "    .dataframe thead th {\n",
       "        text-align: right;\n",
       "    }\n",
       "</style>\n",
       "<table border=\"1\" class=\"dataframe\">\n",
       "  <thead>\n",
       "    <tr style=\"text-align: right;\">\n",
       "      <th></th>\n",
       "      <th>A</th>\n",
       "      <th>B</th>\n",
       "      <th>C</th>\n",
       "      <th>D</th>\n",
       "    </tr>\n",
       "  </thead>\n",
       "  <tbody>\n",
       "    <tr>\n",
       "      <th>2018-03-11</th>\n",
       "      <td>0.307415</td>\n",
       "      <td>0.664009</td>\n",
       "      <td>0.870730</td>\n",
       "      <td>0.047043</td>\n",
       "    </tr>\n",
       "    <tr>\n",
       "      <th>2018-03-10</th>\n",
       "      <td>0.434633</td>\n",
       "      <td>0.919411</td>\n",
       "      <td>0.396811</td>\n",
       "      <td>0.534292</td>\n",
       "    </tr>\n",
       "    <tr>\n",
       "      <th>2018-03-13</th>\n",
       "      <td>0.572713</td>\n",
       "      <td>0.569455</td>\n",
       "      <td>0.874932</td>\n",
       "      <td>0.737107</td>\n",
       "    </tr>\n",
       "    <tr>\n",
       "      <th>2018-03-08</th>\n",
       "      <td>0.577551</td>\n",
       "      <td>0.862851</td>\n",
       "      <td>0.418455</td>\n",
       "      <td>0.883748</td>\n",
       "    </tr>\n",
       "    <tr>\n",
       "      <th>2018-03-09</th>\n",
       "      <td>0.626844</td>\n",
       "      <td>0.122416</td>\n",
       "      <td>0.853633</td>\n",
       "      <td>0.250027</td>\n",
       "    </tr>\n",
       "    <tr>\n",
       "      <th>2018-03-12</th>\n",
       "      <td>0.719766</td>\n",
       "      <td>0.962878</td>\n",
       "      <td>0.465220</td>\n",
       "      <td>0.785727</td>\n",
       "    </tr>\n",
       "  </tbody>\n",
       "</table>\n",
       "</div>"
      ],
      "text/plain": [
       "                   A         B         C         D\n",
       "2018-03-11  0.307415  0.664009  0.870730  0.047043\n",
       "2018-03-10  0.434633  0.919411  0.396811  0.534292\n",
       "2018-03-13  0.572713  0.569455  0.874932  0.737107\n",
       "2018-03-08  0.577551  0.862851  0.418455  0.883748\n",
       "2018-03-09  0.626844  0.122416  0.853633  0.250027\n",
       "2018-03-12  0.719766  0.962878  0.465220  0.785727"
      ]
     },
     "execution_count": 3,
     "metadata": {},
     "output_type": "execute_result"
    }
   ],
   "source": [
    "# View\n",
    "n = 4\n",
    "# View head <=> SELECT * TOP n\n",
    "df.head(n)\n",
    "\n",
    "# View index\n",
    "df.index\n",
    "\n",
    "# View Columns Name\n",
    "df.columns\n",
    "\n",
    "# Get length of columns name\n",
    "len(df.columns)\n",
    "\n",
    "# Get describe of columns\n",
    "df.describe()\n",
    "\n",
    "# Tranpose of matrix\n",
    "df.T\n",
    "    # or\n",
    "df.transpose()\n",
    "\n",
    "#Sort \n",
    "sort_colName = 'A'\n",
    "df.sort_values(sort_colName)"
   ]
  },
  {
   "cell_type": "code",
   "execution_count": 73,
   "metadata": {},
   "outputs": [],
   "source": [
    "## SELECT"
   ]
  },
  {
   "cell_type": "code",
   "execution_count": 74,
   "metadata": {},
   "outputs": [
    {
     "data": {
      "text/html": [
       "<div>\n",
       "<style scoped>\n",
       "    .dataframe tbody tr th:only-of-type {\n",
       "        vertical-align: middle;\n",
       "    }\n",
       "\n",
       "    .dataframe tbody tr th {\n",
       "        vertical-align: top;\n",
       "    }\n",
       "\n",
       "    .dataframe thead th {\n",
       "        text-align: right;\n",
       "    }\n",
       "</style>\n",
       "<table border=\"1\" class=\"dataframe\">\n",
       "  <thead>\n",
       "    <tr style=\"text-align: right;\">\n",
       "      <th></th>\n",
       "      <th>A</th>\n",
       "      <th>B</th>\n",
       "      <th>C</th>\n",
       "    </tr>\n",
       "  </thead>\n",
       "  <tbody>\n",
       "    <tr>\n",
       "      <th>2018-03-08</th>\n",
       "      <td>0.173074</td>\n",
       "      <td>0.175820</td>\n",
       "      <td>0.197418</td>\n",
       "    </tr>\n",
       "    <tr>\n",
       "      <th>2018-03-09</th>\n",
       "      <td>0.197285</td>\n",
       "      <td>0.612242</td>\n",
       "      <td>0.050971</td>\n",
       "    </tr>\n",
       "    <tr>\n",
       "      <th>2018-03-10</th>\n",
       "      <td>0.460687</td>\n",
       "      <td>0.085754</td>\n",
       "      <td>0.080686</td>\n",
       "    </tr>\n",
       "  </tbody>\n",
       "</table>\n",
       "</div>"
      ],
      "text/plain": [
       "                   A         B         C\n",
       "2018-03-08  0.173074  0.175820  0.197418\n",
       "2018-03-09  0.197285  0.612242  0.050971\n",
       "2018-03-10  0.460687  0.085754  0.080686"
      ]
     },
     "execution_count": 74,
     "metadata": {},
     "output_type": "execute_result"
    }
   ],
   "source": [
    "# Select A\n",
    "col_name = 'A'\n",
    "df[col_name]\n",
    "\n",
    "# Chú ý : Iloc khác loc chỗ loc chỉ cho phép Input là String\n",
    "# Trong khi loc cho phép input là int\n",
    "# Select with index, index of values is a date \n",
    "\n",
    "df['20180202' : '20180310']\n",
    "row_from = '20180302'\n",
    "row_to = '20180310'\n",
    "\n",
    "col_from = 'A'\n",
    "col_to = 'C'\n",
    "\n",
    "df.loc[row_from : row_to, col_from : col_to]\n",
    "\n",
    "\n",
    "# Select with iloc\n",
    "row_from = 0\n",
    "row_to = 3\n",
    "\n",
    "col_from = 0\n",
    "col_to = 3\n",
    "\n",
    "df.iloc[row_from: row_to, col_from : col_to]"
   ]
  },
  {
   "cell_type": "code",
   "execution_count": 153,
   "metadata": {},
   "outputs": [
    {
     "data": {
      "text/html": [
       "<div>\n",
       "<style scoped>\n",
       "    .dataframe tbody tr th:only-of-type {\n",
       "        vertical-align: middle;\n",
       "    }\n",
       "\n",
       "    .dataframe tbody tr th {\n",
       "        vertical-align: top;\n",
       "    }\n",
       "\n",
       "    .dataframe thead th {\n",
       "        text-align: right;\n",
       "    }\n",
       "</style>\n",
       "<table border=\"1\" class=\"dataframe\">\n",
       "  <thead>\n",
       "    <tr style=\"text-align: right;\">\n",
       "      <th></th>\n",
       "      <th>A</th>\n",
       "      <th>B</th>\n",
       "      <th>C</th>\n",
       "      <th>D</th>\n",
       "      <th>E</th>\n",
       "    </tr>\n",
       "  </thead>\n",
       "  <tbody>\n",
       "    <tr>\n",
       "      <th>2018-03-08</th>\n",
       "      <td>0.173074</td>\n",
       "      <td>0.175820</td>\n",
       "      <td>0.197418</td>\n",
       "      <td>0.138293</td>\n",
       "      <td>1</td>\n",
       "    </tr>\n",
       "    <tr>\n",
       "      <th>2018-03-09</th>\n",
       "      <td>0.197285</td>\n",
       "      <td>0.612242</td>\n",
       "      <td>0.050971</td>\n",
       "      <td>0.326187</td>\n",
       "      <td>1</td>\n",
       "    </tr>\n",
       "    <tr>\n",
       "      <th>2018-03-10</th>\n",
       "      <td>0.460687</td>\n",
       "      <td>0.085754</td>\n",
       "      <td>0.080686</td>\n",
       "      <td>0.579857</td>\n",
       "      <td>1</td>\n",
       "    </tr>\n",
       "  </tbody>\n",
       "</table>\n",
       "</div>"
      ],
      "text/plain": [
       "                   A         B         C         D  E\n",
       "2018-03-08  0.173074  0.175820  0.197418  0.138293  1\n",
       "2018-03-09  0.197285  0.612242  0.050971  0.326187  1\n",
       "2018-03-10  0.460687  0.085754  0.080686  0.579857  1"
      ]
     },
     "execution_count": 153,
     "metadata": {},
     "output_type": "execute_result"
    }
   ],
   "source": [
    "# Filter Data\n",
    "\n",
    "# One condition\n",
    "df[df.A > 0.3]\n",
    "\n",
    "df[df.iloc[:,0] > 0.3]\n",
    "\n",
    "temp = df[ df > 0.3 ]\n",
    "\n",
    "# Reindex\n",
    "# Add Columns E into Table\n",
    "df1 = df.reindex(index = dates[0:3], columns=list(df.columns) + ['E'])\n",
    "\n",
    "# Fix Values for new columns\n",
    "df1.loc[:, 'E'] = 1\n",
    "df1\n",
    "\n",
    "# Drop columns with 1 is axis (Columns mean)\n",
    "\n"
   ]
  },
  {
   "cell_type": "code",
   "execution_count": 156,
   "metadata": {},
   "outputs": [
    {
     "data": {
      "text/plain": [
       "<function numpy.core.fromnumeric.cumsum>"
      ]
     },
     "execution_count": 156,
     "metadata": {},
     "output_type": "execute_result"
    }
   ],
   "source": [
    "temp = np.cumsum\n",
    "temp"
   ]
  },
  {
   "cell_type": "code",
   "execution_count": null,
   "metadata": {},
   "outputs": [],
   "source": []
  },
  {
   "cell_type": "code",
   "execution_count": null,
   "metadata": {},
   "outputs": [],
   "source": []
  }
 ],
 "metadata": {
  "kernelspec": {
   "display_name": "Python 3",
   "language": "python",
   "name": "python3"
  },
  "language_info": {
   "codemirror_mode": {
    "name": "ipython",
    "version": 3
   },
   "file_extension": ".py",
   "mimetype": "text/x-python",
   "name": "python",
   "nbconvert_exporter": "python",
   "pygments_lexer": "ipython3",
   "version": "3.6.4"
  }
 },
 "nbformat": 4,
 "nbformat_minor": 2
}
