{
 "cells": [
  {
   "cell_type": "code",
   "execution_count": 15,
   "metadata": {},
   "outputs": [
    {
     "name": "stdout",
     "output_type": "stream",
     "text": [
      "Error :  division by zero\n",
      "Ignore to continue..\n"
     ]
    }
   ],
   "source": [
    "# Exception can ban\n",
    "d = 0\n",
    "try : \n",
    "    value = 10/d\n",
    "    print('Values is ',value)\n",
    "except ZeroDivisionError as e:\n",
    "    print('Error : ',str(e))\n",
    "    print('Ignore to continue..')\n",
    "    "
   ]
  },
  {
   "cell_type": "code",
   "execution_count": 16,
   "metadata": {},
   "outputs": [],
   "source": [
    "# Xu ly check tuoi, voi class duoc thua ke tu Exception\n",
    "\n",
    "class AgeException(Exception):\n",
    "    def __init__(self, msg, age):\n",
    "        super().__init__(msg)\n",
    "        self.age = age\n",
    "        \n",
    "class TooYoungException(AgeException):\n",
    "    def __init__(self, msg, age):\n",
    "        super().__init__(msg, age)\n",
    "        \n",
    "class TooOldException(AgeException):\n",
    "    def __init__(self, msg, age):\n",
    "        super().__init__(msg, age)\n",
    "        \n",
    "def checkAge(age):\n",
    "    if(age < 18):\n",
    "        raise TooYoungException('Age' + str(age) + 'Too Young', age)\n",
    "    \n",
    "    elif(age > 40):\n",
    "        raise TooOldException('Age' + str(age) + 'Too Old', age)\n",
    "    \n",
    "    print('Age' + str('age') + 'Oke')"
   ]
  },
  {
   "cell_type": "code",
   "execution_count": 17,
   "metadata": {},
   "outputs": [
    {
     "name": "stdout",
     "output_type": "stream",
     "text": [
      "You are too old, not pass\n",
      "Cause Message :  Age90Too Old\n",
      "Invalid age :  90\n"
     ]
    }
   ],
   "source": [
    "age = 90\n",
    "\n",
    "try:\n",
    "    checkAge(age)\n",
    "    print('you pass')\n",
    "except TooYoungException as e:\n",
    "    print('You are too young, not pass')\n",
    "    print('Couse Messege :', str(e))\n",
    "    print('Invalid age : ',e.age)\n",
    "    \n",
    "except TooOldException as e:\n",
    "    print('You are too old, not pass')\n",
    "    print('Cause Message : ', str(e))\n",
    "    print('Invalid age : ', e.age)"
   ]
  },
  {
   "cell_type": "code",
   "execution_count": null,
   "metadata": {},
   "outputs": [],
   "source": []
  },
  {
   "cell_type": "code",
   "execution_count": null,
   "metadata": {},
   "outputs": [],
   "source": []
  }
 ],
 "metadata": {
  "kernelspec": {
   "display_name": "Python 3",
   "language": "python",
   "name": "python3"
  },
  "language_info": {
   "codemirror_mode": {
    "name": "ipython",
    "version": 3
   },
   "file_extension": ".py",
   "mimetype": "text/x-python",
   "name": "python",
   "nbconvert_exporter": "python",
   "pygments_lexer": "ipython3",
   "version": "3.6.4"
  }
 },
 "nbformat": 4,
 "nbformat_minor": 2
}
